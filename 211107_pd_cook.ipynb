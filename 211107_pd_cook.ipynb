{
  "nbformat": 4,
  "nbformat_minor": 0,
  "metadata": {
    "colab": {
      "name": "211107_pd_cook.ipynb",
      "provenance": [],
      "authorship_tag": "ABX9TyNQvNqVVVTHxSAJuTlpUJ29",
      "include_colab_link": true
    },
    "kernelspec": {
      "name": "python3",
      "display_name": "Python 3"
    },
    "language_info": {
      "name": "python"
    }
  },
  "cells": [
    {
      "cell_type": "markdown",
      "metadata": {
        "id": "view-in-github",
        "colab_type": "text"
      },
      "source": [
        "<a href=\"https://colab.research.google.com/github/poet1010/colab/blob/main/211107_pd_cook.ipynb\" target=\"_parent\"><img src=\"https://colab.research.google.com/assets/colab-badge.svg\" alt=\"Open In Colab\"/></a>"
      ]
    },
    {
      "cell_type": "code",
      "metadata": {
        "id": "Hv6F33fs8GrS"
      },
      "source": [
        "import pandas as pd\n",
        "import numpy as np"
      ],
      "execution_count": null,
      "outputs": []
    },
    {
      "cell_type": "code",
      "metadata": {
        "id": "PSCi9DnI8zNC"
      },
      "source": [
        "import os"
      ],
      "execution_count": null,
      "outputs": []
    },
    {
      "cell_type": "code",
      "metadata": {
        "id": "0sUOhp2H8Qq-"
      },
      "source": [
        "pd.set_option('max_columns', 10, 'max_rows', 15)"
      ],
      "execution_count": null,
      "outputs": []
    },
    {
      "cell_type": "code",
      "metadata": {
        "colab": {
          "base_uri": "https://localhost:8080/",
          "height": 35
        },
        "id": "tFWTd1rV8clS",
        "outputId": "a16e04d9-7996-4771-bf9e-3d926b7b0bb8"
      },
      "source": [
        "%pwd"
      ],
      "execution_count": null,
      "outputs": [
        {
          "output_type": "execute_result",
          "data": {
            "application/vnd.google.colaboratory.intrinsic+json": {
              "type": "string"
            },
            "text/plain": [
              "'/content'"
            ]
          },
          "metadata": {},
          "execution_count": 3
        }
      ]
    },
    {
      "cell_type": "code",
      "metadata": {
        "id": "riMvY3kb8eNp"
      },
      "source": [
        "os.chdir('/content/drive/MyDrive/code_one/pd_cook_data')"
      ],
      "execution_count": null,
      "outputs": []
    },
    {
      "cell_type": "code",
      "metadata": {
        "id": "ibw5fv8u8xqt"
      },
      "source": [
        "movie = pd.read_csv('movie.csv')"
      ],
      "execution_count": null,
      "outputs": []
    },
    {
      "cell_type": "code",
      "metadata": {
        "colab": {
          "base_uri": "https://localhost:8080/",
          "height": 253
        },
        "id": "mJ8eNGhO88MM",
        "outputId": "d2387bef-36a3-4963-de98-3dd1560cd25a"
      },
      "source": [
        "movie.head()"
      ],
      "execution_count": null,
      "outputs": [
        {
          "output_type": "execute_result",
          "data": {
            "text/html": [
              "<div>\n",
              "<style scoped>\n",
              "    .dataframe tbody tr th:only-of-type {\n",
              "        vertical-align: middle;\n",
              "    }\n",
              "\n",
              "    .dataframe tbody tr th {\n",
              "        vertical-align: top;\n",
              "    }\n",
              "\n",
              "    .dataframe thead th {\n",
              "        text-align: right;\n",
              "    }\n",
              "</style>\n",
              "<table border=\"1\" class=\"dataframe\">\n",
              "  <thead>\n",
              "    <tr style=\"text-align: right;\">\n",
              "      <th></th>\n",
              "      <th>color</th>\n",
              "      <th>director_name</th>\n",
              "      <th>num_critic_for_reviews</th>\n",
              "      <th>duration</th>\n",
              "      <th>...</th>\n",
              "      <th>actor_2_facebook_likes</th>\n",
              "      <th>imdb_score</th>\n",
              "      <th>aspect_ratio</th>\n",
              "      <th>movie_facebook_likes</th>\n",
              "    </tr>\n",
              "  </thead>\n",
              "  <tbody>\n",
              "    <tr>\n",
              "      <th>0</th>\n",
              "      <td>Color</td>\n",
              "      <td>James Cameron</td>\n",
              "      <td>723.0</td>\n",
              "      <td>178.0</td>\n",
              "      <td>...</td>\n",
              "      <td>936.0</td>\n",
              "      <td>7.9</td>\n",
              "      <td>1.78</td>\n",
              "      <td>33000</td>\n",
              "    </tr>\n",
              "    <tr>\n",
              "      <th>1</th>\n",
              "      <td>Color</td>\n",
              "      <td>Gore Verbinski</td>\n",
              "      <td>302.0</td>\n",
              "      <td>169.0</td>\n",
              "      <td>...</td>\n",
              "      <td>5000.0</td>\n",
              "      <td>7.1</td>\n",
              "      <td>2.35</td>\n",
              "      <td>0</td>\n",
              "    </tr>\n",
              "    <tr>\n",
              "      <th>2</th>\n",
              "      <td>Color</td>\n",
              "      <td>Sam Mendes</td>\n",
              "      <td>602.0</td>\n",
              "      <td>148.0</td>\n",
              "      <td>...</td>\n",
              "      <td>393.0</td>\n",
              "      <td>6.8</td>\n",
              "      <td>2.35</td>\n",
              "      <td>85000</td>\n",
              "    </tr>\n",
              "    <tr>\n",
              "      <th>3</th>\n",
              "      <td>Color</td>\n",
              "      <td>Christopher Nolan</td>\n",
              "      <td>813.0</td>\n",
              "      <td>164.0</td>\n",
              "      <td>...</td>\n",
              "      <td>23000.0</td>\n",
              "      <td>8.5</td>\n",
              "      <td>2.35</td>\n",
              "      <td>164000</td>\n",
              "    </tr>\n",
              "    <tr>\n",
              "      <th>4</th>\n",
              "      <td>NaN</td>\n",
              "      <td>Doug Walker</td>\n",
              "      <td>NaN</td>\n",
              "      <td>NaN</td>\n",
              "      <td>...</td>\n",
              "      <td>12.0</td>\n",
              "      <td>7.1</td>\n",
              "      <td>NaN</td>\n",
              "      <td>0</td>\n",
              "    </tr>\n",
              "  </tbody>\n",
              "</table>\n",
              "<p>5 rows × 28 columns</p>\n",
              "</div>"
            ],
            "text/plain": [
              "   color      director_name  num_critic_for_reviews  duration  ...  \\\n",
              "0  Color      James Cameron                   723.0     178.0  ...   \n",
              "1  Color     Gore Verbinski                   302.0     169.0  ...   \n",
              "2  Color         Sam Mendes                   602.0     148.0  ...   \n",
              "3  Color  Christopher Nolan                   813.0     164.0  ...   \n",
              "4    NaN        Doug Walker                     NaN       NaN  ...   \n",
              "\n",
              "   actor_2_facebook_likes  imdb_score aspect_ratio  movie_facebook_likes  \n",
              "0                   936.0         7.9         1.78                 33000  \n",
              "1                  5000.0         7.1         2.35                     0  \n",
              "2                   393.0         6.8         2.35                 85000  \n",
              "3                 23000.0         8.5         2.35                164000  \n",
              "4                    12.0         7.1          NaN                     0  \n",
              "\n",
              "[5 rows x 28 columns]"
            ]
          },
          "metadata": {},
          "execution_count": 8
        }
      ]
    },
    {
      "cell_type": "code",
      "metadata": {
        "colab": {
          "base_uri": "https://localhost:8080/"
        },
        "id": "7wBmmqvL89oz",
        "outputId": "61fdb5f2-4235-4922-e689-11fdb5276ef1"
      },
      "source": [
        "movie.columns"
      ],
      "execution_count": null,
      "outputs": [
        {
          "output_type": "execute_result",
          "data": {
            "text/plain": [
              "Index(['color', 'director_name', 'num_critic_for_reviews', 'duration',\n",
              "       'director_facebook_likes', 'actor_3_facebook_likes', 'actor_2_name',\n",
              "       'actor_1_facebook_likes', 'gross', 'genres', 'actor_1_name',\n",
              "       'movie_title', 'num_voted_users', 'cast_total_facebook_likes',\n",
              "       'actor_3_name', 'facenumber_in_poster', 'plot_keywords',\n",
              "       'movie_imdb_link', 'num_user_for_reviews', 'language', 'country',\n",
              "       'content_rating', 'budget', 'title_year', 'actor_2_facebook_likes',\n",
              "       'imdb_score', 'aspect_ratio', 'movie_facebook_likes'],\n",
              "      dtype='object')"
            ]
          },
          "metadata": {},
          "execution_count": 9
        }
      ]
    },
    {
      "cell_type": "code",
      "metadata": {
        "id": "f2DOYNa69BMn"
      },
      "source": [
        "columns = movie.columns\n",
        "index = movie.index\n",
        "data = movie.values"
      ],
      "execution_count": null,
      "outputs": []
    },
    {
      "cell_type": "code",
      "metadata": {
        "colab": {
          "base_uri": "https://localhost:8080/"
        },
        "id": "w1Rzc2rs9hxP",
        "outputId": "1a9f0639-ba09-4d23-c69d-34e7b76fd1f8"
      },
      "source": [
        "index"
      ],
      "execution_count": null,
      "outputs": [
        {
          "output_type": "execute_result",
          "data": {
            "text/plain": [
              "RangeIndex(start=0, stop=4916, step=1)"
            ]
          },
          "metadata": {},
          "execution_count": 11
        }
      ]
    },
    {
      "cell_type": "code",
      "metadata": {
        "colab": {
          "base_uri": "https://localhost:8080/"
        },
        "id": "z9cVQvrS9jV5",
        "outputId": "cf389f14-63e0-4d65-9a12-61e7a7c6de66"
      },
      "source": [
        "data"
      ],
      "execution_count": null,
      "outputs": [
        {
          "output_type": "execute_result",
          "data": {
            "text/plain": [
              "array([['Color', 'James Cameron', 723.0, ..., 7.9, 1.78, 33000],\n",
              "       ['Color', 'Gore Verbinski', 302.0, ..., 7.1, 2.35, 0],\n",
              "       ['Color', 'Sam Mendes', 602.0, ..., 6.8, 2.35, 85000],\n",
              "       ...,\n",
              "       ['Color', 'Benjamin Roberds', 13.0, ..., 6.3, nan, 16],\n",
              "       ['Color', 'Daniel Hsia', 14.0, ..., 6.3, 2.35, 660],\n",
              "       ['Color', 'Jon Gunn', 43.0, ..., 6.6, 1.85, 456]], dtype=object)"
            ]
          },
          "metadata": {},
          "execution_count": 12
        }
      ]
    },
    {
      "cell_type": "code",
      "metadata": {
        "colab": {
          "base_uri": "https://localhost:8080/"
        },
        "id": "4SS7JqVo9lHU",
        "outputId": "adf711ad-4a46-478e-90de-8b3e6ebd297a"
      },
      "source": [
        "type(index)"
      ],
      "execution_count": null,
      "outputs": [
        {
          "output_type": "execute_result",
          "data": {
            "text/plain": [
              "pandas.core.indexes.range.RangeIndex"
            ]
          },
          "metadata": {},
          "execution_count": 13
        }
      ]
    },
    {
      "cell_type": "code",
      "metadata": {
        "colab": {
          "base_uri": "https://localhost:8080/"
        },
        "id": "k0BilS9p-gph",
        "outputId": "a440d48b-1751-4527-d305-b723da86f3b8"
      },
      "source": [
        "type(columns)"
      ],
      "execution_count": null,
      "outputs": [
        {
          "output_type": "execute_result",
          "data": {
            "text/plain": [
              "pandas.core.indexes.base.Index"
            ]
          },
          "metadata": {},
          "execution_count": 14
        }
      ]
    },
    {
      "cell_type": "code",
      "metadata": {
        "colab": {
          "base_uri": "https://localhost:8080/"
        },
        "id": "I8iTbjzL-nP1",
        "outputId": "de55b07b-f74f-436d-ed33-1f07c21a773d"
      },
      "source": [
        "index.values"
      ],
      "execution_count": null,
      "outputs": [
        {
          "output_type": "execute_result",
          "data": {
            "text/plain": [
              "array([   0,    1,    2, ..., 4913, 4914, 4915])"
            ]
          },
          "metadata": {},
          "execution_count": 15
        }
      ]
    },
    {
      "cell_type": "code",
      "metadata": {
        "colab": {
          "base_uri": "https://localhost:8080/"
        },
        "id": "Ts1Lawlx-uer",
        "outputId": "e24d12f4-97d2-4a72-cb4c-6a7d96e46795"
      },
      "source": [
        "columns.values"
      ],
      "execution_count": null,
      "outputs": [
        {
          "output_type": "execute_result",
          "data": {
            "text/plain": [
              "array(['color', 'director_name', 'num_critic_for_reviews', 'duration',\n",
              "       'director_facebook_likes', 'actor_3_facebook_likes',\n",
              "       'actor_2_name', 'actor_1_facebook_likes', 'gross', 'genres',\n",
              "       'actor_1_name', 'movie_title', 'num_voted_users',\n",
              "       'cast_total_facebook_likes', 'actor_3_name',\n",
              "       'facenumber_in_poster', 'plot_keywords', 'movie_imdb_link',\n",
              "       'num_user_for_reviews', 'language', 'country', 'content_rating',\n",
              "       'budget', 'title_year', 'actor_2_facebook_likes', 'imdb_score',\n",
              "       'aspect_ratio', 'movie_facebook_likes'], dtype=object)"
            ]
          },
          "metadata": {},
          "execution_count": 16
        }
      ]
    },
    {
      "cell_type": "code",
      "metadata": {
        "colab": {
          "base_uri": "https://localhost:8080/"
        },
        "id": "dmMWOX6L-zPs",
        "outputId": "25a1f332-2f65-45b6-94c0-54afb1a79219"
      },
      "source": [
        "movie.dtypes"
      ],
      "execution_count": null,
      "outputs": [
        {
          "output_type": "execute_result",
          "data": {
            "text/plain": [
              "color                       object\n",
              "director_name               object\n",
              "num_critic_for_reviews     float64\n",
              "duration                   float64\n",
              "director_facebook_likes    float64\n",
              "                            ...   \n",
              "title_year                 float64\n",
              "actor_2_facebook_likes     float64\n",
              "imdb_score                 float64\n",
              "aspect_ratio               float64\n",
              "movie_facebook_likes         int64\n",
              "Length: 28, dtype: object"
            ]
          },
          "metadata": {},
          "execution_count": 17
        }
      ]
    },
    {
      "cell_type": "code",
      "metadata": {
        "colab": {
          "base_uri": "https://localhost:8080/",
          "height": 351
        },
        "id": "3L9ogedw--K1",
        "outputId": "18fe9f17-b6b0-4be9-d161-060960fd6e0b"
      },
      "source": [
        "movie.get_dtype_counts()"
      ],
      "execution_count": null,
      "outputs": [
        {
          "output_type": "error",
          "ename": "AttributeError",
          "evalue": "ignored",
          "traceback": [
            "\u001b[0;31m---------------------------------------------------------------------------\u001b[0m",
            "\u001b[0;31mAttributeError\u001b[0m                            Traceback (most recent call last)",
            "\u001b[0;32m<ipython-input-20-29ca8bca59d1>\u001b[0m in \u001b[0;36m<module>\u001b[0;34m()\u001b[0m\n\u001b[0;32m----> 1\u001b[0;31m \u001b[0mmovie\u001b[0m\u001b[0;34m.\u001b[0m\u001b[0mget_dtype_counts\u001b[0m\u001b[0;34m(\u001b[0m\u001b[0;34m)\u001b[0m\u001b[0;34m\u001b[0m\u001b[0;34m\u001b[0m\u001b[0m\n\u001b[0m",
            "\u001b[0;32m/usr/local/lib/python3.7/dist-packages/pandas/core/generic.py\u001b[0m in \u001b[0;36m__getattr__\u001b[0;34m(self, name)\u001b[0m\n\u001b[1;32m   5139\u001b[0m             \u001b[0;32mif\u001b[0m \u001b[0mself\u001b[0m\u001b[0;34m.\u001b[0m\u001b[0m_info_axis\u001b[0m\u001b[0;34m.\u001b[0m\u001b[0m_can_hold_identifiers_and_holds_name\u001b[0m\u001b[0;34m(\u001b[0m\u001b[0mname\u001b[0m\u001b[0;34m)\u001b[0m\u001b[0;34m:\u001b[0m\u001b[0;34m\u001b[0m\u001b[0;34m\u001b[0m\u001b[0m\n\u001b[1;32m   5140\u001b[0m                 \u001b[0;32mreturn\u001b[0m \u001b[0mself\u001b[0m\u001b[0;34m[\u001b[0m\u001b[0mname\u001b[0m\u001b[0;34m]\u001b[0m\u001b[0;34m\u001b[0m\u001b[0;34m\u001b[0m\u001b[0m\n\u001b[0;32m-> 5141\u001b[0;31m             \u001b[0;32mreturn\u001b[0m \u001b[0mobject\u001b[0m\u001b[0;34m.\u001b[0m\u001b[0m__getattribute__\u001b[0m\u001b[0;34m(\u001b[0m\u001b[0mself\u001b[0m\u001b[0;34m,\u001b[0m \u001b[0mname\u001b[0m\u001b[0;34m)\u001b[0m\u001b[0;34m\u001b[0m\u001b[0;34m\u001b[0m\u001b[0m\n\u001b[0m\u001b[1;32m   5142\u001b[0m \u001b[0;34m\u001b[0m\u001b[0m\n\u001b[1;32m   5143\u001b[0m     \u001b[0;32mdef\u001b[0m \u001b[0m__setattr__\u001b[0m\u001b[0;34m(\u001b[0m\u001b[0mself\u001b[0m\u001b[0;34m,\u001b[0m \u001b[0mname\u001b[0m\u001b[0;34m:\u001b[0m \u001b[0mstr\u001b[0m\u001b[0;34m,\u001b[0m \u001b[0mvalue\u001b[0m\u001b[0;34m)\u001b[0m \u001b[0;34m->\u001b[0m \u001b[0;32mNone\u001b[0m\u001b[0;34m:\u001b[0m\u001b[0;34m\u001b[0m\u001b[0;34m\u001b[0m\u001b[0m\n",
            "\u001b[0;31mAttributeError\u001b[0m: 'DataFrame' object has no attribute 'get_dtype_counts'"
          ]
        }
      ]
    },
    {
      "cell_type": "code",
      "metadata": {
        "colab": {
          "base_uri": "https://localhost:8080/"
        },
        "id": "jQgsDt_K_Fg8",
        "outputId": "c841a047-85a5-4d40-8682-4ab3b53d806a"
      },
      "source": [
        "movie['director_name'].value_counts()[0:10]"
      ],
      "execution_count": null,
      "outputs": [
        {
          "output_type": "execute_result",
          "data": {
            "text/plain": [
              "Steven Spielberg     26\n",
              "Woody Allen          22\n",
              "Clint Eastwood       20\n",
              "Martin Scorsese      20\n",
              "Ridley Scott         16\n",
              "Spike Lee            16\n",
              "Steven Soderbergh    15\n",
              "Renny Harlin         15\n",
              "Oliver Stone         14\n",
              "Tim Burton           14\n",
              "Name: director_name, dtype: int64"
            ]
          },
          "metadata": {},
          "execution_count": 25
        }
      ]
    },
    {
      "cell_type": "code",
      "metadata": {
        "colab": {
          "base_uri": "https://localhost:8080/"
        },
        "id": "cYQxMxq__mSr",
        "outputId": "9d9e6fd4-96ae-4ec4-e2a4-40fcd1fd1a8e"
      },
      "source": [
        "type(movie['director_name'])"
      ],
      "execution_count": null,
      "outputs": [
        {
          "output_type": "execute_result",
          "data": {
            "text/plain": [
              "pandas.core.series.Series"
            ]
          },
          "metadata": {},
          "execution_count": 26
        }
      ]
    },
    {
      "cell_type": "code",
      "metadata": {
        "colab": {
          "base_uri": "https://localhost:8080/",
          "height": 35
        },
        "id": "vLJU_KYYAG-m",
        "outputId": "f0409c8b-ea42-40de-aee4-d9eb69451d5d"
      },
      "source": [
        "director = movie['director_name']\n",
        "director.name"
      ],
      "execution_count": null,
      "outputs": [
        {
          "output_type": "execute_result",
          "data": {
            "application/vnd.google.colaboratory.intrinsic+json": {
              "type": "string"
            },
            "text/plain": [
              "'director_name'"
            ]
          },
          "metadata": {},
          "execution_count": 28
        }
      ]
    },
    {
      "cell_type": "code",
      "metadata": {
        "colab": {
          "base_uri": "https://localhost:8080/",
          "height": 204
        },
        "id": "kJ1qre_mAUHR",
        "outputId": "933ceab2-7dc5-43f1-8ac3-7f2358fef936"
      },
      "source": [
        "director.to_frame().head()"
      ],
      "execution_count": null,
      "outputs": [
        {
          "output_type": "execute_result",
          "data": {
            "text/html": [
              "<div>\n",
              "<style scoped>\n",
              "    .dataframe tbody tr th:only-of-type {\n",
              "        vertical-align: middle;\n",
              "    }\n",
              "\n",
              "    .dataframe tbody tr th {\n",
              "        vertical-align: top;\n",
              "    }\n",
              "\n",
              "    .dataframe thead th {\n",
              "        text-align: right;\n",
              "    }\n",
              "</style>\n",
              "<table border=\"1\" class=\"dataframe\">\n",
              "  <thead>\n",
              "    <tr style=\"text-align: right;\">\n",
              "      <th></th>\n",
              "      <th>director_name</th>\n",
              "    </tr>\n",
              "  </thead>\n",
              "  <tbody>\n",
              "    <tr>\n",
              "      <th>0</th>\n",
              "      <td>James Cameron</td>\n",
              "    </tr>\n",
              "    <tr>\n",
              "      <th>1</th>\n",
              "      <td>Gore Verbinski</td>\n",
              "    </tr>\n",
              "    <tr>\n",
              "      <th>2</th>\n",
              "      <td>Sam Mendes</td>\n",
              "    </tr>\n",
              "    <tr>\n",
              "      <th>3</th>\n",
              "      <td>Christopher Nolan</td>\n",
              "    </tr>\n",
              "    <tr>\n",
              "      <th>4</th>\n",
              "      <td>Doug Walker</td>\n",
              "    </tr>\n",
              "  </tbody>\n",
              "</table>\n",
              "</div>"
            ],
            "text/plain": [
              "       director_name\n",
              "0      James Cameron\n",
              "1     Gore Verbinski\n",
              "2         Sam Mendes\n",
              "3  Christopher Nolan\n",
              "4        Doug Walker"
            ]
          },
          "metadata": {},
          "execution_count": 29
        }
      ]
    },
    {
      "cell_type": "code",
      "metadata": {
        "colab": {
          "base_uri": "https://localhost:8080/"
        },
        "id": "v-0Z5z9-AbCC",
        "outputId": "765a3dc6-1993-48af-d87c-8a38d35c4fd9"
      },
      "source": [
        "s_attr_methods = set(dir(pd.Series))\n",
        "len(s_attr_methods)"
      ],
      "execution_count": null,
      "outputs": [
        {
          "output_type": "execute_result",
          "data": {
            "text/plain": [
              "425"
            ]
          },
          "metadata": {},
          "execution_count": 30
        }
      ]
    },
    {
      "cell_type": "code",
      "metadata": {
        "colab": {
          "base_uri": "https://localhost:8080/"
        },
        "id": "r7ETeD4GA4nq",
        "outputId": "1d05fb8c-9294-4fbf-98a1-a434adff19ec"
      },
      "source": [
        "df_attr_methods = set(dir(pd.DataFrame))\n",
        "len(df_attr_methods)"
      ],
      "execution_count": null,
      "outputs": [
        {
          "output_type": "execute_result",
          "data": {
            "text/plain": [
              "427"
            ]
          },
          "metadata": {},
          "execution_count": 32
        }
      ]
    },
    {
      "cell_type": "code",
      "metadata": {
        "id": "KtUl0sXNBHKM"
      },
      "source": [
        "actor_1_fb_likes = movie['actor_1_facebook_likes']"
      ],
      "execution_count": null,
      "outputs": []
    },
    {
      "cell_type": "code",
      "metadata": {
        "colab": {
          "base_uri": "https://localhost:8080/"
        },
        "id": "MARRMzmvBaLT",
        "outputId": "ac44cb80-cd0e-4b32-b6d8-df3f74af59a1"
      },
      "source": [
        "actor_1_fb_likes.head()"
      ],
      "execution_count": null,
      "outputs": [
        {
          "output_type": "execute_result",
          "data": {
            "text/plain": [
              "0     1000.0\n",
              "1    40000.0\n",
              "2    11000.0\n",
              "3    27000.0\n",
              "4      131.0\n",
              "Name: actor_1_facebook_likes, dtype: float64"
            ]
          },
          "metadata": {},
          "execution_count": 35
        }
      ]
    },
    {
      "cell_type": "code",
      "metadata": {
        "colab": {
          "base_uri": "https://localhost:8080/"
        },
        "id": "AfyrBlbmBhOb",
        "outputId": "77f7d4f0-02bb-4c32-842c-c8836f884d7e"
      },
      "source": [
        "pd.set_option('max_rows', 10)\n",
        "director.value_counts()"
      ],
      "execution_count": null,
      "outputs": [
        {
          "output_type": "execute_result",
          "data": {
            "text/plain": [
              "Steven Spielberg    26\n",
              "Woody Allen         22\n",
              "Clint Eastwood      20\n",
              "Martin Scorsese     20\n",
              "Ridley Scott        16\n",
              "                    ..\n",
              "Lance Kawas          1\n",
              "Johnnie To           1\n",
              "Jeff Nathanson       1\n",
              "Joe Chappelle        1\n",
              "Doug Atchison        1\n",
              "Name: director_name, Length: 2397, dtype: int64"
            ]
          },
          "metadata": {},
          "execution_count": 37
        }
      ]
    },
    {
      "cell_type": "code",
      "metadata": {
        "colab": {
          "base_uri": "https://localhost:8080/"
        },
        "id": "0gPg-3D2Bz2z",
        "outputId": "7b8c7a6c-f12c-454c-d544-d29bd2086597"
      },
      "source": [
        "actor_1_fb_likes.value_counts()"
      ],
      "execution_count": null,
      "outputs": [
        {
          "output_type": "execute_result",
          "data": {
            "text/plain": [
              "1000.0     436\n",
              "11000.0    206\n",
              "2000.0     189\n",
              "3000.0     150\n",
              "12000.0    131\n",
              "          ... \n",
              "362.0        1\n",
              "216.0        1\n",
              "859.0        1\n",
              "225.0        1\n",
              "334.0        1\n",
              "Name: actor_1_facebook_likes, Length: 877, dtype: int64"
            ]
          },
          "metadata": {},
          "execution_count": 38
        }
      ]
    },
    {
      "cell_type": "code",
      "metadata": {
        "colab": {
          "base_uri": "https://localhost:8080/"
        },
        "id": "eHWzk6bGB8gg",
        "outputId": "c7dff08d-7ba0-4efd-a546-dde9bdc7f763"
      },
      "source": [
        "director.size"
      ],
      "execution_count": null,
      "outputs": [
        {
          "output_type": "execute_result",
          "data": {
            "text/plain": [
              "4916"
            ]
          },
          "metadata": {},
          "execution_count": 39
        }
      ]
    },
    {
      "cell_type": "code",
      "metadata": {
        "colab": {
          "base_uri": "https://localhost:8080/"
        },
        "id": "9AsYIFLtCBCF",
        "outputId": "2f612ba3-9df6-4e67-ea3c-1526824be478"
      },
      "source": [
        "director.shape"
      ],
      "execution_count": null,
      "outputs": [
        {
          "output_type": "execute_result",
          "data": {
            "text/plain": [
              "(4916,)"
            ]
          },
          "metadata": {},
          "execution_count": 40
        }
      ]
    },
    {
      "cell_type": "code",
      "metadata": {
        "colab": {
          "base_uri": "https://localhost:8080/"
        },
        "id": "vbveDnkqCD_j",
        "outputId": "6260b7bf-2132-490b-8589-f22d7917d366"
      },
      "source": [
        "len(director)"
      ],
      "execution_count": null,
      "outputs": [
        {
          "output_type": "execute_result",
          "data": {
            "text/plain": [
              "4916"
            ]
          },
          "metadata": {},
          "execution_count": 41
        }
      ]
    },
    {
      "cell_type": "code",
      "metadata": {
        "colab": {
          "base_uri": "https://localhost:8080/"
        },
        "id": "Yc3aZFv0CFp1",
        "outputId": "3f3b5ae8-d625-497a-a096-d2ec3424ecc2"
      },
      "source": [
        "director.count()"
      ],
      "execution_count": null,
      "outputs": [
        {
          "output_type": "execute_result",
          "data": {
            "text/plain": [
              "4814"
            ]
          },
          "metadata": {},
          "execution_count": 42
        }
      ]
    },
    {
      "cell_type": "code",
      "metadata": {
        "colab": {
          "base_uri": "https://localhost:8080/"
        },
        "id": "isb3JwNDCJQv",
        "outputId": "444a7c89-d8ae-4ed2-dac5-ebb6c4aea795"
      },
      "source": [
        "actor_1_fb_likes.describe()"
      ],
      "execution_count": null,
      "outputs": [
        {
          "output_type": "execute_result",
          "data": {
            "text/plain": [
              "count      4909.000000\n",
              "mean       6494.488491\n",
              "std       15106.986884\n",
              "min           0.000000\n",
              "25%         607.000000\n",
              "50%         982.000000\n",
              "75%       11000.000000\n",
              "max      640000.000000\n",
              "Name: actor_1_facebook_likes, dtype: float64"
            ]
          },
          "metadata": {},
          "execution_count": 43
        }
      ]
    },
    {
      "cell_type": "code",
      "metadata": {
        "colab": {
          "base_uri": "https://localhost:8080/",
          "height": 253
        },
        "id": "J29OqFJaCWKx",
        "outputId": "9fc2be94-7012-469a-b4bf-251cb0448140"
      },
      "source": [
        "movie.head()"
      ],
      "execution_count": null,
      "outputs": [
        {
          "output_type": "execute_result",
          "data": {
            "text/html": [
              "<div>\n",
              "<style scoped>\n",
              "    .dataframe tbody tr th:only-of-type {\n",
              "        vertical-align: middle;\n",
              "    }\n",
              "\n",
              "    .dataframe tbody tr th {\n",
              "        vertical-align: top;\n",
              "    }\n",
              "\n",
              "    .dataframe thead th {\n",
              "        text-align: right;\n",
              "    }\n",
              "</style>\n",
              "<table border=\"1\" class=\"dataframe\">\n",
              "  <thead>\n",
              "    <tr style=\"text-align: right;\">\n",
              "      <th></th>\n",
              "      <th>color</th>\n",
              "      <th>director_name</th>\n",
              "      <th>num_critic_for_reviews</th>\n",
              "      <th>duration</th>\n",
              "      <th>director_facebook_likes</th>\n",
              "      <th>...</th>\n",
              "      <th>title_year</th>\n",
              "      <th>actor_2_facebook_likes</th>\n",
              "      <th>imdb_score</th>\n",
              "      <th>aspect_ratio</th>\n",
              "      <th>movie_facebook_likes</th>\n",
              "    </tr>\n",
              "  </thead>\n",
              "  <tbody>\n",
              "    <tr>\n",
              "      <th>0</th>\n",
              "      <td>Color</td>\n",
              "      <td>James Cameron</td>\n",
              "      <td>723.0</td>\n",
              "      <td>178.0</td>\n",
              "      <td>0.0</td>\n",
              "      <td>...</td>\n",
              "      <td>2009.0</td>\n",
              "      <td>936.0</td>\n",
              "      <td>7.9</td>\n",
              "      <td>1.78</td>\n",
              "      <td>33000</td>\n",
              "    </tr>\n",
              "    <tr>\n",
              "      <th>1</th>\n",
              "      <td>Color</td>\n",
              "      <td>Gore Verbinski</td>\n",
              "      <td>302.0</td>\n",
              "      <td>169.0</td>\n",
              "      <td>563.0</td>\n",
              "      <td>...</td>\n",
              "      <td>2007.0</td>\n",
              "      <td>5000.0</td>\n",
              "      <td>7.1</td>\n",
              "      <td>2.35</td>\n",
              "      <td>0</td>\n",
              "    </tr>\n",
              "    <tr>\n",
              "      <th>2</th>\n",
              "      <td>Color</td>\n",
              "      <td>Sam Mendes</td>\n",
              "      <td>602.0</td>\n",
              "      <td>148.0</td>\n",
              "      <td>0.0</td>\n",
              "      <td>...</td>\n",
              "      <td>2015.0</td>\n",
              "      <td>393.0</td>\n",
              "      <td>6.8</td>\n",
              "      <td>2.35</td>\n",
              "      <td>85000</td>\n",
              "    </tr>\n",
              "    <tr>\n",
              "      <th>3</th>\n",
              "      <td>Color</td>\n",
              "      <td>Christopher Nolan</td>\n",
              "      <td>813.0</td>\n",
              "      <td>164.0</td>\n",
              "      <td>22000.0</td>\n",
              "      <td>...</td>\n",
              "      <td>2012.0</td>\n",
              "      <td>23000.0</td>\n",
              "      <td>8.5</td>\n",
              "      <td>2.35</td>\n",
              "      <td>164000</td>\n",
              "    </tr>\n",
              "    <tr>\n",
              "      <th>4</th>\n",
              "      <td>NaN</td>\n",
              "      <td>Doug Walker</td>\n",
              "      <td>NaN</td>\n",
              "      <td>NaN</td>\n",
              "      <td>131.0</td>\n",
              "      <td>...</td>\n",
              "      <td>NaN</td>\n",
              "      <td>12.0</td>\n",
              "      <td>7.1</td>\n",
              "      <td>NaN</td>\n",
              "      <td>0</td>\n",
              "    </tr>\n",
              "  </tbody>\n",
              "</table>\n",
              "<p>5 rows × 28 columns</p>\n",
              "</div>"
            ],
            "text/plain": [
              "   color      director_name  num_critic_for_reviews  duration  \\\n",
              "0  Color      James Cameron                   723.0     178.0   \n",
              "1  Color     Gore Verbinski                   302.0     169.0   \n",
              "2  Color         Sam Mendes                   602.0     148.0   \n",
              "3  Color  Christopher Nolan                   813.0     164.0   \n",
              "4    NaN        Doug Walker                     NaN       NaN   \n",
              "\n",
              "   director_facebook_likes  ...  title_year actor_2_facebook_likes  \\\n",
              "0                      0.0  ...      2009.0                  936.0   \n",
              "1                    563.0  ...      2007.0                 5000.0   \n",
              "2                      0.0  ...      2015.0                  393.0   \n",
              "3                  22000.0  ...      2012.0                23000.0   \n",
              "4                    131.0  ...         NaN                   12.0   \n",
              "\n",
              "   imdb_score  aspect_ratio movie_facebook_likes  \n",
              "0         7.9          1.78                33000  \n",
              "1         7.1          2.35                    0  \n",
              "2         6.8          2.35                85000  \n",
              "3         8.5          2.35               164000  \n",
              "4         7.1           NaN                    0  \n",
              "\n",
              "[5 rows x 28 columns]"
            ]
          },
          "metadata": {},
          "execution_count": 44
        }
      ]
    },
    {
      "cell_type": "code",
      "metadata": {
        "colab": {
          "base_uri": "https://localhost:8080/"
        },
        "id": "SYpoMwANCjpz",
        "outputId": "d9738b96-536a-4693-db76-5fa17b51769a"
      },
      "source": [
        "director.describe()"
      ],
      "execution_count": null,
      "outputs": [
        {
          "output_type": "execute_result",
          "data": {
            "text/plain": [
              "count                 4814\n",
              "unique                2397\n",
              "top       Steven Spielberg\n",
              "freq                    26\n",
              "Name: director_name, dtype: object"
            ]
          },
          "metadata": {},
          "execution_count": 45
        }
      ]
    },
    {
      "cell_type": "markdown",
      "metadata": {
        "id": "Qs81vGkZDoak"
      },
      "source": [
        ""
      ]
    },
    {
      "cell_type": "code",
      "metadata": {
        "colab": {
          "base_uri": "https://localhost:8080/",
          "height": 380
        },
        "id": "nnCTq6lYCw99",
        "outputId": "8b0b12e8-7cc9-40cb-9026-4c25b9dc4a45"
      },
      "source": [
        "movie[director == 'Christopher Nolan'][0:20]"
      ],
      "execution_count": null,
      "outputs": [
        {
          "output_type": "execute_result",
          "data": {
            "text/html": [
              "<div>\n",
              "<style scoped>\n",
              "    .dataframe tbody tr th:only-of-type {\n",
              "        vertical-align: middle;\n",
              "    }\n",
              "\n",
              "    .dataframe tbody tr th {\n",
              "        vertical-align: top;\n",
              "    }\n",
              "\n",
              "    .dataframe thead th {\n",
              "        text-align: right;\n",
              "    }\n",
              "</style>\n",
              "<table border=\"1\" class=\"dataframe\">\n",
              "  <thead>\n",
              "    <tr style=\"text-align: right;\">\n",
              "      <th></th>\n",
              "      <th>color</th>\n",
              "      <th>director_name</th>\n",
              "      <th>num_critic_for_reviews</th>\n",
              "      <th>duration</th>\n",
              "      <th>director_facebook_likes</th>\n",
              "      <th>...</th>\n",
              "      <th>title_year</th>\n",
              "      <th>actor_2_facebook_likes</th>\n",
              "      <th>imdb_score</th>\n",
              "      <th>aspect_ratio</th>\n",
              "      <th>movie_facebook_likes</th>\n",
              "    </tr>\n",
              "  </thead>\n",
              "  <tbody>\n",
              "    <tr>\n",
              "      <th>3</th>\n",
              "      <td>Color</td>\n",
              "      <td>Christopher Nolan</td>\n",
              "      <td>813.0</td>\n",
              "      <td>164.0</td>\n",
              "      <td>22000.0</td>\n",
              "      <td>...</td>\n",
              "      <td>2012.0</td>\n",
              "      <td>23000.0</td>\n",
              "      <td>8.5</td>\n",
              "      <td>2.35</td>\n",
              "      <td>164000</td>\n",
              "    </tr>\n",
              "    <tr>\n",
              "      <th>66</th>\n",
              "      <td>Color</td>\n",
              "      <td>Christopher Nolan</td>\n",
              "      <td>645.0</td>\n",
              "      <td>152.0</td>\n",
              "      <td>22000.0</td>\n",
              "      <td>...</td>\n",
              "      <td>2008.0</td>\n",
              "      <td>13000.0</td>\n",
              "      <td>9.0</td>\n",
              "      <td>2.35</td>\n",
              "      <td>37000</td>\n",
              "    </tr>\n",
              "    <tr>\n",
              "      <th>96</th>\n",
              "      <td>Color</td>\n",
              "      <td>Christopher Nolan</td>\n",
              "      <td>712.0</td>\n",
              "      <td>169.0</td>\n",
              "      <td>22000.0</td>\n",
              "      <td>...</td>\n",
              "      <td>2014.0</td>\n",
              "      <td>11000.0</td>\n",
              "      <td>8.6</td>\n",
              "      <td>2.35</td>\n",
              "      <td>349000</td>\n",
              "    </tr>\n",
              "    <tr>\n",
              "      <th>97</th>\n",
              "      <td>Color</td>\n",
              "      <td>Christopher Nolan</td>\n",
              "      <td>642.0</td>\n",
              "      <td>148.0</td>\n",
              "      <td>22000.0</td>\n",
              "      <td>...</td>\n",
              "      <td>2010.0</td>\n",
              "      <td>27000.0</td>\n",
              "      <td>8.8</td>\n",
              "      <td>2.35</td>\n",
              "      <td>175000</td>\n",
              "    </tr>\n",
              "    <tr>\n",
              "      <th>120</th>\n",
              "      <td>Color</td>\n",
              "      <td>Christopher Nolan</td>\n",
              "      <td>478.0</td>\n",
              "      <td>128.0</td>\n",
              "      <td>22000.0</td>\n",
              "      <td>...</td>\n",
              "      <td>2005.0</td>\n",
              "      <td>14000.0</td>\n",
              "      <td>8.3</td>\n",
              "      <td>2.35</td>\n",
              "      <td>15000</td>\n",
              "    </tr>\n",
              "    <tr>\n",
              "      <th>1057</th>\n",
              "      <td>Color</td>\n",
              "      <td>Christopher Nolan</td>\n",
              "      <td>185.0</td>\n",
              "      <td>118.0</td>\n",
              "      <td>22000.0</td>\n",
              "      <td>...</td>\n",
              "      <td>2002.0</td>\n",
              "      <td>509.0</td>\n",
              "      <td>7.2</td>\n",
              "      <td>2.35</td>\n",
              "      <td>0</td>\n",
              "    </tr>\n",
              "    <tr>\n",
              "      <th>1222</th>\n",
              "      <td>Color</td>\n",
              "      <td>Christopher Nolan</td>\n",
              "      <td>341.0</td>\n",
              "      <td>130.0</td>\n",
              "      <td>22000.0</td>\n",
              "      <td>...</td>\n",
              "      <td>2006.0</td>\n",
              "      <td>20000.0</td>\n",
              "      <td>8.5</td>\n",
              "      <td>2.35</td>\n",
              "      <td>49000</td>\n",
              "    </tr>\n",
              "    <tr>\n",
              "      <th>3646</th>\n",
              "      <td>Black and White</td>\n",
              "      <td>Christopher Nolan</td>\n",
              "      <td>274.0</td>\n",
              "      <td>113.0</td>\n",
              "      <td>22000.0</td>\n",
              "      <td>...</td>\n",
              "      <td>2000.0</td>\n",
              "      <td>651.0</td>\n",
              "      <td>8.5</td>\n",
              "      <td>2.35</td>\n",
              "      <td>40000</td>\n",
              "    </tr>\n",
              "  </tbody>\n",
              "</table>\n",
              "<p>8 rows × 28 columns</p>\n",
              "</div>"
            ],
            "text/plain": [
              "                color      director_name  num_critic_for_reviews  duration  \\\n",
              "3               Color  Christopher Nolan                   813.0     164.0   \n",
              "66              Color  Christopher Nolan                   645.0     152.0   \n",
              "96              Color  Christopher Nolan                   712.0     169.0   \n",
              "97              Color  Christopher Nolan                   642.0     148.0   \n",
              "120             Color  Christopher Nolan                   478.0     128.0   \n",
              "1057            Color  Christopher Nolan                   185.0     118.0   \n",
              "1222            Color  Christopher Nolan                   341.0     130.0   \n",
              "3646  Black and White  Christopher Nolan                   274.0     113.0   \n",
              "\n",
              "      director_facebook_likes  ...  title_year actor_2_facebook_likes  \\\n",
              "3                     22000.0  ...      2012.0                23000.0   \n",
              "66                    22000.0  ...      2008.0                13000.0   \n",
              "96                    22000.0  ...      2014.0                11000.0   \n",
              "97                    22000.0  ...      2010.0                27000.0   \n",
              "120                   22000.0  ...      2005.0                14000.0   \n",
              "1057                  22000.0  ...      2002.0                  509.0   \n",
              "1222                  22000.0  ...      2006.0                20000.0   \n",
              "3646                  22000.0  ...      2000.0                  651.0   \n",
              "\n",
              "      imdb_score  aspect_ratio movie_facebook_likes  \n",
              "3            8.5          2.35               164000  \n",
              "66           9.0          2.35                37000  \n",
              "96           8.6          2.35               349000  \n",
              "97           8.8          2.35               175000  \n",
              "120          8.3          2.35                15000  \n",
              "1057         7.2          2.35                    0  \n",
              "1222         8.5          2.35                49000  \n",
              "3646         8.5          2.35                40000  \n",
              "\n",
              "[8 rows x 28 columns]"
            ]
          },
          "metadata": {},
          "execution_count": 49
        }
      ]
    },
    {
      "cell_type": "code",
      "metadata": {
        "colab": {
          "base_uri": "https://localhost:8080/"
        },
        "id": "4HfqaLZtDKH0",
        "outputId": "4dff1061-2582-4bba-95d7-bbf64a923979"
      },
      "source": [
        "\n",
        "director.value_counts().head(5)"
      ],
      "execution_count": null,
      "outputs": [
        {
          "output_type": "execute_result",
          "data": {
            "text/plain": [
              "Steven Spielberg    26\n",
              "Woody Allen         22\n",
              "Clint Eastwood      20\n",
              "Martin Scorsese     20\n",
              "Ridley Scott        16\n",
              "Name: director_name, dtype: int64"
            ]
          },
          "metadata": {},
          "execution_count": 50
        }
      ]
    },
    {
      "cell_type": "code",
      "metadata": {
        "colab": {
          "base_uri": "https://localhost:8080/"
        },
        "id": "VcMQyfLCFGQb",
        "outputId": "b275da87-1130-4439-9cbc-245756490753"
      },
      "source": [
        "actor_1_fb_likes.isnull().sum()"
      ],
      "execution_count": null,
      "outputs": [
        {
          "output_type": "execute_result",
          "data": {
            "text/plain": [
              "7"
            ]
          },
          "metadata": {},
          "execution_count": 51
        }
      ]
    },
    {
      "cell_type": "code",
      "metadata": {
        "colab": {
          "base_uri": "https://localhost:8080/"
        },
        "id": "BJEQ4Mi0FScI",
        "outputId": "917ea0a0-b4dd-4eb6-ace1-97b20a00539a"
      },
      "source": [
        "actor_1_fb_likes.dtype"
      ],
      "execution_count": null,
      "outputs": [
        {
          "output_type": "execute_result",
          "data": {
            "text/plain": [
              "dtype('float64')"
            ]
          },
          "metadata": {},
          "execution_count": 52
        }
      ]
    },
    {
      "cell_type": "code",
      "metadata": {
        "colab": {
          "base_uri": "https://localhost:8080/"
        },
        "id": "XOK9JvYEFZQ1",
        "outputId": "ccd9d398-89f5-444e-a18c-d6a28c3d1b1b"
      },
      "source": [
        "actor_1_fb_likes.isnull().mean()"
      ],
      "execution_count": null,
      "outputs": [
        {
          "output_type": "execute_result",
          "data": {
            "text/plain": [
              "0.0014239218877135883"
            ]
          },
          "metadata": {},
          "execution_count": 53
        }
      ]
    },
    {
      "cell_type": "code",
      "metadata": {
        "colab": {
          "base_uri": "https://localhost:8080/"
        },
        "id": "bh_iI40WFh2_",
        "outputId": "9ae8ee8a-fb4d-4996-8b5a-5d126edd64fb"
      },
      "source": [
        "movie.shape"
      ],
      "execution_count": null,
      "outputs": [
        {
          "output_type": "execute_result",
          "data": {
            "text/plain": [
              "(4916, 28)"
            ]
          },
          "metadata": {},
          "execution_count": 54
        }
      ]
    },
    {
      "cell_type": "code",
      "metadata": {
        "colab": {
          "base_uri": "https://localhost:8080/",
          "height": 640
        },
        "id": "DmGHpjDcFn1E",
        "outputId": "464b2034-c2f9-4c63-95aa-5edd9ba6e8fe"
      },
      "source": [
        "movie2 = movie.set_index('movie_title')\n",
        "movie2"
      ],
      "execution_count": null,
      "outputs": [
        {
          "output_type": "execute_result",
          "data": {
            "text/html": [
              "<div>\n",
              "<style scoped>\n",
              "    .dataframe tbody tr th:only-of-type {\n",
              "        vertical-align: middle;\n",
              "    }\n",
              "\n",
              "    .dataframe tbody tr th {\n",
              "        vertical-align: top;\n",
              "    }\n",
              "\n",
              "    .dataframe thead th {\n",
              "        text-align: right;\n",
              "    }\n",
              "</style>\n",
              "<table border=\"1\" class=\"dataframe\">\n",
              "  <thead>\n",
              "    <tr style=\"text-align: right;\">\n",
              "      <th></th>\n",
              "      <th>color</th>\n",
              "      <th>director_name</th>\n",
              "      <th>num_critic_for_reviews</th>\n",
              "      <th>duration</th>\n",
              "      <th>director_facebook_likes</th>\n",
              "      <th>...</th>\n",
              "      <th>title_year</th>\n",
              "      <th>actor_2_facebook_likes</th>\n",
              "      <th>imdb_score</th>\n",
              "      <th>aspect_ratio</th>\n",
              "      <th>movie_facebook_likes</th>\n",
              "    </tr>\n",
              "    <tr>\n",
              "      <th>movie_title</th>\n",
              "      <th></th>\n",
              "      <th></th>\n",
              "      <th></th>\n",
              "      <th></th>\n",
              "      <th></th>\n",
              "      <th></th>\n",
              "      <th></th>\n",
              "      <th></th>\n",
              "      <th></th>\n",
              "      <th></th>\n",
              "      <th></th>\n",
              "    </tr>\n",
              "  </thead>\n",
              "  <tbody>\n",
              "    <tr>\n",
              "      <th>Avatar</th>\n",
              "      <td>Color</td>\n",
              "      <td>James Cameron</td>\n",
              "      <td>723.0</td>\n",
              "      <td>178.0</td>\n",
              "      <td>0.0</td>\n",
              "      <td>...</td>\n",
              "      <td>2009.0</td>\n",
              "      <td>936.0</td>\n",
              "      <td>7.9</td>\n",
              "      <td>1.78</td>\n",
              "      <td>33000</td>\n",
              "    </tr>\n",
              "    <tr>\n",
              "      <th>Pirates of the Caribbean: At World's End</th>\n",
              "      <td>Color</td>\n",
              "      <td>Gore Verbinski</td>\n",
              "      <td>302.0</td>\n",
              "      <td>169.0</td>\n",
              "      <td>563.0</td>\n",
              "      <td>...</td>\n",
              "      <td>2007.0</td>\n",
              "      <td>5000.0</td>\n",
              "      <td>7.1</td>\n",
              "      <td>2.35</td>\n",
              "      <td>0</td>\n",
              "    </tr>\n",
              "    <tr>\n",
              "      <th>Spectre</th>\n",
              "      <td>Color</td>\n",
              "      <td>Sam Mendes</td>\n",
              "      <td>602.0</td>\n",
              "      <td>148.0</td>\n",
              "      <td>0.0</td>\n",
              "      <td>...</td>\n",
              "      <td>2015.0</td>\n",
              "      <td>393.0</td>\n",
              "      <td>6.8</td>\n",
              "      <td>2.35</td>\n",
              "      <td>85000</td>\n",
              "    </tr>\n",
              "    <tr>\n",
              "      <th>The Dark Knight Rises</th>\n",
              "      <td>Color</td>\n",
              "      <td>Christopher Nolan</td>\n",
              "      <td>813.0</td>\n",
              "      <td>164.0</td>\n",
              "      <td>22000.0</td>\n",
              "      <td>...</td>\n",
              "      <td>2012.0</td>\n",
              "      <td>23000.0</td>\n",
              "      <td>8.5</td>\n",
              "      <td>2.35</td>\n",
              "      <td>164000</td>\n",
              "    </tr>\n",
              "    <tr>\n",
              "      <th>Star Wars: Episode VII - The Force Awakens</th>\n",
              "      <td>NaN</td>\n",
              "      <td>Doug Walker</td>\n",
              "      <td>NaN</td>\n",
              "      <td>NaN</td>\n",
              "      <td>131.0</td>\n",
              "      <td>...</td>\n",
              "      <td>NaN</td>\n",
              "      <td>12.0</td>\n",
              "      <td>7.1</td>\n",
              "      <td>NaN</td>\n",
              "      <td>0</td>\n",
              "    </tr>\n",
              "    <tr>\n",
              "      <th>...</th>\n",
              "      <td>...</td>\n",
              "      <td>...</td>\n",
              "      <td>...</td>\n",
              "      <td>...</td>\n",
              "      <td>...</td>\n",
              "      <td>...</td>\n",
              "      <td>...</td>\n",
              "      <td>...</td>\n",
              "      <td>...</td>\n",
              "      <td>...</td>\n",
              "      <td>...</td>\n",
              "    </tr>\n",
              "    <tr>\n",
              "      <th>Signed Sealed Delivered</th>\n",
              "      <td>Color</td>\n",
              "      <td>Scott Smith</td>\n",
              "      <td>1.0</td>\n",
              "      <td>87.0</td>\n",
              "      <td>2.0</td>\n",
              "      <td>...</td>\n",
              "      <td>2013.0</td>\n",
              "      <td>470.0</td>\n",
              "      <td>7.7</td>\n",
              "      <td>NaN</td>\n",
              "      <td>84</td>\n",
              "    </tr>\n",
              "    <tr>\n",
              "      <th>The Following</th>\n",
              "      <td>Color</td>\n",
              "      <td>NaN</td>\n",
              "      <td>43.0</td>\n",
              "      <td>43.0</td>\n",
              "      <td>NaN</td>\n",
              "      <td>...</td>\n",
              "      <td>NaN</td>\n",
              "      <td>593.0</td>\n",
              "      <td>7.5</td>\n",
              "      <td>16.00</td>\n",
              "      <td>32000</td>\n",
              "    </tr>\n",
              "    <tr>\n",
              "      <th>A Plague So Pleasant</th>\n",
              "      <td>Color</td>\n",
              "      <td>Benjamin Roberds</td>\n",
              "      <td>13.0</td>\n",
              "      <td>76.0</td>\n",
              "      <td>0.0</td>\n",
              "      <td>...</td>\n",
              "      <td>2013.0</td>\n",
              "      <td>0.0</td>\n",
              "      <td>6.3</td>\n",
              "      <td>NaN</td>\n",
              "      <td>16</td>\n",
              "    </tr>\n",
              "    <tr>\n",
              "      <th>Shanghai Calling</th>\n",
              "      <td>Color</td>\n",
              "      <td>Daniel Hsia</td>\n",
              "      <td>14.0</td>\n",
              "      <td>100.0</td>\n",
              "      <td>0.0</td>\n",
              "      <td>...</td>\n",
              "      <td>2012.0</td>\n",
              "      <td>719.0</td>\n",
              "      <td>6.3</td>\n",
              "      <td>2.35</td>\n",
              "      <td>660</td>\n",
              "    </tr>\n",
              "    <tr>\n",
              "      <th>My Date with Drew</th>\n",
              "      <td>Color</td>\n",
              "      <td>Jon Gunn</td>\n",
              "      <td>43.0</td>\n",
              "      <td>90.0</td>\n",
              "      <td>16.0</td>\n",
              "      <td>...</td>\n",
              "      <td>2004.0</td>\n",
              "      <td>23.0</td>\n",
              "      <td>6.6</td>\n",
              "      <td>1.85</td>\n",
              "      <td>456</td>\n",
              "    </tr>\n",
              "  </tbody>\n",
              "</table>\n",
              "<p>4916 rows × 27 columns</p>\n",
              "</div>"
            ],
            "text/plain": [
              "                                            color      director_name  \\\n",
              "movie_title                                                            \n",
              "Avatar                                      Color      James Cameron   \n",
              "Pirates of the Caribbean: At World's End    Color     Gore Verbinski   \n",
              "Spectre                                     Color         Sam Mendes   \n",
              "The Dark Knight Rises                       Color  Christopher Nolan   \n",
              "Star Wars: Episode VII - The Force Awakens    NaN        Doug Walker   \n",
              "...                                           ...                ...   \n",
              "Signed Sealed Delivered                     Color        Scott Smith   \n",
              "The Following                               Color                NaN   \n",
              "A Plague So Pleasant                        Color   Benjamin Roberds   \n",
              "Shanghai Calling                            Color        Daniel Hsia   \n",
              "My Date with Drew                           Color           Jon Gunn   \n",
              "\n",
              "                                            num_critic_for_reviews  duration  \\\n",
              "movie_title                                                                    \n",
              "Avatar                                                       723.0     178.0   \n",
              "Pirates of the Caribbean: At World's End                     302.0     169.0   \n",
              "Spectre                                                      602.0     148.0   \n",
              "The Dark Knight Rises                                        813.0     164.0   \n",
              "Star Wars: Episode VII - The Force Awakens                     NaN       NaN   \n",
              "...                                                            ...       ...   \n",
              "Signed Sealed Delivered                                        1.0      87.0   \n",
              "The Following                                                 43.0      43.0   \n",
              "A Plague So Pleasant                                          13.0      76.0   \n",
              "Shanghai Calling                                              14.0     100.0   \n",
              "My Date with Drew                                             43.0      90.0   \n",
              "\n",
              "                                            director_facebook_likes  ...  \\\n",
              "movie_title                                                          ...   \n",
              "Avatar                                                          0.0  ...   \n",
              "Pirates of the Caribbean: At World's End                      563.0  ...   \n",
              "Spectre                                                         0.0  ...   \n",
              "The Dark Knight Rises                                       22000.0  ...   \n",
              "Star Wars: Episode VII - The Force Awakens                    131.0  ...   \n",
              "...                                                             ...  ...   \n",
              "Signed Sealed Delivered                                         2.0  ...   \n",
              "The Following                                                   NaN  ...   \n",
              "A Plague So Pleasant                                            0.0  ...   \n",
              "Shanghai Calling                                                0.0  ...   \n",
              "My Date with Drew                                              16.0  ...   \n",
              "\n",
              "                                            title_year actor_2_facebook_likes  \\\n",
              "movie_title                                                                     \n",
              "Avatar                                          2009.0                  936.0   \n",
              "Pirates of the Caribbean: At World's End        2007.0                 5000.0   \n",
              "Spectre                                         2015.0                  393.0   \n",
              "The Dark Knight Rises                           2012.0                23000.0   \n",
              "Star Wars: Episode VII - The Force Awakens         NaN                   12.0   \n",
              "...                                                ...                    ...   \n",
              "Signed Sealed Delivered                         2013.0                  470.0   \n",
              "The Following                                      NaN                  593.0   \n",
              "A Plague So Pleasant                            2013.0                    0.0   \n",
              "Shanghai Calling                                2012.0                  719.0   \n",
              "My Date with Drew                               2004.0                   23.0   \n",
              "\n",
              "                                            imdb_score  aspect_ratio  \\\n",
              "movie_title                                                            \n",
              "Avatar                                             7.9          1.78   \n",
              "Pirates of the Caribbean: At World's End           7.1          2.35   \n",
              "Spectre                                            6.8          2.35   \n",
              "The Dark Knight Rises                              8.5          2.35   \n",
              "Star Wars: Episode VII - The Force Awakens         7.1           NaN   \n",
              "...                                                ...           ...   \n",
              "Signed Sealed Delivered                            7.7           NaN   \n",
              "The Following                                      7.5         16.00   \n",
              "A Plague So Pleasant                               6.3           NaN   \n",
              "Shanghai Calling                                   6.3          2.35   \n",
              "My Date with Drew                                  6.6          1.85   \n",
              "\n",
              "                                           movie_facebook_likes  \n",
              "movie_title                                                      \n",
              "Avatar                                                    33000  \n",
              "Pirates of the Caribbean: At World's End                      0  \n",
              "Spectre                                                   85000  \n",
              "The Dark Knight Rises                                    164000  \n",
              "Star Wars: Episode VII - The Force Awakens                    0  \n",
              "...                                                         ...  \n",
              "Signed Sealed Delivered                                      84  \n",
              "The Following                                             32000  \n",
              "A Plague So Pleasant                                         16  \n",
              "Shanghai Calling                                            660  \n",
              "My Date with Drew                                           456  \n",
              "\n",
              "[4916 rows x 27 columns]"
            ]
          },
          "metadata": {},
          "execution_count": 55
        }
      ]
    },
    {
      "cell_type": "code",
      "metadata": {
        "colab": {
          "base_uri": "https://localhost:8080/",
          "height": 609
        },
        "id": "Ktp7ES5JFyBp",
        "outputId": "44652b48-9197-416d-9892-33c3cf974820"
      },
      "source": [
        "movie2.reset_index()"
      ],
      "execution_count": null,
      "outputs": [
        {
          "output_type": "execute_result",
          "data": {
            "text/html": [
              "<div>\n",
              "<style scoped>\n",
              "    .dataframe tbody tr th:only-of-type {\n",
              "        vertical-align: middle;\n",
              "    }\n",
              "\n",
              "    .dataframe tbody tr th {\n",
              "        vertical-align: top;\n",
              "    }\n",
              "\n",
              "    .dataframe thead th {\n",
              "        text-align: right;\n",
              "    }\n",
              "</style>\n",
              "<table border=\"1\" class=\"dataframe\">\n",
              "  <thead>\n",
              "    <tr style=\"text-align: right;\">\n",
              "      <th></th>\n",
              "      <th>movie_title</th>\n",
              "      <th>color</th>\n",
              "      <th>director_name</th>\n",
              "      <th>num_critic_for_reviews</th>\n",
              "      <th>duration</th>\n",
              "      <th>...</th>\n",
              "      <th>title_year</th>\n",
              "      <th>actor_2_facebook_likes</th>\n",
              "      <th>imdb_score</th>\n",
              "      <th>aspect_ratio</th>\n",
              "      <th>movie_facebook_likes</th>\n",
              "    </tr>\n",
              "  </thead>\n",
              "  <tbody>\n",
              "    <tr>\n",
              "      <th>0</th>\n",
              "      <td>Avatar</td>\n",
              "      <td>Color</td>\n",
              "      <td>James Cameron</td>\n",
              "      <td>723.0</td>\n",
              "      <td>178.0</td>\n",
              "      <td>...</td>\n",
              "      <td>2009.0</td>\n",
              "      <td>936.0</td>\n",
              "      <td>7.9</td>\n",
              "      <td>1.78</td>\n",
              "      <td>33000</td>\n",
              "    </tr>\n",
              "    <tr>\n",
              "      <th>1</th>\n",
              "      <td>Pirates of the Caribbean: At World's End</td>\n",
              "      <td>Color</td>\n",
              "      <td>Gore Verbinski</td>\n",
              "      <td>302.0</td>\n",
              "      <td>169.0</td>\n",
              "      <td>...</td>\n",
              "      <td>2007.0</td>\n",
              "      <td>5000.0</td>\n",
              "      <td>7.1</td>\n",
              "      <td>2.35</td>\n",
              "      <td>0</td>\n",
              "    </tr>\n",
              "    <tr>\n",
              "      <th>2</th>\n",
              "      <td>Spectre</td>\n",
              "      <td>Color</td>\n",
              "      <td>Sam Mendes</td>\n",
              "      <td>602.0</td>\n",
              "      <td>148.0</td>\n",
              "      <td>...</td>\n",
              "      <td>2015.0</td>\n",
              "      <td>393.0</td>\n",
              "      <td>6.8</td>\n",
              "      <td>2.35</td>\n",
              "      <td>85000</td>\n",
              "    </tr>\n",
              "    <tr>\n",
              "      <th>3</th>\n",
              "      <td>The Dark Knight Rises</td>\n",
              "      <td>Color</td>\n",
              "      <td>Christopher Nolan</td>\n",
              "      <td>813.0</td>\n",
              "      <td>164.0</td>\n",
              "      <td>...</td>\n",
              "      <td>2012.0</td>\n",
              "      <td>23000.0</td>\n",
              "      <td>8.5</td>\n",
              "      <td>2.35</td>\n",
              "      <td>164000</td>\n",
              "    </tr>\n",
              "    <tr>\n",
              "      <th>4</th>\n",
              "      <td>Star Wars: Episode VII - The Force Awakens</td>\n",
              "      <td>NaN</td>\n",
              "      <td>Doug Walker</td>\n",
              "      <td>NaN</td>\n",
              "      <td>NaN</td>\n",
              "      <td>...</td>\n",
              "      <td>NaN</td>\n",
              "      <td>12.0</td>\n",
              "      <td>7.1</td>\n",
              "      <td>NaN</td>\n",
              "      <td>0</td>\n",
              "    </tr>\n",
              "    <tr>\n",
              "      <th>...</th>\n",
              "      <td>...</td>\n",
              "      <td>...</td>\n",
              "      <td>...</td>\n",
              "      <td>...</td>\n",
              "      <td>...</td>\n",
              "      <td>...</td>\n",
              "      <td>...</td>\n",
              "      <td>...</td>\n",
              "      <td>...</td>\n",
              "      <td>...</td>\n",
              "      <td>...</td>\n",
              "    </tr>\n",
              "    <tr>\n",
              "      <th>4911</th>\n",
              "      <td>Signed Sealed Delivered</td>\n",
              "      <td>Color</td>\n",
              "      <td>Scott Smith</td>\n",
              "      <td>1.0</td>\n",
              "      <td>87.0</td>\n",
              "      <td>...</td>\n",
              "      <td>2013.0</td>\n",
              "      <td>470.0</td>\n",
              "      <td>7.7</td>\n",
              "      <td>NaN</td>\n",
              "      <td>84</td>\n",
              "    </tr>\n",
              "    <tr>\n",
              "      <th>4912</th>\n",
              "      <td>The Following</td>\n",
              "      <td>Color</td>\n",
              "      <td>NaN</td>\n",
              "      <td>43.0</td>\n",
              "      <td>43.0</td>\n",
              "      <td>...</td>\n",
              "      <td>NaN</td>\n",
              "      <td>593.0</td>\n",
              "      <td>7.5</td>\n",
              "      <td>16.00</td>\n",
              "      <td>32000</td>\n",
              "    </tr>\n",
              "    <tr>\n",
              "      <th>4913</th>\n",
              "      <td>A Plague So Pleasant</td>\n",
              "      <td>Color</td>\n",
              "      <td>Benjamin Roberds</td>\n",
              "      <td>13.0</td>\n",
              "      <td>76.0</td>\n",
              "      <td>...</td>\n",
              "      <td>2013.0</td>\n",
              "      <td>0.0</td>\n",
              "      <td>6.3</td>\n",
              "      <td>NaN</td>\n",
              "      <td>16</td>\n",
              "    </tr>\n",
              "    <tr>\n",
              "      <th>4914</th>\n",
              "      <td>Shanghai Calling</td>\n",
              "      <td>Color</td>\n",
              "      <td>Daniel Hsia</td>\n",
              "      <td>14.0</td>\n",
              "      <td>100.0</td>\n",
              "      <td>...</td>\n",
              "      <td>2012.0</td>\n",
              "      <td>719.0</td>\n",
              "      <td>6.3</td>\n",
              "      <td>2.35</td>\n",
              "      <td>660</td>\n",
              "    </tr>\n",
              "    <tr>\n",
              "      <th>4915</th>\n",
              "      <td>My Date with Drew</td>\n",
              "      <td>Color</td>\n",
              "      <td>Jon Gunn</td>\n",
              "      <td>43.0</td>\n",
              "      <td>90.0</td>\n",
              "      <td>...</td>\n",
              "      <td>2004.0</td>\n",
              "      <td>23.0</td>\n",
              "      <td>6.6</td>\n",
              "      <td>1.85</td>\n",
              "      <td>456</td>\n",
              "    </tr>\n",
              "  </tbody>\n",
              "</table>\n",
              "<p>4916 rows × 28 columns</p>\n",
              "</div>"
            ],
            "text/plain": [
              "                                     movie_title  color      director_name  \\\n",
              "0                                         Avatar  Color      James Cameron   \n",
              "1       Pirates of the Caribbean: At World's End  Color     Gore Verbinski   \n",
              "2                                        Spectre  Color         Sam Mendes   \n",
              "3                          The Dark Knight Rises  Color  Christopher Nolan   \n",
              "4     Star Wars: Episode VII - The Force Awakens    NaN        Doug Walker   \n",
              "...                                          ...    ...                ...   \n",
              "4911                     Signed Sealed Delivered  Color        Scott Smith   \n",
              "4912                               The Following  Color                NaN   \n",
              "4913                        A Plague So Pleasant  Color   Benjamin Roberds   \n",
              "4914                            Shanghai Calling  Color        Daniel Hsia   \n",
              "4915                           My Date with Drew  Color           Jon Gunn   \n",
              "\n",
              "      num_critic_for_reviews  duration  ...  title_year  \\\n",
              "0                      723.0     178.0  ...      2009.0   \n",
              "1                      302.0     169.0  ...      2007.0   \n",
              "2                      602.0     148.0  ...      2015.0   \n",
              "3                      813.0     164.0  ...      2012.0   \n",
              "4                        NaN       NaN  ...         NaN   \n",
              "...                      ...       ...  ...         ...   \n",
              "4911                     1.0      87.0  ...      2013.0   \n",
              "4912                    43.0      43.0  ...         NaN   \n",
              "4913                    13.0      76.0  ...      2013.0   \n",
              "4914                    14.0     100.0  ...      2012.0   \n",
              "4915                    43.0      90.0  ...      2004.0   \n",
              "\n",
              "      actor_2_facebook_likes imdb_score  aspect_ratio  movie_facebook_likes  \n",
              "0                      936.0        7.9          1.78                 33000  \n",
              "1                     5000.0        7.1          2.35                     0  \n",
              "2                      393.0        6.8          2.35                 85000  \n",
              "3                    23000.0        8.5          2.35                164000  \n",
              "4                       12.0        7.1           NaN                     0  \n",
              "...                      ...        ...           ...                   ...  \n",
              "4911                   470.0        7.7           NaN                    84  \n",
              "4912                   593.0        7.5         16.00                 32000  \n",
              "4913                     0.0        6.3           NaN                    16  \n",
              "4914                   719.0        6.3          2.35                   660  \n",
              "4915                    23.0        6.6          1.85                   456  \n",
              "\n",
              "[4916 rows x 28 columns]"
            ]
          },
          "metadata": {},
          "execution_count": 56
        }
      ]
    },
    {
      "cell_type": "code",
      "metadata": {
        "id": "c8gohwA8F__a"
      },
      "source": [
        "pd.reset_option('max_rows')"
      ],
      "execution_count": null,
      "outputs": []
    },
    {
      "cell_type": "code",
      "metadata": {
        "colab": {
          "base_uri": "https://localhost:8080/"
        },
        "id": "-_44ijkNGOfd",
        "outputId": "477d4e56-b8d9-40cf-a95f-d8185bc6fbd7"
      },
      "source": [
        "director.value_counts()"
      ],
      "execution_count": null,
      "outputs": [
        {
          "output_type": "execute_result",
          "data": {
            "text/plain": [
              "Steven Spielberg    26\n",
              "Woody Allen         22\n",
              "Clint Eastwood      20\n",
              "Martin Scorsese     20\n",
              "Ridley Scott        16\n",
              "                    ..\n",
              "Lance Kawas          1\n",
              "Johnnie To           1\n",
              "Jeff Nathanson       1\n",
              "Joe Chappelle        1\n",
              "Doug Atchison        1\n",
              "Name: director_name, Length: 2397, dtype: int64"
            ]
          },
          "metadata": {},
          "execution_count": 59
        }
      ]
    },
    {
      "cell_type": "code",
      "metadata": {
        "id": "8pYmBd0iGcrY"
      },
      "source": [
        "idx_rename = {'Avatar':'Ratava', 'Spectre':'Ertceps'}\n",
        "col_rename = {'director_name': 'Director Name', 'num_critic_for_reviews':'Critical Reviews'}"
      ],
      "execution_count": null,
      "outputs": []
    },
    {
      "cell_type": "code",
      "metadata": {
        "colab": {
          "base_uri": "https://localhost:8080/",
          "height": 437
        },
        "id": "qcLHAK5IHQAX",
        "outputId": "d37fc8f9-43c7-457f-9fec-d3576d3508a1"
      },
      "source": [
        "movie2.rename(index=idx_rename, columns=col_rename).head()"
      ],
      "execution_count": null,
      "outputs": [
        {
          "output_type": "execute_result",
          "data": {
            "text/html": [
              "<div>\n",
              "<style scoped>\n",
              "    .dataframe tbody tr th:only-of-type {\n",
              "        vertical-align: middle;\n",
              "    }\n",
              "\n",
              "    .dataframe tbody tr th {\n",
              "        vertical-align: top;\n",
              "    }\n",
              "\n",
              "    .dataframe thead th {\n",
              "        text-align: right;\n",
              "    }\n",
              "</style>\n",
              "<table border=\"1\" class=\"dataframe\">\n",
              "  <thead>\n",
              "    <tr style=\"text-align: right;\">\n",
              "      <th></th>\n",
              "      <th>color</th>\n",
              "      <th>Director Name</th>\n",
              "      <th>Critical Reviews</th>\n",
              "      <th>duration</th>\n",
              "      <th>director_facebook_likes</th>\n",
              "      <th>...</th>\n",
              "      <th>title_year</th>\n",
              "      <th>actor_2_facebook_likes</th>\n",
              "      <th>imdb_score</th>\n",
              "      <th>aspect_ratio</th>\n",
              "      <th>movie_facebook_likes</th>\n",
              "    </tr>\n",
              "    <tr>\n",
              "      <th>movie_title</th>\n",
              "      <th></th>\n",
              "      <th></th>\n",
              "      <th></th>\n",
              "      <th></th>\n",
              "      <th></th>\n",
              "      <th></th>\n",
              "      <th></th>\n",
              "      <th></th>\n",
              "      <th></th>\n",
              "      <th></th>\n",
              "      <th></th>\n",
              "    </tr>\n",
              "  </thead>\n",
              "  <tbody>\n",
              "    <tr>\n",
              "      <th>Ratava</th>\n",
              "      <td>Color</td>\n",
              "      <td>James Cameron</td>\n",
              "      <td>723.0</td>\n",
              "      <td>178.0</td>\n",
              "      <td>0.0</td>\n",
              "      <td>...</td>\n",
              "      <td>2009.0</td>\n",
              "      <td>936.0</td>\n",
              "      <td>7.9</td>\n",
              "      <td>1.78</td>\n",
              "      <td>33000</td>\n",
              "    </tr>\n",
              "    <tr>\n",
              "      <th>Pirates of the Caribbean: At World's End</th>\n",
              "      <td>Color</td>\n",
              "      <td>Gore Verbinski</td>\n",
              "      <td>302.0</td>\n",
              "      <td>169.0</td>\n",
              "      <td>563.0</td>\n",
              "      <td>...</td>\n",
              "      <td>2007.0</td>\n",
              "      <td>5000.0</td>\n",
              "      <td>7.1</td>\n",
              "      <td>2.35</td>\n",
              "      <td>0</td>\n",
              "    </tr>\n",
              "    <tr>\n",
              "      <th>Ertceps</th>\n",
              "      <td>Color</td>\n",
              "      <td>Sam Mendes</td>\n",
              "      <td>602.0</td>\n",
              "      <td>148.0</td>\n",
              "      <td>0.0</td>\n",
              "      <td>...</td>\n",
              "      <td>2015.0</td>\n",
              "      <td>393.0</td>\n",
              "      <td>6.8</td>\n",
              "      <td>2.35</td>\n",
              "      <td>85000</td>\n",
              "    </tr>\n",
              "    <tr>\n",
              "      <th>The Dark Knight Rises</th>\n",
              "      <td>Color</td>\n",
              "      <td>Christopher Nolan</td>\n",
              "      <td>813.0</td>\n",
              "      <td>164.0</td>\n",
              "      <td>22000.0</td>\n",
              "      <td>...</td>\n",
              "      <td>2012.0</td>\n",
              "      <td>23000.0</td>\n",
              "      <td>8.5</td>\n",
              "      <td>2.35</td>\n",
              "      <td>164000</td>\n",
              "    </tr>\n",
              "    <tr>\n",
              "      <th>Star Wars: Episode VII - The Force Awakens</th>\n",
              "      <td>NaN</td>\n",
              "      <td>Doug Walker</td>\n",
              "      <td>NaN</td>\n",
              "      <td>NaN</td>\n",
              "      <td>131.0</td>\n",
              "      <td>...</td>\n",
              "      <td>NaN</td>\n",
              "      <td>12.0</td>\n",
              "      <td>7.1</td>\n",
              "      <td>NaN</td>\n",
              "      <td>0</td>\n",
              "    </tr>\n",
              "  </tbody>\n",
              "</table>\n",
              "<p>5 rows × 27 columns</p>\n",
              "</div>"
            ],
            "text/plain": [
              "                                            color      Director Name  \\\n",
              "movie_title                                                            \n",
              "Ratava                                      Color      James Cameron   \n",
              "Pirates of the Caribbean: At World's End    Color     Gore Verbinski   \n",
              "Ertceps                                     Color         Sam Mendes   \n",
              "The Dark Knight Rises                       Color  Christopher Nolan   \n",
              "Star Wars: Episode VII - The Force Awakens    NaN        Doug Walker   \n",
              "\n",
              "                                            Critical Reviews  duration  \\\n",
              "movie_title                                                              \n",
              "Ratava                                                 723.0     178.0   \n",
              "Pirates of the Caribbean: At World's End               302.0     169.0   \n",
              "Ertceps                                                602.0     148.0   \n",
              "The Dark Knight Rises                                  813.0     164.0   \n",
              "Star Wars: Episode VII - The Force Awakens               NaN       NaN   \n",
              "\n",
              "                                            director_facebook_likes  ...  \\\n",
              "movie_title                                                          ...   \n",
              "Ratava                                                          0.0  ...   \n",
              "Pirates of the Caribbean: At World's End                      563.0  ...   \n",
              "Ertceps                                                         0.0  ...   \n",
              "The Dark Knight Rises                                       22000.0  ...   \n",
              "Star Wars: Episode VII - The Force Awakens                    131.0  ...   \n",
              "\n",
              "                                            title_year actor_2_facebook_likes  \\\n",
              "movie_title                                                                     \n",
              "Ratava                                          2009.0                  936.0   \n",
              "Pirates of the Caribbean: At World's End        2007.0                 5000.0   \n",
              "Ertceps                                         2015.0                  393.0   \n",
              "The Dark Knight Rises                           2012.0                23000.0   \n",
              "Star Wars: Episode VII - The Force Awakens         NaN                   12.0   \n",
              "\n",
              "                                            imdb_score  aspect_ratio  \\\n",
              "movie_title                                                            \n",
              "Ratava                                             7.9          1.78   \n",
              "Pirates of the Caribbean: At World's End           7.1          2.35   \n",
              "Ertceps                                            6.8          2.35   \n",
              "The Dark Knight Rises                              8.5          2.35   \n",
              "Star Wars: Episode VII - The Force Awakens         7.1           NaN   \n",
              "\n",
              "                                           movie_facebook_likes  \n",
              "movie_title                                                      \n",
              "Ratava                                                    33000  \n",
              "Pirates of the Caribbean: At World's End                      0  \n",
              "Ertceps                                                   85000  \n",
              "The Dark Knight Rises                                    164000  \n",
              "Star Wars: Episode VII - The Force Awakens                    0  \n",
              "\n",
              "[5 rows x 27 columns]"
            ]
          },
          "metadata": {},
          "execution_count": 61
        }
      ]
    },
    {
      "cell_type": "code",
      "metadata": {
        "id": "Wux0LI9CHaAS"
      },
      "source": [
        "movie = pd.read_csv('movie.csv', index_col='movie_title')\n",
        "index = movie.index\n",
        "columns = movie.columns\n",
        "\n",
        "index_list = index.tolist()\n",
        "column_list = columns.tolist()\n",
        "\n",
        "index_list[0] = 'Ratava'\n",
        "index_list[2] = 'Ertceps'\n",
        "column_list[1] = 'Director Name'\n",
        "column_list[2] = 'Critical Reviews'"
      ],
      "execution_count": null,
      "outputs": []
    },
    {
      "cell_type": "code",
      "metadata": {
        "colab": {
          "base_uri": "https://localhost:8080/"
        },
        "id": "xutr4-o0Hsig",
        "outputId": "c45118ff-39ad-4b2f-a136-ecffab7cb3ff"
      },
      "source": [
        "print(index_list[:5])"
      ],
      "execution_count": null,
      "outputs": [
        {
          "output_type": "stream",
          "name": "stdout",
          "text": [
            "['Ratava', \"Pirates of the Caribbean: At World's End\", 'Ertceps', 'The Dark Knight Rises', 'Star Wars: Episode VII - The Force Awakens']\n"
          ]
        }
      ]
    },
    {
      "cell_type": "code",
      "metadata": {
        "colab": {
          "base_uri": "https://localhost:8080/"
        },
        "id": "Kq6b-RgxH0UB",
        "outputId": "2f64c111-c9bb-4446-c7ce-632407ed6a49"
      },
      "source": [
        "print(column_list)"
      ],
      "execution_count": null,
      "outputs": [
        {
          "output_type": "stream",
          "name": "stdout",
          "text": [
            "['color', 'Director Name', 'Critical Reviews', 'duration', 'director_facebook_likes', 'actor_3_facebook_likes', 'actor_2_name', 'actor_1_facebook_likes', 'gross', 'genres', 'actor_1_name', 'num_voted_users', 'cast_total_facebook_likes', 'actor_3_name', 'facenumber_in_poster', 'plot_keywords', 'movie_imdb_link', 'num_user_for_reviews', 'language', 'country', 'content_rating', 'budget', 'title_year', 'actor_2_facebook_likes', 'imdb_score', 'aspect_ratio', 'movie_facebook_likes']\n"
          ]
        }
      ]
    },
    {
      "cell_type": "code",
      "metadata": {
        "id": "RpbeZ0zxH9bk"
      },
      "source": [
        "movie.index = index_list\n",
        "movie.columns = column_list"
      ],
      "execution_count": null,
      "outputs": []
    },
    {
      "cell_type": "code",
      "metadata": {
        "colab": {
          "base_uri": "https://localhost:8080/",
          "height": 474
        },
        "id": "bMl8V0ovIVVT",
        "outputId": "1bda68c1-bac0-4854-dcc5-66c9e4ba3866"
      },
      "source": [
        "movie.head()"
      ],
      "execution_count": null,
      "outputs": [
        {
          "output_type": "execute_result",
          "data": {
            "text/html": [
              "<div>\n",
              "<style scoped>\n",
              "    .dataframe tbody tr th:only-of-type {\n",
              "        vertical-align: middle;\n",
              "    }\n",
              "\n",
              "    .dataframe tbody tr th {\n",
              "        vertical-align: top;\n",
              "    }\n",
              "\n",
              "    .dataframe thead th {\n",
              "        text-align: right;\n",
              "    }\n",
              "</style>\n",
              "<table border=\"1\" class=\"dataframe\">\n",
              "  <thead>\n",
              "    <tr style=\"text-align: right;\">\n",
              "      <th></th>\n",
              "      <th>color</th>\n",
              "      <th>Director Name</th>\n",
              "      <th>Critical Reviews</th>\n",
              "      <th>duration</th>\n",
              "      <th>director_facebook_likes</th>\n",
              "      <th>...</th>\n",
              "      <th>title_year</th>\n",
              "      <th>actor_2_facebook_likes</th>\n",
              "      <th>imdb_score</th>\n",
              "      <th>aspect_ratio</th>\n",
              "      <th>movie_facebook_likes</th>\n",
              "    </tr>\n",
              "  </thead>\n",
              "  <tbody>\n",
              "    <tr>\n",
              "      <th>Ratava</th>\n",
              "      <td>Color</td>\n",
              "      <td>James Cameron</td>\n",
              "      <td>723.0</td>\n",
              "      <td>178.0</td>\n",
              "      <td>0.0</td>\n",
              "      <td>...</td>\n",
              "      <td>2009.0</td>\n",
              "      <td>936.0</td>\n",
              "      <td>7.9</td>\n",
              "      <td>1.78</td>\n",
              "      <td>33000</td>\n",
              "    </tr>\n",
              "    <tr>\n",
              "      <th>Pirates of the Caribbean: At World's End</th>\n",
              "      <td>Color</td>\n",
              "      <td>Gore Verbinski</td>\n",
              "      <td>302.0</td>\n",
              "      <td>169.0</td>\n",
              "      <td>563.0</td>\n",
              "      <td>...</td>\n",
              "      <td>2007.0</td>\n",
              "      <td>5000.0</td>\n",
              "      <td>7.1</td>\n",
              "      <td>2.35</td>\n",
              "      <td>0</td>\n",
              "    </tr>\n",
              "    <tr>\n",
              "      <th>Ertceps</th>\n",
              "      <td>Color</td>\n",
              "      <td>Sam Mendes</td>\n",
              "      <td>602.0</td>\n",
              "      <td>148.0</td>\n",
              "      <td>0.0</td>\n",
              "      <td>...</td>\n",
              "      <td>2015.0</td>\n",
              "      <td>393.0</td>\n",
              "      <td>6.8</td>\n",
              "      <td>2.35</td>\n",
              "      <td>85000</td>\n",
              "    </tr>\n",
              "    <tr>\n",
              "      <th>The Dark Knight Rises</th>\n",
              "      <td>Color</td>\n",
              "      <td>Christopher Nolan</td>\n",
              "      <td>813.0</td>\n",
              "      <td>164.0</td>\n",
              "      <td>22000.0</td>\n",
              "      <td>...</td>\n",
              "      <td>2012.0</td>\n",
              "      <td>23000.0</td>\n",
              "      <td>8.5</td>\n",
              "      <td>2.35</td>\n",
              "      <td>164000</td>\n",
              "    </tr>\n",
              "    <tr>\n",
              "      <th>Star Wars: Episode VII - The Force Awakens</th>\n",
              "      <td>NaN</td>\n",
              "      <td>Doug Walker</td>\n",
              "      <td>NaN</td>\n",
              "      <td>NaN</td>\n",
              "      <td>131.0</td>\n",
              "      <td>...</td>\n",
              "      <td>NaN</td>\n",
              "      <td>12.0</td>\n",
              "      <td>7.1</td>\n",
              "      <td>NaN</td>\n",
              "      <td>0</td>\n",
              "    </tr>\n",
              "  </tbody>\n",
              "</table>\n",
              "<p>5 rows × 27 columns</p>\n",
              "</div>"
            ],
            "text/plain": [
              "                                            color      Director Name  \\\n",
              "Ratava                                      Color      James Cameron   \n",
              "Pirates of the Caribbean: At World's End    Color     Gore Verbinski   \n",
              "Ertceps                                     Color         Sam Mendes   \n",
              "The Dark Knight Rises                       Color  Christopher Nolan   \n",
              "Star Wars: Episode VII - The Force Awakens    NaN        Doug Walker   \n",
              "\n",
              "                                            Critical Reviews  duration  \\\n",
              "Ratava                                                 723.0     178.0   \n",
              "Pirates of the Caribbean: At World's End               302.0     169.0   \n",
              "Ertceps                                                602.0     148.0   \n",
              "The Dark Knight Rises                                  813.0     164.0   \n",
              "Star Wars: Episode VII - The Force Awakens               NaN       NaN   \n",
              "\n",
              "                                            director_facebook_likes  ...  \\\n",
              "Ratava                                                          0.0  ...   \n",
              "Pirates of the Caribbean: At World's End                      563.0  ...   \n",
              "Ertceps                                                         0.0  ...   \n",
              "The Dark Knight Rises                                       22000.0  ...   \n",
              "Star Wars: Episode VII - The Force Awakens                    131.0  ...   \n",
              "\n",
              "                                            title_year actor_2_facebook_likes  \\\n",
              "Ratava                                          2009.0                  936.0   \n",
              "Pirates of the Caribbean: At World's End        2007.0                 5000.0   \n",
              "Ertceps                                         2015.0                  393.0   \n",
              "The Dark Knight Rises                           2012.0                23000.0   \n",
              "Star Wars: Episode VII - The Force Awakens         NaN                   12.0   \n",
              "\n",
              "                                            imdb_score  aspect_ratio  \\\n",
              "Ratava                                             7.9          1.78   \n",
              "Pirates of the Caribbean: At World's End           7.1          2.35   \n",
              "Ertceps                                            6.8          2.35   \n",
              "The Dark Knight Rises                              8.5          2.35   \n",
              "Star Wars: Episode VII - The Force Awakens         7.1           NaN   \n",
              "\n",
              "                                           movie_facebook_likes  \n",
              "Ratava                                                    33000  \n",
              "Pirates of the Caribbean: At World's End                      0  \n",
              "Ertceps                                                   85000  \n",
              "The Dark Knight Rises                                    164000  \n",
              "Star Wars: Episode VII - The Force Awakens                    0  \n",
              "\n",
              "[5 rows x 27 columns]"
            ]
          },
          "metadata": {},
          "execution_count": 67
        }
      ]
    },
    {
      "cell_type": "code",
      "metadata": {
        "id": "WIe-J4FEIW0K"
      },
      "source": [
        "movie = pd.read_csv('movie.csv')"
      ],
      "execution_count": null,
      "outputs": []
    },
    {
      "cell_type": "code",
      "metadata": {
        "id": "-YV_HHFCIoVj"
      },
      "source": [
        "movie['has seen'] = 0"
      ],
      "execution_count": null,
      "outputs": []
    },
    {
      "cell_type": "code",
      "metadata": {
        "colab": {
          "base_uri": "https://localhost:8080/"
        },
        "id": "43pRon_1IrNi",
        "outputId": "05a8d92e-6efc-4045-e239-343bea9763bd"
      },
      "source": [
        "movie.columns"
      ],
      "execution_count": null,
      "outputs": [
        {
          "output_type": "execute_result",
          "data": {
            "text/plain": [
              "Index(['color', 'director_name', 'num_critic_for_reviews', 'duration',\n",
              "       'director_facebook_likes', 'actor_3_facebook_likes', 'actor_2_name',\n",
              "       'actor_1_facebook_likes', 'gross', 'genres', 'actor_1_name',\n",
              "       'movie_title', 'num_voted_users', 'cast_total_facebook_likes',\n",
              "       'actor_3_name', 'facenumber_in_poster', 'plot_keywords',\n",
              "       'movie_imdb_link', 'num_user_for_reviews', 'language', 'country',\n",
              "       'content_rating', 'budget', 'title_year', 'actor_2_facebook_likes',\n",
              "       'imdb_score', 'aspect_ratio', 'movie_facebook_likes', 'has seen'],\n",
              "      dtype='object')"
            ]
          },
          "metadata": {},
          "execution_count": 70
        }
      ]
    },
    {
      "cell_type": "code",
      "metadata": {
        "id": "XgXXO6BlJB_2"
      },
      "source": [
        "movie['actor_director_facebook_likes'] = (movie['actor_1_facebook_likes'] + \n",
        "                                              movie['actor_2_facebook_likes'] + \n",
        "                                              movie['actor_3_facebook_likes'] + \n",
        "                                              movie['director_facebook_likes'])"
      ],
      "execution_count": null,
      "outputs": []
    },
    {
      "cell_type": "code",
      "metadata": {
        "colab": {
          "base_uri": "https://localhost:8080/"
        },
        "id": "Ig2BsuSRItDu",
        "outputId": "7e81a913-833b-475c-99cf-7b7445f36406"
      },
      "source": [
        "movie['actor_director_facebook_likes'].isnull().sum()"
      ],
      "execution_count": null,
      "outputs": [
        {
          "output_type": "execute_result",
          "data": {
            "text/plain": [
              "122"
            ]
          },
          "metadata": {},
          "execution_count": 72
        }
      ]
    },
    {
      "cell_type": "code",
      "metadata": {
        "id": "Iy4pbsZcJJfr"
      },
      "source": [
        "movie['actor_director_facebook_likes'] = movie['actor_director_facebook_likes'].fillna(0)"
      ],
      "execution_count": null,
      "outputs": []
    },
    {
      "cell_type": "code",
      "metadata": {
        "id": "rpbnqq31Ji7A"
      },
      "source": [
        "movie['is_cast_likes_more'] = (movie['cast_total_facebook_likes'] >= \n",
        "                                  movie['actor_director_facebook_likes'])"
      ],
      "execution_count": null,
      "outputs": []
    },
    {
      "cell_type": "code",
      "metadata": {
        "colab": {
          "base_uri": "https://localhost:8080/"
        },
        "id": "3N-6eqKUJqFN",
        "outputId": "0060bbc3-22d5-4ae1-9a23-4f2124a6ea6d"
      },
      "source": [
        "movie['is_cast_likes_more'].all()"
      ],
      "execution_count": null,
      "outputs": [
        {
          "output_type": "execute_result",
          "data": {
            "text/plain": [
              "False"
            ]
          },
          "metadata": {},
          "execution_count": 75
        }
      ]
    },
    {
      "cell_type": "code",
      "metadata": {
        "id": "ZPOsLSEeJwwa"
      },
      "source": [
        "movie = movie.drop('actor_director_facebook_likes', axis='columns')"
      ],
      "execution_count": null,
      "outputs": []
    },
    {
      "cell_type": "code",
      "metadata": {
        "id": "gMJQNHPrKAWR"
      },
      "source": [
        "movie['actor_total_facebook_likes'] = (movie['actor_1_facebook_likes'] + \n",
        "                                       movie['actor_2_facebook_likes'] + \n",
        "                                       movie['actor_3_facebook_likes'])\n",
        "\n",
        "movie['actor_total_facebook_likes'] = movie['actor_total_facebook_likes'].fillna(0)"
      ],
      "execution_count": null,
      "outputs": []
    },
    {
      "cell_type": "code",
      "metadata": {
        "colab": {
          "base_uri": "https://localhost:8080/"
        },
        "id": "w0cl_EqoKGq9",
        "outputId": "fc95a1e3-eec4-4387-e501-6d3f327c1ac6"
      },
      "source": [
        "movie['is_cast_likes_more'] = movie['cast_total_facebook_likes'] >= \\\n",
        "                                  movie['actor_total_facebook_likes']\n",
        "    \n",
        "movie['is_cast_likes_more'].all()"
      ],
      "execution_count": null,
      "outputs": [
        {
          "output_type": "execute_result",
          "data": {
            "text/plain": [
              "True"
            ]
          },
          "metadata": {},
          "execution_count": 78
        }
      ]
    },
    {
      "cell_type": "code",
      "metadata": {
        "id": "KvuGOtJ2KK2c"
      },
      "source": [
        "movie['pct_actor_cast_like'] = (movie['actor_total_facebook_likes'] / \n",
        "                                movie['cast_total_facebook_likes'])"
      ],
      "execution_count": null,
      "outputs": []
    },
    {
      "cell_type": "code",
      "metadata": {
        "colab": {
          "base_uri": "https://localhost:8080/"
        },
        "id": "1YRuAkMpKN0z",
        "outputId": "038c6b50-270f-4e14-fc61-eb95963d0849"
      },
      "source": [
        "movie['pct_actor_cast_like'].min(), movie['pct_actor_cast_like'].max()"
      ],
      "execution_count": null,
      "outputs": [
        {
          "output_type": "execute_result",
          "data": {
            "text/plain": [
              "(0.0, 1.0)"
            ]
          },
          "metadata": {},
          "execution_count": 80
        }
      ]
    },
    {
      "cell_type": "code",
      "metadata": {
        "colab": {
          "base_uri": "https://localhost:8080/"
        },
        "id": "CWOoiVYLKSIy",
        "outputId": "eb3cd046-42eb-4b6d-a3f6-f1d156c6943e"
      },
      "source": [
        "movie.set_index('movie_title')['pct_actor_cast_like'].head()"
      ],
      "execution_count": null,
      "outputs": [
        {
          "output_type": "execute_result",
          "data": {
            "text/plain": [
              "movie_title\n",
              "Avatar                                        0.577369\n",
              "Pirates of the Caribbean: At World's End      0.951396\n",
              "Spectre                                       0.987521\n",
              "The Dark Knight Rises                         0.683783\n",
              "Star Wars: Episode VII - The Force Awakens    0.000000\n",
              "Name: pct_actor_cast_like, dtype: float64"
            ]
          },
          "metadata": {},
          "execution_count": 81
        }
      ]
    },
    {
      "cell_type": "code",
      "metadata": {
        "colab": {
          "base_uri": "https://localhost:8080/"
        },
        "id": "pW8V5olHKeGF",
        "outputId": "1fe2dd76-2b91-4e9f-bcbb-09382ead45e5"
      },
      "source": [
        "movie.columns"
      ],
      "execution_count": null,
      "outputs": [
        {
          "output_type": "execute_result",
          "data": {
            "text/plain": [
              "Index(['color', 'director_name', 'num_critic_for_reviews', 'duration',\n",
              "       'director_facebook_likes', 'actor_3_facebook_likes', 'actor_2_name',\n",
              "       'actor_1_facebook_likes', 'gross', 'genres', 'actor_1_name',\n",
              "       'movie_title', 'num_voted_users', 'cast_total_facebook_likes',\n",
              "       'actor_3_name', 'facenumber_in_poster', 'plot_keywords',\n",
              "       'movie_imdb_link', 'num_user_for_reviews', 'language', 'country',\n",
              "       'content_rating', 'budget', 'title_year', 'actor_2_facebook_likes',\n",
              "       'imdb_score', 'aspect_ratio', 'movie_facebook_likes', 'has seen',\n",
              "       'is_cast_likes_more', 'actor_total_facebook_likes',\n",
              "       'pct_actor_cast_like'],\n",
              "      dtype='object')"
            ]
          },
          "metadata": {},
          "execution_count": 82
        }
      ]
    },
    {
      "cell_type": "code",
      "metadata": {
        "colab": {
          "base_uri": "https://localhost:8080/"
        },
        "id": "xt1Z2XrVKl7r",
        "outputId": "a4a8bc16-2da6-42be-ab1a-4ef7d2935099"
      },
      "source": [
        "profit_index = movie.columns.get_loc('gross') + 1\n",
        "profit_index"
      ],
      "execution_count": null,
      "outputs": [
        {
          "output_type": "execute_result",
          "data": {
            "text/plain": [
              "9"
            ]
          },
          "metadata": {},
          "execution_count": 83
        }
      ]
    },
    {
      "cell_type": "code",
      "metadata": {
        "id": "BwZCg8LiLAdh"
      },
      "source": [
        "movie.insert(loc=profit_index, column='profit', value=movie['gross'] - movie['budget'])"
      ],
      "execution_count": null,
      "outputs": []
    },
    {
      "cell_type": "code",
      "metadata": {
        "colab": {
          "base_uri": "https://localhost:8080/",
          "height": 270
        },
        "id": "Wy47KGU9LW0p",
        "outputId": "d0d7df6f-99b2-4ed8-bd53-f04a077f531a"
      },
      "source": [
        "movie.head()"
      ],
      "execution_count": null,
      "outputs": [
        {
          "output_type": "execute_result",
          "data": {
            "text/html": [
              "<div>\n",
              "<style scoped>\n",
              "    .dataframe tbody tr th:only-of-type {\n",
              "        vertical-align: middle;\n",
              "    }\n",
              "\n",
              "    .dataframe tbody tr th {\n",
              "        vertical-align: top;\n",
              "    }\n",
              "\n",
              "    .dataframe thead th {\n",
              "        text-align: right;\n",
              "    }\n",
              "</style>\n",
              "<table border=\"1\" class=\"dataframe\">\n",
              "  <thead>\n",
              "    <tr style=\"text-align: right;\">\n",
              "      <th></th>\n",
              "      <th>color</th>\n",
              "      <th>director_name</th>\n",
              "      <th>num_critic_for_reviews</th>\n",
              "      <th>duration</th>\n",
              "      <th>director_facebook_likes</th>\n",
              "      <th>...</th>\n",
              "      <th>movie_facebook_likes</th>\n",
              "      <th>has seen</th>\n",
              "      <th>is_cast_likes_more</th>\n",
              "      <th>actor_total_facebook_likes</th>\n",
              "      <th>pct_actor_cast_like</th>\n",
              "    </tr>\n",
              "  </thead>\n",
              "  <tbody>\n",
              "    <tr>\n",
              "      <th>0</th>\n",
              "      <td>Color</td>\n",
              "      <td>James Cameron</td>\n",
              "      <td>723.0</td>\n",
              "      <td>178.0</td>\n",
              "      <td>0.0</td>\n",
              "      <td>...</td>\n",
              "      <td>33000</td>\n",
              "      <td>0</td>\n",
              "      <td>True</td>\n",
              "      <td>2791.0</td>\n",
              "      <td>0.577369</td>\n",
              "    </tr>\n",
              "    <tr>\n",
              "      <th>1</th>\n",
              "      <td>Color</td>\n",
              "      <td>Gore Verbinski</td>\n",
              "      <td>302.0</td>\n",
              "      <td>169.0</td>\n",
              "      <td>563.0</td>\n",
              "      <td>...</td>\n",
              "      <td>0</td>\n",
              "      <td>0</td>\n",
              "      <td>True</td>\n",
              "      <td>46000.0</td>\n",
              "      <td>0.951396</td>\n",
              "    </tr>\n",
              "    <tr>\n",
              "      <th>2</th>\n",
              "      <td>Color</td>\n",
              "      <td>Sam Mendes</td>\n",
              "      <td>602.0</td>\n",
              "      <td>148.0</td>\n",
              "      <td>0.0</td>\n",
              "      <td>...</td>\n",
              "      <td>85000</td>\n",
              "      <td>0</td>\n",
              "      <td>True</td>\n",
              "      <td>11554.0</td>\n",
              "      <td>0.987521</td>\n",
              "    </tr>\n",
              "    <tr>\n",
              "      <th>3</th>\n",
              "      <td>Color</td>\n",
              "      <td>Christopher Nolan</td>\n",
              "      <td>813.0</td>\n",
              "      <td>164.0</td>\n",
              "      <td>22000.0</td>\n",
              "      <td>...</td>\n",
              "      <td>164000</td>\n",
              "      <td>0</td>\n",
              "      <td>True</td>\n",
              "      <td>73000.0</td>\n",
              "      <td>0.683783</td>\n",
              "    </tr>\n",
              "    <tr>\n",
              "      <th>4</th>\n",
              "      <td>NaN</td>\n",
              "      <td>Doug Walker</td>\n",
              "      <td>NaN</td>\n",
              "      <td>NaN</td>\n",
              "      <td>131.0</td>\n",
              "      <td>...</td>\n",
              "      <td>0</td>\n",
              "      <td>0</td>\n",
              "      <td>True</td>\n",
              "      <td>0.0</td>\n",
              "      <td>0.000000</td>\n",
              "    </tr>\n",
              "  </tbody>\n",
              "</table>\n",
              "<p>5 rows × 33 columns</p>\n",
              "</div>"
            ],
            "text/plain": [
              "   color      director_name  num_critic_for_reviews  duration  \\\n",
              "0  Color      James Cameron                   723.0     178.0   \n",
              "1  Color     Gore Verbinski                   302.0     169.0   \n",
              "2  Color         Sam Mendes                   602.0     148.0   \n",
              "3  Color  Christopher Nolan                   813.0     164.0   \n",
              "4    NaN        Doug Walker                     NaN       NaN   \n",
              "\n",
              "   director_facebook_likes  ...  movie_facebook_likes has seen  \\\n",
              "0                      0.0  ...                 33000        0   \n",
              "1                    563.0  ...                     0        0   \n",
              "2                      0.0  ...                 85000        0   \n",
              "3                  22000.0  ...                164000        0   \n",
              "4                    131.0  ...                     0        0   \n",
              "\n",
              "   is_cast_likes_more  actor_total_facebook_likes  pct_actor_cast_like  \n",
              "0                True                      2791.0             0.577369  \n",
              "1                True                     46000.0             0.951396  \n",
              "2                True                     11554.0             0.987521  \n",
              "3                True                     73000.0             0.683783  \n",
              "4                True                         0.0             0.000000  \n",
              "\n",
              "[5 rows x 33 columns]"
            ]
          },
          "metadata": {},
          "execution_count": 85
        }
      ]
    },
    {
      "cell_type": "code",
      "metadata": {
        "colab": {
          "base_uri": "https://localhost:8080/"
        },
        "id": "wQmLUzqLLaSk",
        "outputId": "7ee543e0-e400-4f74-891e-39f387e402e0"
      },
      "source": [
        "movie['profit'].sort_values(ascending=False)[0:20]"
      ],
      "execution_count": null,
      "outputs": [
        {
          "output_type": "execute_result",
          "data": {
            "text/plain": [
              "movie_title\n",
              "Avatar                                           523505847.0\n",
              "Jurassic World                                   502177271.0\n",
              "Titanic                                          458672302.0\n",
              "Star Wars: Episode IV - A New Hope               449935665.0\n",
              "E.T. the Extra-Terrestrial                       424449459.0\n",
              "The Avengers                                     403279547.0\n",
              "The Lion King                                    377783777.0\n",
              "Star Wars: Episode I - The Phantom Menace        359544677.0\n",
              "The Dark Knight                                  348316061.0\n",
              "The Hunger Games                                 329999255.0\n",
              "Deadpool                                         305024263.0\n",
              "The Hunger Games: Catching Fire                  294645577.0\n",
              "Jurassic Park                                    293784000.0\n",
              "Despicable Me 2                                  292049635.0\n",
              "American Sniper                                  291323553.0\n",
              "Finding Nemo                                     286838870.0\n",
              "Shrek 2                                          286471036.0\n",
              "The Lord of the Rings: The Return of the King    283019252.0\n",
              "Star Wars: Episode VI - Return of the Jedi       276625409.0\n",
              "Forrest Gump                                     274691196.0\n",
              "Name: profit, dtype: float64"
            ]
          },
          "metadata": {},
          "execution_count": 94
        }
      ]
    },
    {
      "cell_type": "code",
      "metadata": {
        "id": "A5UgIUhGLfki"
      },
      "source": [
        "movie = pd.read_csv('movie.csv')"
      ],
      "execution_count": null,
      "outputs": []
    },
    {
      "cell_type": "code",
      "metadata": {
        "id": "Bf5LKdGXqLUa"
      },
      "source": [
        "pd.options.display.max_columns = 40"
      ],
      "execution_count": null,
      "outputs": []
    },
    {
      "cell_type": "code",
      "metadata": {
        "colab": {
          "base_uri": "https://localhost:8080/",
          "height": 204
        },
        "id": "_bkgwuN1qdqr",
        "outputId": "a1ddb778-805c-4562-a956-0f25c17cdf2d"
      },
      "source": [
        "movie_actor_director = movie[['actor_1_name', 'actor_2_name', 'actor_3_name', 'director_name']]\n",
        "movie_actor_director.head()"
      ],
      "execution_count": null,
      "outputs": [
        {
          "output_type": "execute_result",
          "data": {
            "text/html": [
              "<div>\n",
              "<style scoped>\n",
              "    .dataframe tbody tr th:only-of-type {\n",
              "        vertical-align: middle;\n",
              "    }\n",
              "\n",
              "    .dataframe tbody tr th {\n",
              "        vertical-align: top;\n",
              "    }\n",
              "\n",
              "    .dataframe thead th {\n",
              "        text-align: right;\n",
              "    }\n",
              "</style>\n",
              "<table border=\"1\" class=\"dataframe\">\n",
              "  <thead>\n",
              "    <tr style=\"text-align: right;\">\n",
              "      <th></th>\n",
              "      <th>actor_1_name</th>\n",
              "      <th>actor_2_name</th>\n",
              "      <th>actor_3_name</th>\n",
              "      <th>director_name</th>\n",
              "    </tr>\n",
              "  </thead>\n",
              "  <tbody>\n",
              "    <tr>\n",
              "      <th>0</th>\n",
              "      <td>CCH Pounder</td>\n",
              "      <td>Joel David Moore</td>\n",
              "      <td>Wes Studi</td>\n",
              "      <td>James Cameron</td>\n",
              "    </tr>\n",
              "    <tr>\n",
              "      <th>1</th>\n",
              "      <td>Johnny Depp</td>\n",
              "      <td>Orlando Bloom</td>\n",
              "      <td>Jack Davenport</td>\n",
              "      <td>Gore Verbinski</td>\n",
              "    </tr>\n",
              "    <tr>\n",
              "      <th>2</th>\n",
              "      <td>Christoph Waltz</td>\n",
              "      <td>Rory Kinnear</td>\n",
              "      <td>Stephanie Sigman</td>\n",
              "      <td>Sam Mendes</td>\n",
              "    </tr>\n",
              "    <tr>\n",
              "      <th>3</th>\n",
              "      <td>Tom Hardy</td>\n",
              "      <td>Christian Bale</td>\n",
              "      <td>Joseph Gordon-Levitt</td>\n",
              "      <td>Christopher Nolan</td>\n",
              "    </tr>\n",
              "    <tr>\n",
              "      <th>4</th>\n",
              "      <td>Doug Walker</td>\n",
              "      <td>Rob Walker</td>\n",
              "      <td>NaN</td>\n",
              "      <td>Doug Walker</td>\n",
              "    </tr>\n",
              "  </tbody>\n",
              "</table>\n",
              "</div>"
            ],
            "text/plain": [
              "      actor_1_name      actor_2_name          actor_3_name      director_name\n",
              "0      CCH Pounder  Joel David Moore             Wes Studi      James Cameron\n",
              "1      Johnny Depp     Orlando Bloom        Jack Davenport     Gore Verbinski\n",
              "2  Christoph Waltz      Rory Kinnear      Stephanie Sigman         Sam Mendes\n",
              "3        Tom Hardy    Christian Bale  Joseph Gordon-Levitt  Christopher Nolan\n",
              "4      Doug Walker        Rob Walker                   NaN        Doug Walker"
            ]
          },
          "metadata": {},
          "execution_count": 99
        }
      ]
    },
    {
      "cell_type": "code",
      "metadata": {
        "colab": {
          "base_uri": "https://localhost:8080/",
          "height": 204
        },
        "id": "eE9sN635q6eh",
        "outputId": "2b5b6e76-514f-4635-c53a-21d55525dd23"
      },
      "source": [
        "movie[['director_name']].head()"
      ],
      "execution_count": null,
      "outputs": [
        {
          "output_type": "execute_result",
          "data": {
            "text/html": [
              "<div>\n",
              "<style scoped>\n",
              "    .dataframe tbody tr th:only-of-type {\n",
              "        vertical-align: middle;\n",
              "    }\n",
              "\n",
              "    .dataframe tbody tr th {\n",
              "        vertical-align: top;\n",
              "    }\n",
              "\n",
              "    .dataframe thead th {\n",
              "        text-align: right;\n",
              "    }\n",
              "</style>\n",
              "<table border=\"1\" class=\"dataframe\">\n",
              "  <thead>\n",
              "    <tr style=\"text-align: right;\">\n",
              "      <th></th>\n",
              "      <th>director_name</th>\n",
              "    </tr>\n",
              "  </thead>\n",
              "  <tbody>\n",
              "    <tr>\n",
              "      <th>0</th>\n",
              "      <td>James Cameron</td>\n",
              "    </tr>\n",
              "    <tr>\n",
              "      <th>1</th>\n",
              "      <td>Gore Verbinski</td>\n",
              "    </tr>\n",
              "    <tr>\n",
              "      <th>2</th>\n",
              "      <td>Sam Mendes</td>\n",
              "    </tr>\n",
              "    <tr>\n",
              "      <th>3</th>\n",
              "      <td>Christopher Nolan</td>\n",
              "    </tr>\n",
              "    <tr>\n",
              "      <th>4</th>\n",
              "      <td>Doug Walker</td>\n",
              "    </tr>\n",
              "  </tbody>\n",
              "</table>\n",
              "</div>"
            ],
            "text/plain": [
              "       director_name\n",
              "0      James Cameron\n",
              "1     Gore Verbinski\n",
              "2         Sam Mendes\n",
              "3  Christopher Nolan\n",
              "4        Doug Walker"
            ]
          },
          "metadata": {},
          "execution_count": 100
        }
      ]
    },
    {
      "cell_type": "code",
      "metadata": {
        "id": "VQ83UvotrIod"
      },
      "source": [
        "cols = ['actor_1_name', 'actor_2_name', 'actor_3_name', 'director_name']\n",
        "movie_actor_director = movie[cols]"
      ],
      "execution_count": null,
      "outputs": []
    },
    {
      "cell_type": "code",
      "metadata": {
        "colab": {
          "base_uri": "https://localhost:8080/",
          "height": 368
        },
        "id": "3iuU7AgBrSdA",
        "outputId": "ff08fcb1-93b3-4726-90f7-95eacaae68a3"
      },
      "source": [
        "movie = pd.read_csv('movie.csv', index_col='movie_title')\n",
        "movie.get_dtype_counts()"
      ],
      "execution_count": null,
      "outputs": [
        {
          "output_type": "error",
          "ename": "AttributeError",
          "evalue": "ignored",
          "traceback": [
            "\u001b[0;31m---------------------------------------------------------------------------\u001b[0m",
            "\u001b[0;31mAttributeError\u001b[0m                            Traceback (most recent call last)",
            "\u001b[0;32m<ipython-input-104-fa4a6176d165>\u001b[0m in \u001b[0;36m<module>\u001b[0;34m()\u001b[0m\n\u001b[1;32m      1\u001b[0m \u001b[0mmovie\u001b[0m \u001b[0;34m=\u001b[0m \u001b[0mpd\u001b[0m\u001b[0;34m.\u001b[0m\u001b[0mread_csv\u001b[0m\u001b[0;34m(\u001b[0m\u001b[0;34m'movie.csv'\u001b[0m\u001b[0;34m,\u001b[0m \u001b[0mindex_col\u001b[0m\u001b[0;34m=\u001b[0m\u001b[0;34m'movie_title'\u001b[0m\u001b[0;34m)\u001b[0m\u001b[0;34m\u001b[0m\u001b[0;34m\u001b[0m\u001b[0m\n\u001b[0;32m----> 2\u001b[0;31m \u001b[0mmovie\u001b[0m\u001b[0;34m.\u001b[0m\u001b[0mget_dtype_counts\u001b[0m\u001b[0;34m(\u001b[0m\u001b[0;34m)\u001b[0m\u001b[0;34m\u001b[0m\u001b[0;34m\u001b[0m\u001b[0m\n\u001b[0m",
            "\u001b[0;32m/usr/local/lib/python3.7/dist-packages/pandas/core/generic.py\u001b[0m in \u001b[0;36m__getattr__\u001b[0;34m(self, name)\u001b[0m\n\u001b[1;32m   5139\u001b[0m             \u001b[0;32mif\u001b[0m \u001b[0mself\u001b[0m\u001b[0;34m.\u001b[0m\u001b[0m_info_axis\u001b[0m\u001b[0;34m.\u001b[0m\u001b[0m_can_hold_identifiers_and_holds_name\u001b[0m\u001b[0;34m(\u001b[0m\u001b[0mname\u001b[0m\u001b[0;34m)\u001b[0m\u001b[0;34m:\u001b[0m\u001b[0;34m\u001b[0m\u001b[0;34m\u001b[0m\u001b[0m\n\u001b[1;32m   5140\u001b[0m                 \u001b[0;32mreturn\u001b[0m \u001b[0mself\u001b[0m\u001b[0;34m[\u001b[0m\u001b[0mname\u001b[0m\u001b[0;34m]\u001b[0m\u001b[0;34m\u001b[0m\u001b[0;34m\u001b[0m\u001b[0m\n\u001b[0;32m-> 5141\u001b[0;31m             \u001b[0;32mreturn\u001b[0m \u001b[0mobject\u001b[0m\u001b[0;34m.\u001b[0m\u001b[0m__getattribute__\u001b[0m\u001b[0;34m(\u001b[0m\u001b[0mself\u001b[0m\u001b[0;34m,\u001b[0m \u001b[0mname\u001b[0m\u001b[0;34m)\u001b[0m\u001b[0;34m\u001b[0m\u001b[0;34m\u001b[0m\u001b[0m\n\u001b[0m\u001b[1;32m   5142\u001b[0m \u001b[0;34m\u001b[0m\u001b[0m\n\u001b[1;32m   5143\u001b[0m     \u001b[0;32mdef\u001b[0m \u001b[0m__setattr__\u001b[0m\u001b[0;34m(\u001b[0m\u001b[0mself\u001b[0m\u001b[0;34m,\u001b[0m \u001b[0mname\u001b[0m\u001b[0;34m:\u001b[0m \u001b[0mstr\u001b[0m\u001b[0;34m,\u001b[0m \u001b[0mvalue\u001b[0m\u001b[0;34m)\u001b[0m \u001b[0;34m->\u001b[0m \u001b[0;32mNone\u001b[0m\u001b[0;34m:\u001b[0m\u001b[0;34m\u001b[0m\u001b[0;34m\u001b[0m\u001b[0m\n",
            "\u001b[0;31mAttributeError\u001b[0m: 'DataFrame' object has no attribute 'get_dtype_counts'"
          ]
        }
      ]
    },
    {
      "cell_type": "code",
      "metadata": {
        "colab": {
          "base_uri": "https://localhost:8080/",
          "height": 357
        },
        "id": "WlZ6IzBTsA8Z",
        "outputId": "04f01479-cf73-4a5c-c4ff-7a6338692774"
      },
      "source": [
        "movie.select_dtypes(include=['int']).head()"
      ],
      "execution_count": null,
      "outputs": [
        {
          "output_type": "execute_result",
          "data": {
            "text/html": [
              "<div>\n",
              "<style scoped>\n",
              "    .dataframe tbody tr th:only-of-type {\n",
              "        vertical-align: middle;\n",
              "    }\n",
              "\n",
              "    .dataframe tbody tr th {\n",
              "        vertical-align: top;\n",
              "    }\n",
              "\n",
              "    .dataframe thead th {\n",
              "        text-align: right;\n",
              "    }\n",
              "</style>\n",
              "<table border=\"1\" class=\"dataframe\">\n",
              "  <thead>\n",
              "    <tr style=\"text-align: right;\">\n",
              "      <th></th>\n",
              "      <th>num_voted_users</th>\n",
              "      <th>cast_total_facebook_likes</th>\n",
              "      <th>movie_facebook_likes</th>\n",
              "    </tr>\n",
              "    <tr>\n",
              "      <th>movie_title</th>\n",
              "      <th></th>\n",
              "      <th></th>\n",
              "      <th></th>\n",
              "    </tr>\n",
              "  </thead>\n",
              "  <tbody>\n",
              "    <tr>\n",
              "      <th>Avatar</th>\n",
              "      <td>886204</td>\n",
              "      <td>4834</td>\n",
              "      <td>33000</td>\n",
              "    </tr>\n",
              "    <tr>\n",
              "      <th>Pirates of the Caribbean: At World's End</th>\n",
              "      <td>471220</td>\n",
              "      <td>48350</td>\n",
              "      <td>0</td>\n",
              "    </tr>\n",
              "    <tr>\n",
              "      <th>Spectre</th>\n",
              "      <td>275868</td>\n",
              "      <td>11700</td>\n",
              "      <td>85000</td>\n",
              "    </tr>\n",
              "    <tr>\n",
              "      <th>The Dark Knight Rises</th>\n",
              "      <td>1144337</td>\n",
              "      <td>106759</td>\n",
              "      <td>164000</td>\n",
              "    </tr>\n",
              "    <tr>\n",
              "      <th>Star Wars: Episode VII - The Force Awakens</th>\n",
              "      <td>8</td>\n",
              "      <td>143</td>\n",
              "      <td>0</td>\n",
              "    </tr>\n",
              "  </tbody>\n",
              "</table>\n",
              "</div>"
            ],
            "text/plain": [
              "                                            num_voted_users  \\\n",
              "movie_title                                                   \n",
              "Avatar                                               886204   \n",
              "Pirates of the Caribbean: At World's End             471220   \n",
              "Spectre                                              275868   \n",
              "The Dark Knight Rises                               1144337   \n",
              "Star Wars: Episode VII - The Force Awakens                8   \n",
              "\n",
              "                                            cast_total_facebook_likes  \\\n",
              "movie_title                                                             \n",
              "Avatar                                                           4834   \n",
              "Pirates of the Caribbean: At World's End                        48350   \n",
              "Spectre                                                         11700   \n",
              "The Dark Knight Rises                                          106759   \n",
              "Star Wars: Episode VII - The Force Awakens                        143   \n",
              "\n",
              "                                            movie_facebook_likes  \n",
              "movie_title                                                       \n",
              "Avatar                                                     33000  \n",
              "Pirates of the Caribbean: At World's End                       0  \n",
              "Spectre                                                    85000  \n",
              "The Dark Knight Rises                                     164000  \n",
              "Star Wars: Episode VII - The Force Awakens                     0  "
            ]
          },
          "metadata": {},
          "execution_count": 105
        }
      ]
    },
    {
      "cell_type": "code",
      "metadata": {
        "colab": {
          "base_uri": "https://localhost:8080/",
          "height": 357
        },
        "id": "3uwgboJzsP2L",
        "outputId": "53bea062-763d-4cf4-def1-5d071cf1d88e"
      },
      "source": [
        "movie.select_dtypes(include=['number']).head()"
      ],
      "execution_count": null,
      "outputs": [
        {
          "output_type": "execute_result",
          "data": {
            "text/html": [
              "<div>\n",
              "<style scoped>\n",
              "    .dataframe tbody tr th:only-of-type {\n",
              "        vertical-align: middle;\n",
              "    }\n",
              "\n",
              "    .dataframe tbody tr th {\n",
              "        vertical-align: top;\n",
              "    }\n",
              "\n",
              "    .dataframe thead th {\n",
              "        text-align: right;\n",
              "    }\n",
              "</style>\n",
              "<table border=\"1\" class=\"dataframe\">\n",
              "  <thead>\n",
              "    <tr style=\"text-align: right;\">\n",
              "      <th></th>\n",
              "      <th>num_critic_for_reviews</th>\n",
              "      <th>duration</th>\n",
              "      <th>director_facebook_likes</th>\n",
              "      <th>actor_3_facebook_likes</th>\n",
              "      <th>actor_1_facebook_likes</th>\n",
              "      <th>gross</th>\n",
              "      <th>num_voted_users</th>\n",
              "      <th>cast_total_facebook_likes</th>\n",
              "      <th>facenumber_in_poster</th>\n",
              "      <th>num_user_for_reviews</th>\n",
              "      <th>budget</th>\n",
              "      <th>title_year</th>\n",
              "      <th>actor_2_facebook_likes</th>\n",
              "      <th>imdb_score</th>\n",
              "      <th>aspect_ratio</th>\n",
              "      <th>movie_facebook_likes</th>\n",
              "    </tr>\n",
              "    <tr>\n",
              "      <th>movie_title</th>\n",
              "      <th></th>\n",
              "      <th></th>\n",
              "      <th></th>\n",
              "      <th></th>\n",
              "      <th></th>\n",
              "      <th></th>\n",
              "      <th></th>\n",
              "      <th></th>\n",
              "      <th></th>\n",
              "      <th></th>\n",
              "      <th></th>\n",
              "      <th></th>\n",
              "      <th></th>\n",
              "      <th></th>\n",
              "      <th></th>\n",
              "      <th></th>\n",
              "    </tr>\n",
              "  </thead>\n",
              "  <tbody>\n",
              "    <tr>\n",
              "      <th>Avatar</th>\n",
              "      <td>723.0</td>\n",
              "      <td>178.0</td>\n",
              "      <td>0.0</td>\n",
              "      <td>855.0</td>\n",
              "      <td>1000.0</td>\n",
              "      <td>760505847.0</td>\n",
              "      <td>886204</td>\n",
              "      <td>4834</td>\n",
              "      <td>0.0</td>\n",
              "      <td>3054.0</td>\n",
              "      <td>237000000.0</td>\n",
              "      <td>2009.0</td>\n",
              "      <td>936.0</td>\n",
              "      <td>7.9</td>\n",
              "      <td>1.78</td>\n",
              "      <td>33000</td>\n",
              "    </tr>\n",
              "    <tr>\n",
              "      <th>Pirates of the Caribbean: At World's End</th>\n",
              "      <td>302.0</td>\n",
              "      <td>169.0</td>\n",
              "      <td>563.0</td>\n",
              "      <td>1000.0</td>\n",
              "      <td>40000.0</td>\n",
              "      <td>309404152.0</td>\n",
              "      <td>471220</td>\n",
              "      <td>48350</td>\n",
              "      <td>0.0</td>\n",
              "      <td>1238.0</td>\n",
              "      <td>300000000.0</td>\n",
              "      <td>2007.0</td>\n",
              "      <td>5000.0</td>\n",
              "      <td>7.1</td>\n",
              "      <td>2.35</td>\n",
              "      <td>0</td>\n",
              "    </tr>\n",
              "    <tr>\n",
              "      <th>Spectre</th>\n",
              "      <td>602.0</td>\n",
              "      <td>148.0</td>\n",
              "      <td>0.0</td>\n",
              "      <td>161.0</td>\n",
              "      <td>11000.0</td>\n",
              "      <td>200074175.0</td>\n",
              "      <td>275868</td>\n",
              "      <td>11700</td>\n",
              "      <td>1.0</td>\n",
              "      <td>994.0</td>\n",
              "      <td>245000000.0</td>\n",
              "      <td>2015.0</td>\n",
              "      <td>393.0</td>\n",
              "      <td>6.8</td>\n",
              "      <td>2.35</td>\n",
              "      <td>85000</td>\n",
              "    </tr>\n",
              "    <tr>\n",
              "      <th>The Dark Knight Rises</th>\n",
              "      <td>813.0</td>\n",
              "      <td>164.0</td>\n",
              "      <td>22000.0</td>\n",
              "      <td>23000.0</td>\n",
              "      <td>27000.0</td>\n",
              "      <td>448130642.0</td>\n",
              "      <td>1144337</td>\n",
              "      <td>106759</td>\n",
              "      <td>0.0</td>\n",
              "      <td>2701.0</td>\n",
              "      <td>250000000.0</td>\n",
              "      <td>2012.0</td>\n",
              "      <td>23000.0</td>\n",
              "      <td>8.5</td>\n",
              "      <td>2.35</td>\n",
              "      <td>164000</td>\n",
              "    </tr>\n",
              "    <tr>\n",
              "      <th>Star Wars: Episode VII - The Force Awakens</th>\n",
              "      <td>NaN</td>\n",
              "      <td>NaN</td>\n",
              "      <td>131.0</td>\n",
              "      <td>NaN</td>\n",
              "      <td>131.0</td>\n",
              "      <td>NaN</td>\n",
              "      <td>8</td>\n",
              "      <td>143</td>\n",
              "      <td>0.0</td>\n",
              "      <td>NaN</td>\n",
              "      <td>NaN</td>\n",
              "      <td>NaN</td>\n",
              "      <td>12.0</td>\n",
              "      <td>7.1</td>\n",
              "      <td>NaN</td>\n",
              "      <td>0</td>\n",
              "    </tr>\n",
              "  </tbody>\n",
              "</table>\n",
              "</div>"
            ],
            "text/plain": [
              "                                            num_critic_for_reviews  duration  \\\n",
              "movie_title                                                                    \n",
              "Avatar                                                       723.0     178.0   \n",
              "Pirates of the Caribbean: At World's End                     302.0     169.0   \n",
              "Spectre                                                      602.0     148.0   \n",
              "The Dark Knight Rises                                        813.0     164.0   \n",
              "Star Wars: Episode VII - The Force Awakens                     NaN       NaN   \n",
              "\n",
              "                                            director_facebook_likes  \\\n",
              "movie_title                                                           \n",
              "Avatar                                                          0.0   \n",
              "Pirates of the Caribbean: At World's End                      563.0   \n",
              "Spectre                                                         0.0   \n",
              "The Dark Knight Rises                                       22000.0   \n",
              "Star Wars: Episode VII - The Force Awakens                    131.0   \n",
              "\n",
              "                                            actor_3_facebook_likes  \\\n",
              "movie_title                                                          \n",
              "Avatar                                                       855.0   \n",
              "Pirates of the Caribbean: At World's End                    1000.0   \n",
              "Spectre                                                      161.0   \n",
              "The Dark Knight Rises                                      23000.0   \n",
              "Star Wars: Episode VII - The Force Awakens                     NaN   \n",
              "\n",
              "                                            actor_1_facebook_likes  \\\n",
              "movie_title                                                          \n",
              "Avatar                                                      1000.0   \n",
              "Pirates of the Caribbean: At World's End                   40000.0   \n",
              "Spectre                                                    11000.0   \n",
              "The Dark Knight Rises                                      27000.0   \n",
              "Star Wars: Episode VII - The Force Awakens                   131.0   \n",
              "\n",
              "                                                  gross  num_voted_users  \\\n",
              "movie_title                                                                \n",
              "Avatar                                      760505847.0           886204   \n",
              "Pirates of the Caribbean: At World's End    309404152.0           471220   \n",
              "Spectre                                     200074175.0           275868   \n",
              "The Dark Knight Rises                       448130642.0          1144337   \n",
              "Star Wars: Episode VII - The Force Awakens          NaN                8   \n",
              "\n",
              "                                            cast_total_facebook_likes  \\\n",
              "movie_title                                                             \n",
              "Avatar                                                           4834   \n",
              "Pirates of the Caribbean: At World's End                        48350   \n",
              "Spectre                                                         11700   \n",
              "The Dark Knight Rises                                          106759   \n",
              "Star Wars: Episode VII - The Force Awakens                        143   \n",
              "\n",
              "                                            facenumber_in_poster  \\\n",
              "movie_title                                                        \n",
              "Avatar                                                       0.0   \n",
              "Pirates of the Caribbean: At World's End                     0.0   \n",
              "Spectre                                                      1.0   \n",
              "The Dark Knight Rises                                        0.0   \n",
              "Star Wars: Episode VII - The Force Awakens                   0.0   \n",
              "\n",
              "                                            num_user_for_reviews       budget  \\\n",
              "movie_title                                                                     \n",
              "Avatar                                                    3054.0  237000000.0   \n",
              "Pirates of the Caribbean: At World's End                  1238.0  300000000.0   \n",
              "Spectre                                                    994.0  245000000.0   \n",
              "The Dark Knight Rises                                     2701.0  250000000.0   \n",
              "Star Wars: Episode VII - The Force Awakens                   NaN          NaN   \n",
              "\n",
              "                                            title_year  \\\n",
              "movie_title                                              \n",
              "Avatar                                          2009.0   \n",
              "Pirates of the Caribbean: At World's End        2007.0   \n",
              "Spectre                                         2015.0   \n",
              "The Dark Knight Rises                           2012.0   \n",
              "Star Wars: Episode VII - The Force Awakens         NaN   \n",
              "\n",
              "                                            actor_2_facebook_likes  \\\n",
              "movie_title                                                          \n",
              "Avatar                                                       936.0   \n",
              "Pirates of the Caribbean: At World's End                    5000.0   \n",
              "Spectre                                                      393.0   \n",
              "The Dark Knight Rises                                      23000.0   \n",
              "Star Wars: Episode VII - The Force Awakens                    12.0   \n",
              "\n",
              "                                            imdb_score  aspect_ratio  \\\n",
              "movie_title                                                            \n",
              "Avatar                                             7.9          1.78   \n",
              "Pirates of the Caribbean: At World's End           7.1          2.35   \n",
              "Spectre                                            6.8          2.35   \n",
              "The Dark Knight Rises                              8.5          2.35   \n",
              "Star Wars: Episode VII - The Force Awakens         7.1           NaN   \n",
              "\n",
              "                                            movie_facebook_likes  \n",
              "movie_title                                                       \n",
              "Avatar                                                     33000  \n",
              "Pirates of the Caribbean: At World's End                       0  \n",
              "Spectre                                                    85000  \n",
              "The Dark Knight Rises                                     164000  \n",
              "Star Wars: Episode VII - The Force Awakens                     0  "
            ]
          },
          "metadata": {},
          "execution_count": 106
        }
      ]
    },
    {
      "cell_type": "code",
      "metadata": {
        "colab": {
          "base_uri": "https://localhost:8080/",
          "height": 357
        },
        "id": "8cKDloj6sdBW",
        "outputId": "2c9a651a-71d3-4cc6-ef2a-5fec6e90244b"
      },
      "source": [
        "movie.filter(like='facebook').head()"
      ],
      "execution_count": null,
      "outputs": [
        {
          "output_type": "execute_result",
          "data": {
            "text/html": [
              "<div>\n",
              "<style scoped>\n",
              "    .dataframe tbody tr th:only-of-type {\n",
              "        vertical-align: middle;\n",
              "    }\n",
              "\n",
              "    .dataframe tbody tr th {\n",
              "        vertical-align: top;\n",
              "    }\n",
              "\n",
              "    .dataframe thead th {\n",
              "        text-align: right;\n",
              "    }\n",
              "</style>\n",
              "<table border=\"1\" class=\"dataframe\">\n",
              "  <thead>\n",
              "    <tr style=\"text-align: right;\">\n",
              "      <th></th>\n",
              "      <th>director_facebook_likes</th>\n",
              "      <th>actor_3_facebook_likes</th>\n",
              "      <th>actor_1_facebook_likes</th>\n",
              "      <th>cast_total_facebook_likes</th>\n",
              "      <th>actor_2_facebook_likes</th>\n",
              "      <th>movie_facebook_likes</th>\n",
              "    </tr>\n",
              "    <tr>\n",
              "      <th>movie_title</th>\n",
              "      <th></th>\n",
              "      <th></th>\n",
              "      <th></th>\n",
              "      <th></th>\n",
              "      <th></th>\n",
              "      <th></th>\n",
              "    </tr>\n",
              "  </thead>\n",
              "  <tbody>\n",
              "    <tr>\n",
              "      <th>Avatar</th>\n",
              "      <td>0.0</td>\n",
              "      <td>855.0</td>\n",
              "      <td>1000.0</td>\n",
              "      <td>4834</td>\n",
              "      <td>936.0</td>\n",
              "      <td>33000</td>\n",
              "    </tr>\n",
              "    <tr>\n",
              "      <th>Pirates of the Caribbean: At World's End</th>\n",
              "      <td>563.0</td>\n",
              "      <td>1000.0</td>\n",
              "      <td>40000.0</td>\n",
              "      <td>48350</td>\n",
              "      <td>5000.0</td>\n",
              "      <td>0</td>\n",
              "    </tr>\n",
              "    <tr>\n",
              "      <th>Spectre</th>\n",
              "      <td>0.0</td>\n",
              "      <td>161.0</td>\n",
              "      <td>11000.0</td>\n",
              "      <td>11700</td>\n",
              "      <td>393.0</td>\n",
              "      <td>85000</td>\n",
              "    </tr>\n",
              "    <tr>\n",
              "      <th>The Dark Knight Rises</th>\n",
              "      <td>22000.0</td>\n",
              "      <td>23000.0</td>\n",
              "      <td>27000.0</td>\n",
              "      <td>106759</td>\n",
              "      <td>23000.0</td>\n",
              "      <td>164000</td>\n",
              "    </tr>\n",
              "    <tr>\n",
              "      <th>Star Wars: Episode VII - The Force Awakens</th>\n",
              "      <td>131.0</td>\n",
              "      <td>NaN</td>\n",
              "      <td>131.0</td>\n",
              "      <td>143</td>\n",
              "      <td>12.0</td>\n",
              "      <td>0</td>\n",
              "    </tr>\n",
              "  </tbody>\n",
              "</table>\n",
              "</div>"
            ],
            "text/plain": [
              "                                            director_facebook_likes  \\\n",
              "movie_title                                                           \n",
              "Avatar                                                          0.0   \n",
              "Pirates of the Caribbean: At World's End                      563.0   \n",
              "Spectre                                                         0.0   \n",
              "The Dark Knight Rises                                       22000.0   \n",
              "Star Wars: Episode VII - The Force Awakens                    131.0   \n",
              "\n",
              "                                            actor_3_facebook_likes  \\\n",
              "movie_title                                                          \n",
              "Avatar                                                       855.0   \n",
              "Pirates of the Caribbean: At World's End                    1000.0   \n",
              "Spectre                                                      161.0   \n",
              "The Dark Knight Rises                                      23000.0   \n",
              "Star Wars: Episode VII - The Force Awakens                     NaN   \n",
              "\n",
              "                                            actor_1_facebook_likes  \\\n",
              "movie_title                                                          \n",
              "Avatar                                                      1000.0   \n",
              "Pirates of the Caribbean: At World's End                   40000.0   \n",
              "Spectre                                                    11000.0   \n",
              "The Dark Knight Rises                                      27000.0   \n",
              "Star Wars: Episode VII - The Force Awakens                   131.0   \n",
              "\n",
              "                                            cast_total_facebook_likes  \\\n",
              "movie_title                                                             \n",
              "Avatar                                                           4834   \n",
              "Pirates of the Caribbean: At World's End                        48350   \n",
              "Spectre                                                         11700   \n",
              "The Dark Knight Rises                                          106759   \n",
              "Star Wars: Episode VII - The Force Awakens                        143   \n",
              "\n",
              "                                            actor_2_facebook_likes  \\\n",
              "movie_title                                                          \n",
              "Avatar                                                       936.0   \n",
              "Pirates of the Caribbean: At World's End                    5000.0   \n",
              "Spectre                                                      393.0   \n",
              "The Dark Knight Rises                                      23000.0   \n",
              "Star Wars: Episode VII - The Force Awakens                    12.0   \n",
              "\n",
              "                                            movie_facebook_likes  \n",
              "movie_title                                                       \n",
              "Avatar                                                     33000  \n",
              "Pirates of the Caribbean: At World's End                       0  \n",
              "Spectre                                                    85000  \n",
              "The Dark Knight Rises                                     164000  \n",
              "Star Wars: Episode VII - The Force Awakens                     0  "
            ]
          },
          "metadata": {},
          "execution_count": 107
        }
      ]
    },
    {
      "cell_type": "code",
      "metadata": {
        "colab": {
          "base_uri": "https://localhost:8080/",
          "height": 391
        },
        "id": "H_x_SULOslDW",
        "outputId": "9c6d8564-b01d-44a8-98e4-dd251fe29859"
      },
      "source": [
        "movie.filter(regex='\\d').head()"
      ],
      "execution_count": null,
      "outputs": [
        {
          "output_type": "execute_result",
          "data": {
            "text/html": [
              "<div>\n",
              "<style scoped>\n",
              "    .dataframe tbody tr th:only-of-type {\n",
              "        vertical-align: middle;\n",
              "    }\n",
              "\n",
              "    .dataframe tbody tr th {\n",
              "        vertical-align: top;\n",
              "    }\n",
              "\n",
              "    .dataframe thead th {\n",
              "        text-align: right;\n",
              "    }\n",
              "</style>\n",
              "<table border=\"1\" class=\"dataframe\">\n",
              "  <thead>\n",
              "    <tr style=\"text-align: right;\">\n",
              "      <th></th>\n",
              "      <th>actor_3_facebook_likes</th>\n",
              "      <th>actor_2_name</th>\n",
              "      <th>actor_1_facebook_likes</th>\n",
              "      <th>actor_1_name</th>\n",
              "      <th>actor_3_name</th>\n",
              "      <th>actor_2_facebook_likes</th>\n",
              "    </tr>\n",
              "    <tr>\n",
              "      <th>movie_title</th>\n",
              "      <th></th>\n",
              "      <th></th>\n",
              "      <th></th>\n",
              "      <th></th>\n",
              "      <th></th>\n",
              "      <th></th>\n",
              "    </tr>\n",
              "  </thead>\n",
              "  <tbody>\n",
              "    <tr>\n",
              "      <th>Avatar</th>\n",
              "      <td>855.0</td>\n",
              "      <td>Joel David Moore</td>\n",
              "      <td>1000.0</td>\n",
              "      <td>CCH Pounder</td>\n",
              "      <td>Wes Studi</td>\n",
              "      <td>936.0</td>\n",
              "    </tr>\n",
              "    <tr>\n",
              "      <th>Pirates of the Caribbean: At World's End</th>\n",
              "      <td>1000.0</td>\n",
              "      <td>Orlando Bloom</td>\n",
              "      <td>40000.0</td>\n",
              "      <td>Johnny Depp</td>\n",
              "      <td>Jack Davenport</td>\n",
              "      <td>5000.0</td>\n",
              "    </tr>\n",
              "    <tr>\n",
              "      <th>Spectre</th>\n",
              "      <td>161.0</td>\n",
              "      <td>Rory Kinnear</td>\n",
              "      <td>11000.0</td>\n",
              "      <td>Christoph Waltz</td>\n",
              "      <td>Stephanie Sigman</td>\n",
              "      <td>393.0</td>\n",
              "    </tr>\n",
              "    <tr>\n",
              "      <th>The Dark Knight Rises</th>\n",
              "      <td>23000.0</td>\n",
              "      <td>Christian Bale</td>\n",
              "      <td>27000.0</td>\n",
              "      <td>Tom Hardy</td>\n",
              "      <td>Joseph Gordon-Levitt</td>\n",
              "      <td>23000.0</td>\n",
              "    </tr>\n",
              "    <tr>\n",
              "      <th>Star Wars: Episode VII - The Force Awakens</th>\n",
              "      <td>NaN</td>\n",
              "      <td>Rob Walker</td>\n",
              "      <td>131.0</td>\n",
              "      <td>Doug Walker</td>\n",
              "      <td>NaN</td>\n",
              "      <td>12.0</td>\n",
              "    </tr>\n",
              "  </tbody>\n",
              "</table>\n",
              "</div>"
            ],
            "text/plain": [
              "                                            actor_3_facebook_likes  \\\n",
              "movie_title                                                          \n",
              "Avatar                                                       855.0   \n",
              "Pirates of the Caribbean: At World's End                    1000.0   \n",
              "Spectre                                                      161.0   \n",
              "The Dark Knight Rises                                      23000.0   \n",
              "Star Wars: Episode VII - The Force Awakens                     NaN   \n",
              "\n",
              "                                                actor_2_name  \\\n",
              "movie_title                                                    \n",
              "Avatar                                      Joel David Moore   \n",
              "Pirates of the Caribbean: At World's End       Orlando Bloom   \n",
              "Spectre                                         Rory Kinnear   \n",
              "The Dark Knight Rises                         Christian Bale   \n",
              "Star Wars: Episode VII - The Force Awakens        Rob Walker   \n",
              "\n",
              "                                            actor_1_facebook_likes  \\\n",
              "movie_title                                                          \n",
              "Avatar                                                      1000.0   \n",
              "Pirates of the Caribbean: At World's End                   40000.0   \n",
              "Spectre                                                    11000.0   \n",
              "The Dark Knight Rises                                      27000.0   \n",
              "Star Wars: Episode VII - The Force Awakens                   131.0   \n",
              "\n",
              "                                               actor_1_name  \\\n",
              "movie_title                                                   \n",
              "Avatar                                          CCH Pounder   \n",
              "Pirates of the Caribbean: At World's End        Johnny Depp   \n",
              "Spectre                                     Christoph Waltz   \n",
              "The Dark Knight Rises                             Tom Hardy   \n",
              "Star Wars: Episode VII - The Force Awakens      Doug Walker   \n",
              "\n",
              "                                                    actor_3_name  \\\n",
              "movie_title                                                        \n",
              "Avatar                                                 Wes Studi   \n",
              "Pirates of the Caribbean: At World's End          Jack Davenport   \n",
              "Spectre                                         Stephanie Sigman   \n",
              "The Dark Knight Rises                       Joseph Gordon-Levitt   \n",
              "Star Wars: Episode VII - The Force Awakens                   NaN   \n",
              "\n",
              "                                            actor_2_facebook_likes  \n",
              "movie_title                                                         \n",
              "Avatar                                                       936.0  \n",
              "Pirates of the Caribbean: At World's End                    5000.0  \n",
              "Spectre                                                      393.0  \n",
              "The Dark Knight Rises                                      23000.0  \n",
              "Star Wars: Episode VII - The Force Awakens                    12.0  "
            ]
          },
          "metadata": {},
          "execution_count": 109
        }
      ]
    },
    {
      "cell_type": "code",
      "metadata": {
        "colab": {
          "base_uri": "https://localhost:8080/",
          "height": 198
        },
        "id": "p7bq71xtsvbY",
        "outputId": "57b40a88-9bb1-4fc1-8f62-3729673f1a95"
      },
      "source": [
        "movie.filter(items=['actor_1_name', 'asdf']).head()"
      ],
      "execution_count": null,
      "outputs": [
        {
          "output_type": "error",
          "ename": "NameError",
          "evalue": "ignored",
          "traceback": [
            "\u001b[0;31m---------------------------------------------------------------------------\u001b[0m",
            "\u001b[0;31mNameError\u001b[0m                                 Traceback (most recent call last)",
            "\u001b[0;32m<ipython-input-1-1564e62e2a46>\u001b[0m in \u001b[0;36m<module>\u001b[0;34m()\u001b[0m\n\u001b[0;32m----> 1\u001b[0;31m \u001b[0mmovie\u001b[0m\u001b[0;34m.\u001b[0m\u001b[0mfilter\u001b[0m\u001b[0;34m(\u001b[0m\u001b[0mitems\u001b[0m\u001b[0;34m=\u001b[0m\u001b[0;34m[\u001b[0m\u001b[0;34m'actor_1_name'\u001b[0m\u001b[0;34m,\u001b[0m \u001b[0;34m'asdf'\u001b[0m\u001b[0;34m]\u001b[0m\u001b[0;34m)\u001b[0m\u001b[0;34m.\u001b[0m\u001b[0mhead\u001b[0m\u001b[0;34m(\u001b[0m\u001b[0;34m)\u001b[0m\u001b[0;34m\u001b[0m\u001b[0;34m\u001b[0m\u001b[0m\n\u001b[0m",
            "\u001b[0;31mNameError\u001b[0m: name 'movie' is not defined"
          ]
        }
      ]
    },
    {
      "cell_type": "code",
      "metadata": {
        "id": "rp-ClN0fDBPW"
      },
      "source": [
        "import pandas as pd"
      ],
      "execution_count": null,
      "outputs": []
    },
    {
      "cell_type": "code",
      "metadata": {
        "colab": {
          "base_uri": "https://localhost:8080/",
          "height": 35
        },
        "id": "TjVW2LcnDEAW",
        "outputId": "fe46aa81-de3a-4f1e-8e35-52384ba423a0"
      },
      "source": [
        "%pwd"
      ],
      "execution_count": null,
      "outputs": [
        {
          "output_type": "execute_result",
          "data": {
            "application/vnd.google.colaboratory.intrinsic+json": {
              "type": "string"
            },
            "text/plain": [
              "'/content'"
            ]
          },
          "metadata": {},
          "execution_count": 4
        }
      ]
    },
    {
      "cell_type": "code",
      "metadata": {
        "id": "hmgJwx-tDHlT"
      },
      "source": [
        "import os\n",
        "os.chdir('/content/drive/MyDrive/code_one/pd_cook_data')"
      ],
      "execution_count": null,
      "outputs": []
    },
    {
      "cell_type": "code",
      "metadata": {
        "id": "phQd3I8iCubX"
      },
      "source": [
        "movie = pd.read_csv('movie.csv')"
      ],
      "execution_count": null,
      "outputs": []
    },
    {
      "cell_type": "code",
      "metadata": {
        "colab": {
          "base_uri": "https://localhost:8080/",
          "height": 204
        },
        "id": "tlImuYahC-Od",
        "outputId": "a0565191-e106-4b00-d888-c2462902a7fc"
      },
      "source": [
        "movie.filter(items=['actor_1_name', 'asdf']).head()"
      ],
      "execution_count": null,
      "outputs": [
        {
          "output_type": "execute_result",
          "data": {
            "text/html": [
              "<div>\n",
              "<style scoped>\n",
              "    .dataframe tbody tr th:only-of-type {\n",
              "        vertical-align: middle;\n",
              "    }\n",
              "\n",
              "    .dataframe tbody tr th {\n",
              "        vertical-align: top;\n",
              "    }\n",
              "\n",
              "    .dataframe thead th {\n",
              "        text-align: right;\n",
              "    }\n",
              "</style>\n",
              "<table border=\"1\" class=\"dataframe\">\n",
              "  <thead>\n",
              "    <tr style=\"text-align: right;\">\n",
              "      <th></th>\n",
              "      <th>actor_1_name</th>\n",
              "    </tr>\n",
              "  </thead>\n",
              "  <tbody>\n",
              "    <tr>\n",
              "      <th>0</th>\n",
              "      <td>CCH Pounder</td>\n",
              "    </tr>\n",
              "    <tr>\n",
              "      <th>1</th>\n",
              "      <td>Johnny Depp</td>\n",
              "    </tr>\n",
              "    <tr>\n",
              "      <th>2</th>\n",
              "      <td>Christoph Waltz</td>\n",
              "    </tr>\n",
              "    <tr>\n",
              "      <th>3</th>\n",
              "      <td>Tom Hardy</td>\n",
              "    </tr>\n",
              "    <tr>\n",
              "      <th>4</th>\n",
              "      <td>Doug Walker</td>\n",
              "    </tr>\n",
              "  </tbody>\n",
              "</table>\n",
              "</div>"
            ],
            "text/plain": [
              "      actor_1_name\n",
              "0      CCH Pounder\n",
              "1      Johnny Depp\n",
              "2  Christoph Waltz\n",
              "3        Tom Hardy\n",
              "4      Doug Walker"
            ]
          },
          "metadata": {},
          "execution_count": 7
        }
      ]
    },
    {
      "cell_type": "code",
      "metadata": {
        "colab": {
          "base_uri": "https://localhost:8080/",
          "height": 360
        },
        "id": "3J5PJ4T8De2I",
        "outputId": "5694b20f-f482-41a4-b21c-30eb6a9cc0bc"
      },
      "source": [
        "movie.head()"
      ],
      "execution_count": null,
      "outputs": [
        {
          "output_type": "execute_result",
          "data": {
            "text/html": [
              "<div>\n",
              "<style scoped>\n",
              "    .dataframe tbody tr th:only-of-type {\n",
              "        vertical-align: middle;\n",
              "    }\n",
              "\n",
              "    .dataframe tbody tr th {\n",
              "        vertical-align: top;\n",
              "    }\n",
              "\n",
              "    .dataframe thead th {\n",
              "        text-align: right;\n",
              "    }\n",
              "</style>\n",
              "<table border=\"1\" class=\"dataframe\">\n",
              "  <thead>\n",
              "    <tr style=\"text-align: right;\">\n",
              "      <th></th>\n",
              "      <th>color</th>\n",
              "      <th>director_name</th>\n",
              "      <th>num_critic_for_reviews</th>\n",
              "      <th>duration</th>\n",
              "      <th>director_facebook_likes</th>\n",
              "      <th>actor_3_facebook_likes</th>\n",
              "      <th>actor_2_name</th>\n",
              "      <th>actor_1_facebook_likes</th>\n",
              "      <th>gross</th>\n",
              "      <th>genres</th>\n",
              "      <th>actor_1_name</th>\n",
              "      <th>movie_title</th>\n",
              "      <th>num_voted_users</th>\n",
              "      <th>cast_total_facebook_likes</th>\n",
              "      <th>actor_3_name</th>\n",
              "      <th>facenumber_in_poster</th>\n",
              "      <th>plot_keywords</th>\n",
              "      <th>movie_imdb_link</th>\n",
              "      <th>num_user_for_reviews</th>\n",
              "      <th>language</th>\n",
              "      <th>country</th>\n",
              "      <th>content_rating</th>\n",
              "      <th>budget</th>\n",
              "      <th>title_year</th>\n",
              "      <th>actor_2_facebook_likes</th>\n",
              "      <th>imdb_score</th>\n",
              "      <th>aspect_ratio</th>\n",
              "      <th>movie_facebook_likes</th>\n",
              "    </tr>\n",
              "  </thead>\n",
              "  <tbody>\n",
              "    <tr>\n",
              "      <th>0</th>\n",
              "      <td>Color</td>\n",
              "      <td>James Cameron</td>\n",
              "      <td>723.0</td>\n",
              "      <td>178.0</td>\n",
              "      <td>0.0</td>\n",
              "      <td>855.0</td>\n",
              "      <td>Joel David Moore</td>\n",
              "      <td>1000.0</td>\n",
              "      <td>760505847.0</td>\n",
              "      <td>Action|Adventure|Fantasy|Sci-Fi</td>\n",
              "      <td>CCH Pounder</td>\n",
              "      <td>Avatar</td>\n",
              "      <td>886204</td>\n",
              "      <td>4834</td>\n",
              "      <td>Wes Studi</td>\n",
              "      <td>0.0</td>\n",
              "      <td>avatar|future|marine|native|paraplegic</td>\n",
              "      <td>http://www.imdb.com/title/tt0499549/?ref_=fn_t...</td>\n",
              "      <td>3054.0</td>\n",
              "      <td>English</td>\n",
              "      <td>USA</td>\n",
              "      <td>PG-13</td>\n",
              "      <td>237000000.0</td>\n",
              "      <td>2009.0</td>\n",
              "      <td>936.0</td>\n",
              "      <td>7.9</td>\n",
              "      <td>1.78</td>\n",
              "      <td>33000</td>\n",
              "    </tr>\n",
              "    <tr>\n",
              "      <th>1</th>\n",
              "      <td>Color</td>\n",
              "      <td>Gore Verbinski</td>\n",
              "      <td>302.0</td>\n",
              "      <td>169.0</td>\n",
              "      <td>563.0</td>\n",
              "      <td>1000.0</td>\n",
              "      <td>Orlando Bloom</td>\n",
              "      <td>40000.0</td>\n",
              "      <td>309404152.0</td>\n",
              "      <td>Action|Adventure|Fantasy</td>\n",
              "      <td>Johnny Depp</td>\n",
              "      <td>Pirates of the Caribbean: At World's End</td>\n",
              "      <td>471220</td>\n",
              "      <td>48350</td>\n",
              "      <td>Jack Davenport</td>\n",
              "      <td>0.0</td>\n",
              "      <td>goddess|marriage ceremony|marriage proposal|pi...</td>\n",
              "      <td>http://www.imdb.com/title/tt0449088/?ref_=fn_t...</td>\n",
              "      <td>1238.0</td>\n",
              "      <td>English</td>\n",
              "      <td>USA</td>\n",
              "      <td>PG-13</td>\n",
              "      <td>300000000.0</td>\n",
              "      <td>2007.0</td>\n",
              "      <td>5000.0</td>\n",
              "      <td>7.1</td>\n",
              "      <td>2.35</td>\n",
              "      <td>0</td>\n",
              "    </tr>\n",
              "    <tr>\n",
              "      <th>2</th>\n",
              "      <td>Color</td>\n",
              "      <td>Sam Mendes</td>\n",
              "      <td>602.0</td>\n",
              "      <td>148.0</td>\n",
              "      <td>0.0</td>\n",
              "      <td>161.0</td>\n",
              "      <td>Rory Kinnear</td>\n",
              "      <td>11000.0</td>\n",
              "      <td>200074175.0</td>\n",
              "      <td>Action|Adventure|Thriller</td>\n",
              "      <td>Christoph Waltz</td>\n",
              "      <td>Spectre</td>\n",
              "      <td>275868</td>\n",
              "      <td>11700</td>\n",
              "      <td>Stephanie Sigman</td>\n",
              "      <td>1.0</td>\n",
              "      <td>bomb|espionage|sequel|spy|terrorist</td>\n",
              "      <td>http://www.imdb.com/title/tt2379713/?ref_=fn_t...</td>\n",
              "      <td>994.0</td>\n",
              "      <td>English</td>\n",
              "      <td>UK</td>\n",
              "      <td>PG-13</td>\n",
              "      <td>245000000.0</td>\n",
              "      <td>2015.0</td>\n",
              "      <td>393.0</td>\n",
              "      <td>6.8</td>\n",
              "      <td>2.35</td>\n",
              "      <td>85000</td>\n",
              "    </tr>\n",
              "    <tr>\n",
              "      <th>3</th>\n",
              "      <td>Color</td>\n",
              "      <td>Christopher Nolan</td>\n",
              "      <td>813.0</td>\n",
              "      <td>164.0</td>\n",
              "      <td>22000.0</td>\n",
              "      <td>23000.0</td>\n",
              "      <td>Christian Bale</td>\n",
              "      <td>27000.0</td>\n",
              "      <td>448130642.0</td>\n",
              "      <td>Action|Thriller</td>\n",
              "      <td>Tom Hardy</td>\n",
              "      <td>The Dark Knight Rises</td>\n",
              "      <td>1144337</td>\n",
              "      <td>106759</td>\n",
              "      <td>Joseph Gordon-Levitt</td>\n",
              "      <td>0.0</td>\n",
              "      <td>deception|imprisonment|lawlessness|police offi...</td>\n",
              "      <td>http://www.imdb.com/title/tt1345836/?ref_=fn_t...</td>\n",
              "      <td>2701.0</td>\n",
              "      <td>English</td>\n",
              "      <td>USA</td>\n",
              "      <td>PG-13</td>\n",
              "      <td>250000000.0</td>\n",
              "      <td>2012.0</td>\n",
              "      <td>23000.0</td>\n",
              "      <td>8.5</td>\n",
              "      <td>2.35</td>\n",
              "      <td>164000</td>\n",
              "    </tr>\n",
              "    <tr>\n",
              "      <th>4</th>\n",
              "      <td>NaN</td>\n",
              "      <td>Doug Walker</td>\n",
              "      <td>NaN</td>\n",
              "      <td>NaN</td>\n",
              "      <td>131.0</td>\n",
              "      <td>NaN</td>\n",
              "      <td>Rob Walker</td>\n",
              "      <td>131.0</td>\n",
              "      <td>NaN</td>\n",
              "      <td>Documentary</td>\n",
              "      <td>Doug Walker</td>\n",
              "      <td>Star Wars: Episode VII - The Force Awakens</td>\n",
              "      <td>8</td>\n",
              "      <td>143</td>\n",
              "      <td>NaN</td>\n",
              "      <td>0.0</td>\n",
              "      <td>NaN</td>\n",
              "      <td>http://www.imdb.com/title/tt5289954/?ref_=fn_t...</td>\n",
              "      <td>NaN</td>\n",
              "      <td>NaN</td>\n",
              "      <td>NaN</td>\n",
              "      <td>NaN</td>\n",
              "      <td>NaN</td>\n",
              "      <td>NaN</td>\n",
              "      <td>12.0</td>\n",
              "      <td>7.1</td>\n",
              "      <td>NaN</td>\n",
              "      <td>0</td>\n",
              "    </tr>\n",
              "  </tbody>\n",
              "</table>\n",
              "</div>"
            ],
            "text/plain": [
              "   color      director_name  ...  aspect_ratio  movie_facebook_likes\n",
              "0  Color      James Cameron  ...          1.78                 33000\n",
              "1  Color     Gore Verbinski  ...          2.35                     0\n",
              "2  Color         Sam Mendes  ...          2.35                 85000\n",
              "3  Color  Christopher Nolan  ...          2.35                164000\n",
              "4    NaN        Doug Walker  ...           NaN                     0\n",
              "\n",
              "[5 rows x 28 columns]"
            ]
          },
          "metadata": {},
          "execution_count": 8
        }
      ]
    },
    {
      "cell_type": "code",
      "metadata": {
        "id": "o7hPP1gLDlPl"
      },
      "source": [
        "disc_core = ['movie_title','title_year', 'content_rating','genres']\n",
        "disc_people = ['director_name','actor_1_name', 'actor_2_name','actor_3_name']\n",
        "disc_other = ['color','country','language','plot_keywords','movie_imdb_link']\n",
        "cont_fb = ['director_facebook_likes','actor_1_facebook_likes','actor_2_facebook_likes',\n",
        "           'actor_3_facebook_likes', 'cast_total_facebook_likes', 'movie_facebook_likes']\n",
        "cont_finance = ['budget','gross']\n",
        "cont_num_reviews = ['num_voted_users','num_user_for_reviews', 'num_critic_for_reviews']\n",
        "cont_other = ['imdb_score','duration', 'aspect_ratio', 'facenumber_in_poster']"
      ],
      "execution_count": null,
      "outputs": []
    },
    {
      "cell_type": "code",
      "metadata": {
        "colab": {
          "base_uri": "https://localhost:8080/"
        },
        "id": "RbdXW2tCD_Kt",
        "outputId": "032f19f0-6b69-47b5-8821-bb3d8bf071ed"
      },
      "source": [
        "new_col_order = disc_core + disc_people + disc_other + \\\n",
        "                    cont_fb + cont_finance + cont_num_reviews + cont_other\n",
        "set(movie.columns) == set(new_col_order)"
      ],
      "execution_count": null,
      "outputs": [
        {
          "output_type": "execute_result",
          "data": {
            "text/plain": [
              "True"
            ]
          },
          "metadata": {},
          "execution_count": 10
        }
      ]
    },
    {
      "cell_type": "code",
      "metadata": {
        "colab": {
          "base_uri": "https://localhost:8080/",
          "height": 360
        },
        "id": "pW0_p3JYEKEL",
        "outputId": "fb19bf6e-95d3-421a-deea-031c0b8674c9"
      },
      "source": [
        "movie2 = movie[new_col_order]\n",
        "movie2.head()"
      ],
      "execution_count": null,
      "outputs": [
        {
          "output_type": "execute_result",
          "data": {
            "text/html": [
              "<div>\n",
              "<style scoped>\n",
              "    .dataframe tbody tr th:only-of-type {\n",
              "        vertical-align: middle;\n",
              "    }\n",
              "\n",
              "    .dataframe tbody tr th {\n",
              "        vertical-align: top;\n",
              "    }\n",
              "\n",
              "    .dataframe thead th {\n",
              "        text-align: right;\n",
              "    }\n",
              "</style>\n",
              "<table border=\"1\" class=\"dataframe\">\n",
              "  <thead>\n",
              "    <tr style=\"text-align: right;\">\n",
              "      <th></th>\n",
              "      <th>movie_title</th>\n",
              "      <th>title_year</th>\n",
              "      <th>content_rating</th>\n",
              "      <th>genres</th>\n",
              "      <th>director_name</th>\n",
              "      <th>actor_1_name</th>\n",
              "      <th>actor_2_name</th>\n",
              "      <th>actor_3_name</th>\n",
              "      <th>color</th>\n",
              "      <th>country</th>\n",
              "      <th>language</th>\n",
              "      <th>plot_keywords</th>\n",
              "      <th>movie_imdb_link</th>\n",
              "      <th>director_facebook_likes</th>\n",
              "      <th>actor_1_facebook_likes</th>\n",
              "      <th>actor_2_facebook_likes</th>\n",
              "      <th>actor_3_facebook_likes</th>\n",
              "      <th>cast_total_facebook_likes</th>\n",
              "      <th>movie_facebook_likes</th>\n",
              "      <th>budget</th>\n",
              "      <th>gross</th>\n",
              "      <th>num_voted_users</th>\n",
              "      <th>num_user_for_reviews</th>\n",
              "      <th>num_critic_for_reviews</th>\n",
              "      <th>imdb_score</th>\n",
              "      <th>duration</th>\n",
              "      <th>aspect_ratio</th>\n",
              "      <th>facenumber_in_poster</th>\n",
              "    </tr>\n",
              "  </thead>\n",
              "  <tbody>\n",
              "    <tr>\n",
              "      <th>0</th>\n",
              "      <td>Avatar</td>\n",
              "      <td>2009.0</td>\n",
              "      <td>PG-13</td>\n",
              "      <td>Action|Adventure|Fantasy|Sci-Fi</td>\n",
              "      <td>James Cameron</td>\n",
              "      <td>CCH Pounder</td>\n",
              "      <td>Joel David Moore</td>\n",
              "      <td>Wes Studi</td>\n",
              "      <td>Color</td>\n",
              "      <td>USA</td>\n",
              "      <td>English</td>\n",
              "      <td>avatar|future|marine|native|paraplegic</td>\n",
              "      <td>http://www.imdb.com/title/tt0499549/?ref_=fn_t...</td>\n",
              "      <td>0.0</td>\n",
              "      <td>1000.0</td>\n",
              "      <td>936.0</td>\n",
              "      <td>855.0</td>\n",
              "      <td>4834</td>\n",
              "      <td>33000</td>\n",
              "      <td>237000000.0</td>\n",
              "      <td>760505847.0</td>\n",
              "      <td>886204</td>\n",
              "      <td>3054.0</td>\n",
              "      <td>723.0</td>\n",
              "      <td>7.9</td>\n",
              "      <td>178.0</td>\n",
              "      <td>1.78</td>\n",
              "      <td>0.0</td>\n",
              "    </tr>\n",
              "    <tr>\n",
              "      <th>1</th>\n",
              "      <td>Pirates of the Caribbean: At World's End</td>\n",
              "      <td>2007.0</td>\n",
              "      <td>PG-13</td>\n",
              "      <td>Action|Adventure|Fantasy</td>\n",
              "      <td>Gore Verbinski</td>\n",
              "      <td>Johnny Depp</td>\n",
              "      <td>Orlando Bloom</td>\n",
              "      <td>Jack Davenport</td>\n",
              "      <td>Color</td>\n",
              "      <td>USA</td>\n",
              "      <td>English</td>\n",
              "      <td>goddess|marriage ceremony|marriage proposal|pi...</td>\n",
              "      <td>http://www.imdb.com/title/tt0449088/?ref_=fn_t...</td>\n",
              "      <td>563.0</td>\n",
              "      <td>40000.0</td>\n",
              "      <td>5000.0</td>\n",
              "      <td>1000.0</td>\n",
              "      <td>48350</td>\n",
              "      <td>0</td>\n",
              "      <td>300000000.0</td>\n",
              "      <td>309404152.0</td>\n",
              "      <td>471220</td>\n",
              "      <td>1238.0</td>\n",
              "      <td>302.0</td>\n",
              "      <td>7.1</td>\n",
              "      <td>169.0</td>\n",
              "      <td>2.35</td>\n",
              "      <td>0.0</td>\n",
              "    </tr>\n",
              "    <tr>\n",
              "      <th>2</th>\n",
              "      <td>Spectre</td>\n",
              "      <td>2015.0</td>\n",
              "      <td>PG-13</td>\n",
              "      <td>Action|Adventure|Thriller</td>\n",
              "      <td>Sam Mendes</td>\n",
              "      <td>Christoph Waltz</td>\n",
              "      <td>Rory Kinnear</td>\n",
              "      <td>Stephanie Sigman</td>\n",
              "      <td>Color</td>\n",
              "      <td>UK</td>\n",
              "      <td>English</td>\n",
              "      <td>bomb|espionage|sequel|spy|terrorist</td>\n",
              "      <td>http://www.imdb.com/title/tt2379713/?ref_=fn_t...</td>\n",
              "      <td>0.0</td>\n",
              "      <td>11000.0</td>\n",
              "      <td>393.0</td>\n",
              "      <td>161.0</td>\n",
              "      <td>11700</td>\n",
              "      <td>85000</td>\n",
              "      <td>245000000.0</td>\n",
              "      <td>200074175.0</td>\n",
              "      <td>275868</td>\n",
              "      <td>994.0</td>\n",
              "      <td>602.0</td>\n",
              "      <td>6.8</td>\n",
              "      <td>148.0</td>\n",
              "      <td>2.35</td>\n",
              "      <td>1.0</td>\n",
              "    </tr>\n",
              "    <tr>\n",
              "      <th>3</th>\n",
              "      <td>The Dark Knight Rises</td>\n",
              "      <td>2012.0</td>\n",
              "      <td>PG-13</td>\n",
              "      <td>Action|Thriller</td>\n",
              "      <td>Christopher Nolan</td>\n",
              "      <td>Tom Hardy</td>\n",
              "      <td>Christian Bale</td>\n",
              "      <td>Joseph Gordon-Levitt</td>\n",
              "      <td>Color</td>\n",
              "      <td>USA</td>\n",
              "      <td>English</td>\n",
              "      <td>deception|imprisonment|lawlessness|police offi...</td>\n",
              "      <td>http://www.imdb.com/title/tt1345836/?ref_=fn_t...</td>\n",
              "      <td>22000.0</td>\n",
              "      <td>27000.0</td>\n",
              "      <td>23000.0</td>\n",
              "      <td>23000.0</td>\n",
              "      <td>106759</td>\n",
              "      <td>164000</td>\n",
              "      <td>250000000.0</td>\n",
              "      <td>448130642.0</td>\n",
              "      <td>1144337</td>\n",
              "      <td>2701.0</td>\n",
              "      <td>813.0</td>\n",
              "      <td>8.5</td>\n",
              "      <td>164.0</td>\n",
              "      <td>2.35</td>\n",
              "      <td>0.0</td>\n",
              "    </tr>\n",
              "    <tr>\n",
              "      <th>4</th>\n",
              "      <td>Star Wars: Episode VII - The Force Awakens</td>\n",
              "      <td>NaN</td>\n",
              "      <td>NaN</td>\n",
              "      <td>Documentary</td>\n",
              "      <td>Doug Walker</td>\n",
              "      <td>Doug Walker</td>\n",
              "      <td>Rob Walker</td>\n",
              "      <td>NaN</td>\n",
              "      <td>NaN</td>\n",
              "      <td>NaN</td>\n",
              "      <td>NaN</td>\n",
              "      <td>NaN</td>\n",
              "      <td>http://www.imdb.com/title/tt5289954/?ref_=fn_t...</td>\n",
              "      <td>131.0</td>\n",
              "      <td>131.0</td>\n",
              "      <td>12.0</td>\n",
              "      <td>NaN</td>\n",
              "      <td>143</td>\n",
              "      <td>0</td>\n",
              "      <td>NaN</td>\n",
              "      <td>NaN</td>\n",
              "      <td>8</td>\n",
              "      <td>NaN</td>\n",
              "      <td>NaN</td>\n",
              "      <td>7.1</td>\n",
              "      <td>NaN</td>\n",
              "      <td>NaN</td>\n",
              "      <td>0.0</td>\n",
              "    </tr>\n",
              "  </tbody>\n",
              "</table>\n",
              "</div>"
            ],
            "text/plain": [
              "                                  movie_title  ...  facenumber_in_poster\n",
              "0                                      Avatar  ...                   0.0\n",
              "1    Pirates of the Caribbean: At World's End  ...                   0.0\n",
              "2                                     Spectre  ...                   1.0\n",
              "3                       The Dark Knight Rises  ...                   0.0\n",
              "4  Star Wars: Episode VII - The Force Awakens  ...                   0.0\n",
              "\n",
              "[5 rows x 28 columns]"
            ]
          },
          "metadata": {},
          "execution_count": 11
        }
      ]
    },
    {
      "cell_type": "code",
      "metadata": {
        "colab": {
          "base_uri": "https://localhost:8080/"
        },
        "id": "SLvACYrHEesb",
        "outputId": "80b4f7c3-22d9-4aa0-c313-536c61366a4c"
      },
      "source": [
        "pd.options.display.max_rows = 15\n",
        "movie.shape"
      ],
      "execution_count": null,
      "outputs": [
        {
          "output_type": "execute_result",
          "data": {
            "text/plain": [
              "(4916, 28)"
            ]
          },
          "metadata": {},
          "execution_count": 38
        }
      ]
    },
    {
      "cell_type": "code",
      "metadata": {
        "colab": {
          "base_uri": "https://localhost:8080/"
        },
        "id": "l2IntWwjE25O",
        "outputId": "02646276-7bac-4aac-d603-65bdcff350ba"
      },
      "source": [
        "movie.size"
      ],
      "execution_count": null,
      "outputs": [
        {
          "output_type": "execute_result",
          "data": {
            "text/plain": [
              "137648"
            ]
          },
          "metadata": {},
          "execution_count": 13
        }
      ]
    },
    {
      "cell_type": "code",
      "metadata": {
        "colab": {
          "base_uri": "https://localhost:8080/",
          "height": 317
        },
        "id": "ETgfl3V8E7Qf",
        "outputId": "1e3e681b-2f3b-4c6b-f786-fc57943ce563"
      },
      "source": [
        "movie.describe()"
      ],
      "execution_count": null,
      "outputs": [
        {
          "output_type": "execute_result",
          "data": {
            "text/html": [
              "<div>\n",
              "<style scoped>\n",
              "    .dataframe tbody tr th:only-of-type {\n",
              "        vertical-align: middle;\n",
              "    }\n",
              "\n",
              "    .dataframe tbody tr th {\n",
              "        vertical-align: top;\n",
              "    }\n",
              "\n",
              "    .dataframe thead th {\n",
              "        text-align: right;\n",
              "    }\n",
              "</style>\n",
              "<table border=\"1\" class=\"dataframe\">\n",
              "  <thead>\n",
              "    <tr style=\"text-align: right;\">\n",
              "      <th></th>\n",
              "      <th>num_critic_for_reviews</th>\n",
              "      <th>duration</th>\n",
              "      <th>director_facebook_likes</th>\n",
              "      <th>actor_3_facebook_likes</th>\n",
              "      <th>actor_1_facebook_likes</th>\n",
              "      <th>gross</th>\n",
              "      <th>num_voted_users</th>\n",
              "      <th>cast_total_facebook_likes</th>\n",
              "      <th>facenumber_in_poster</th>\n",
              "      <th>num_user_for_reviews</th>\n",
              "      <th>budget</th>\n",
              "      <th>title_year</th>\n",
              "      <th>actor_2_facebook_likes</th>\n",
              "      <th>imdb_score</th>\n",
              "      <th>aspect_ratio</th>\n",
              "      <th>movie_facebook_likes</th>\n",
              "    </tr>\n",
              "  </thead>\n",
              "  <tbody>\n",
              "    <tr>\n",
              "      <th>count</th>\n",
              "      <td>4867.000000</td>\n",
              "      <td>4901.000000</td>\n",
              "      <td>4814.000000</td>\n",
              "      <td>4893.000000</td>\n",
              "      <td>4909.000000</td>\n",
              "      <td>4.054000e+03</td>\n",
              "      <td>4.916000e+03</td>\n",
              "      <td>4916.000000</td>\n",
              "      <td>4903.000000</td>\n",
              "      <td>4895.000000</td>\n",
              "      <td>4.432000e+03</td>\n",
              "      <td>4810.000000</td>\n",
              "      <td>4903.000000</td>\n",
              "      <td>4916.000000</td>\n",
              "      <td>4590.000000</td>\n",
              "      <td>4916.000000</td>\n",
              "    </tr>\n",
              "    <tr>\n",
              "      <th>mean</th>\n",
              "      <td>137.988905</td>\n",
              "      <td>107.090798</td>\n",
              "      <td>691.014541</td>\n",
              "      <td>631.276313</td>\n",
              "      <td>6494.488491</td>\n",
              "      <td>4.764451e+07</td>\n",
              "      <td>8.264492e+04</td>\n",
              "      <td>9579.815907</td>\n",
              "      <td>1.377320</td>\n",
              "      <td>267.668846</td>\n",
              "      <td>3.654749e+07</td>\n",
              "      <td>2002.447609</td>\n",
              "      <td>1621.923516</td>\n",
              "      <td>6.437429</td>\n",
              "      <td>2.222349</td>\n",
              "      <td>7348.294142</td>\n",
              "    </tr>\n",
              "    <tr>\n",
              "      <th>std</th>\n",
              "      <td>120.239379</td>\n",
              "      <td>25.286015</td>\n",
              "      <td>2832.954125</td>\n",
              "      <td>1625.874802</td>\n",
              "      <td>15106.986884</td>\n",
              "      <td>6.737255e+07</td>\n",
              "      <td>1.383222e+05</td>\n",
              "      <td>18164.316990</td>\n",
              "      <td>2.023826</td>\n",
              "      <td>372.934839</td>\n",
              "      <td>1.002427e+08</td>\n",
              "      <td>12.453977</td>\n",
              "      <td>4011.299523</td>\n",
              "      <td>1.127802</td>\n",
              "      <td>1.402940</td>\n",
              "      <td>19206.016458</td>\n",
              "    </tr>\n",
              "    <tr>\n",
              "      <th>min</th>\n",
              "      <td>1.000000</td>\n",
              "      <td>7.000000</td>\n",
              "      <td>0.000000</td>\n",
              "      <td>0.000000</td>\n",
              "      <td>0.000000</td>\n",
              "      <td>1.620000e+02</td>\n",
              "      <td>5.000000e+00</td>\n",
              "      <td>0.000000</td>\n",
              "      <td>0.000000</td>\n",
              "      <td>1.000000</td>\n",
              "      <td>2.180000e+02</td>\n",
              "      <td>1916.000000</td>\n",
              "      <td>0.000000</td>\n",
              "      <td>1.600000</td>\n",
              "      <td>1.180000</td>\n",
              "      <td>0.000000</td>\n",
              "    </tr>\n",
              "    <tr>\n",
              "      <th>25%</th>\n",
              "      <td>49.000000</td>\n",
              "      <td>93.000000</td>\n",
              "      <td>7.000000</td>\n",
              "      <td>132.000000</td>\n",
              "      <td>607.000000</td>\n",
              "      <td>5.019656e+06</td>\n",
              "      <td>8.361750e+03</td>\n",
              "      <td>1394.750000</td>\n",
              "      <td>0.000000</td>\n",
              "      <td>64.000000</td>\n",
              "      <td>6.000000e+06</td>\n",
              "      <td>1999.000000</td>\n",
              "      <td>277.000000</td>\n",
              "      <td>5.800000</td>\n",
              "      <td>1.850000</td>\n",
              "      <td>0.000000</td>\n",
              "    </tr>\n",
              "    <tr>\n",
              "      <th>50%</th>\n",
              "      <td>108.000000</td>\n",
              "      <td>103.000000</td>\n",
              "      <td>48.000000</td>\n",
              "      <td>366.000000</td>\n",
              "      <td>982.000000</td>\n",
              "      <td>2.504396e+07</td>\n",
              "      <td>3.313250e+04</td>\n",
              "      <td>3049.000000</td>\n",
              "      <td>1.000000</td>\n",
              "      <td>153.000000</td>\n",
              "      <td>1.985000e+07</td>\n",
              "      <td>2005.000000</td>\n",
              "      <td>593.000000</td>\n",
              "      <td>6.600000</td>\n",
              "      <td>2.350000</td>\n",
              "      <td>159.000000</td>\n",
              "    </tr>\n",
              "    <tr>\n",
              "      <th>75%</th>\n",
              "      <td>191.000000</td>\n",
              "      <td>118.000000</td>\n",
              "      <td>189.750000</td>\n",
              "      <td>633.000000</td>\n",
              "      <td>11000.000000</td>\n",
              "      <td>6.110841e+07</td>\n",
              "      <td>9.377275e+04</td>\n",
              "      <td>13616.750000</td>\n",
              "      <td>2.000000</td>\n",
              "      <td>320.500000</td>\n",
              "      <td>4.300000e+07</td>\n",
              "      <td>2011.000000</td>\n",
              "      <td>912.000000</td>\n",
              "      <td>7.200000</td>\n",
              "      <td>2.350000</td>\n",
              "      <td>2000.000000</td>\n",
              "    </tr>\n",
              "    <tr>\n",
              "      <th>max</th>\n",
              "      <td>813.000000</td>\n",
              "      <td>511.000000</td>\n",
              "      <td>23000.000000</td>\n",
              "      <td>23000.000000</td>\n",
              "      <td>640000.000000</td>\n",
              "      <td>7.605058e+08</td>\n",
              "      <td>1.689764e+06</td>\n",
              "      <td>656730.000000</td>\n",
              "      <td>43.000000</td>\n",
              "      <td>5060.000000</td>\n",
              "      <td>4.200000e+09</td>\n",
              "      <td>2016.000000</td>\n",
              "      <td>137000.000000</td>\n",
              "      <td>9.500000</td>\n",
              "      <td>16.000000</td>\n",
              "      <td>349000.000000</td>\n",
              "    </tr>\n",
              "  </tbody>\n",
              "</table>\n",
              "</div>"
            ],
            "text/plain": [
              "       num_critic_for_reviews     duration  ...  aspect_ratio  movie_facebook_likes\n",
              "count             4867.000000  4901.000000  ...   4590.000000           4916.000000\n",
              "mean               137.988905   107.090798  ...      2.222349           7348.294142\n",
              "std                120.239379    25.286015  ...      1.402940          19206.016458\n",
              "min                  1.000000     7.000000  ...      1.180000              0.000000\n",
              "25%                 49.000000    93.000000  ...      1.850000              0.000000\n",
              "50%                108.000000   103.000000  ...      2.350000            159.000000\n",
              "75%                191.000000   118.000000  ...      2.350000           2000.000000\n",
              "max                813.000000   511.000000  ...     16.000000         349000.000000\n",
              "\n",
              "[8 rows x 16 columns]"
            ]
          },
          "metadata": {},
          "execution_count": 14
        }
      ]
    },
    {
      "cell_type": "code",
      "metadata": {
        "colab": {
          "base_uri": "https://localhost:8080/",
          "height": 348
        },
        "id": "T16rS9UKFCrC",
        "outputId": "f0909fa5-a731-4b24-c586-0fcf44b6490d"
      },
      "source": [
        "movie.describe(percentiles=[.01, .3, .99])"
      ],
      "execution_count": null,
      "outputs": [
        {
          "output_type": "execute_result",
          "data": {
            "text/html": [
              "<div>\n",
              "<style scoped>\n",
              "    .dataframe tbody tr th:only-of-type {\n",
              "        vertical-align: middle;\n",
              "    }\n",
              "\n",
              "    .dataframe tbody tr th {\n",
              "        vertical-align: top;\n",
              "    }\n",
              "\n",
              "    .dataframe thead th {\n",
              "        text-align: right;\n",
              "    }\n",
              "</style>\n",
              "<table border=\"1\" class=\"dataframe\">\n",
              "  <thead>\n",
              "    <tr style=\"text-align: right;\">\n",
              "      <th></th>\n",
              "      <th>num_critic_for_reviews</th>\n",
              "      <th>duration</th>\n",
              "      <th>director_facebook_likes</th>\n",
              "      <th>actor_3_facebook_likes</th>\n",
              "      <th>actor_1_facebook_likes</th>\n",
              "      <th>gross</th>\n",
              "      <th>num_voted_users</th>\n",
              "      <th>cast_total_facebook_likes</th>\n",
              "      <th>facenumber_in_poster</th>\n",
              "      <th>num_user_for_reviews</th>\n",
              "      <th>budget</th>\n",
              "      <th>title_year</th>\n",
              "      <th>actor_2_facebook_likes</th>\n",
              "      <th>imdb_score</th>\n",
              "      <th>aspect_ratio</th>\n",
              "      <th>movie_facebook_likes</th>\n",
              "    </tr>\n",
              "  </thead>\n",
              "  <tbody>\n",
              "    <tr>\n",
              "      <th>count</th>\n",
              "      <td>4867.000000</td>\n",
              "      <td>4901.000000</td>\n",
              "      <td>4814.000000</td>\n",
              "      <td>4893.000000</td>\n",
              "      <td>4909.000000</td>\n",
              "      <td>4.054000e+03</td>\n",
              "      <td>4.916000e+03</td>\n",
              "      <td>4916.000000</td>\n",
              "      <td>4903.000000</td>\n",
              "      <td>4895.000000</td>\n",
              "      <td>4.432000e+03</td>\n",
              "      <td>4810.000000</td>\n",
              "      <td>4903.000000</td>\n",
              "      <td>4916.000000</td>\n",
              "      <td>4590.000000</td>\n",
              "      <td>4916.000000</td>\n",
              "    </tr>\n",
              "    <tr>\n",
              "      <th>mean</th>\n",
              "      <td>137.988905</td>\n",
              "      <td>107.090798</td>\n",
              "      <td>691.014541</td>\n",
              "      <td>631.276313</td>\n",
              "      <td>6494.488491</td>\n",
              "      <td>4.764451e+07</td>\n",
              "      <td>8.264492e+04</td>\n",
              "      <td>9579.815907</td>\n",
              "      <td>1.377320</td>\n",
              "      <td>267.668846</td>\n",
              "      <td>3.654749e+07</td>\n",
              "      <td>2002.447609</td>\n",
              "      <td>1621.923516</td>\n",
              "      <td>6.437429</td>\n",
              "      <td>2.222349</td>\n",
              "      <td>7348.294142</td>\n",
              "    </tr>\n",
              "    <tr>\n",
              "      <th>std</th>\n",
              "      <td>120.239379</td>\n",
              "      <td>25.286015</td>\n",
              "      <td>2832.954125</td>\n",
              "      <td>1625.874802</td>\n",
              "      <td>15106.986884</td>\n",
              "      <td>6.737255e+07</td>\n",
              "      <td>1.383222e+05</td>\n",
              "      <td>18164.316990</td>\n",
              "      <td>2.023826</td>\n",
              "      <td>372.934839</td>\n",
              "      <td>1.002427e+08</td>\n",
              "      <td>12.453977</td>\n",
              "      <td>4011.299523</td>\n",
              "      <td>1.127802</td>\n",
              "      <td>1.402940</td>\n",
              "      <td>19206.016458</td>\n",
              "    </tr>\n",
              "    <tr>\n",
              "      <th>min</th>\n",
              "      <td>1.000000</td>\n",
              "      <td>7.000000</td>\n",
              "      <td>0.000000</td>\n",
              "      <td>0.000000</td>\n",
              "      <td>0.000000</td>\n",
              "      <td>1.620000e+02</td>\n",
              "      <td>5.000000e+00</td>\n",
              "      <td>0.000000</td>\n",
              "      <td>0.000000</td>\n",
              "      <td>1.000000</td>\n",
              "      <td>2.180000e+02</td>\n",
              "      <td>1916.000000</td>\n",
              "      <td>0.000000</td>\n",
              "      <td>1.600000</td>\n",
              "      <td>1.180000</td>\n",
              "      <td>0.000000</td>\n",
              "    </tr>\n",
              "    <tr>\n",
              "      <th>1%</th>\n",
              "      <td>2.000000</td>\n",
              "      <td>43.000000</td>\n",
              "      <td>0.000000</td>\n",
              "      <td>0.000000</td>\n",
              "      <td>6.080000</td>\n",
              "      <td>8.474800e+03</td>\n",
              "      <td>5.300000e+01</td>\n",
              "      <td>6.000000</td>\n",
              "      <td>0.000000</td>\n",
              "      <td>1.940000</td>\n",
              "      <td>6.000000e+04</td>\n",
              "      <td>1951.000000</td>\n",
              "      <td>0.000000</td>\n",
              "      <td>3.100000</td>\n",
              "      <td>1.330000</td>\n",
              "      <td>0.000000</td>\n",
              "    </tr>\n",
              "    <tr>\n",
              "      <th>30%</th>\n",
              "      <td>60.000000</td>\n",
              "      <td>95.000000</td>\n",
              "      <td>11.000000</td>\n",
              "      <td>176.000000</td>\n",
              "      <td>694.000000</td>\n",
              "      <td>7.914069e+06</td>\n",
              "      <td>1.186450e+04</td>\n",
              "      <td>1684.500000</td>\n",
              "      <td>0.000000</td>\n",
              "      <td>80.000000</td>\n",
              "      <td>8.000000e+06</td>\n",
              "      <td>2000.000000</td>\n",
              "      <td>345.000000</td>\n",
              "      <td>6.000000</td>\n",
              "      <td>1.850000</td>\n",
              "      <td>0.000000</td>\n",
              "    </tr>\n",
              "    <tr>\n",
              "      <th>50%</th>\n",
              "      <td>108.000000</td>\n",
              "      <td>103.000000</td>\n",
              "      <td>48.000000</td>\n",
              "      <td>366.000000</td>\n",
              "      <td>982.000000</td>\n",
              "      <td>2.504396e+07</td>\n",
              "      <td>3.313250e+04</td>\n",
              "      <td>3049.000000</td>\n",
              "      <td>1.000000</td>\n",
              "      <td>153.000000</td>\n",
              "      <td>1.985000e+07</td>\n",
              "      <td>2005.000000</td>\n",
              "      <td>593.000000</td>\n",
              "      <td>6.600000</td>\n",
              "      <td>2.350000</td>\n",
              "      <td>159.000000</td>\n",
              "    </tr>\n",
              "    <tr>\n",
              "      <th>99%</th>\n",
              "      <td>546.680000</td>\n",
              "      <td>189.000000</td>\n",
              "      <td>16000.000000</td>\n",
              "      <td>11000.000000</td>\n",
              "      <td>44920.000000</td>\n",
              "      <td>3.264128e+08</td>\n",
              "      <td>6.815846e+05</td>\n",
              "      <td>62413.900000</td>\n",
              "      <td>8.000000</td>\n",
              "      <td>1999.240000</td>\n",
              "      <td>2.000000e+08</td>\n",
              "      <td>2016.000000</td>\n",
              "      <td>17000.000000</td>\n",
              "      <td>8.500000</td>\n",
              "      <td>4.000000</td>\n",
              "      <td>93850.000000</td>\n",
              "    </tr>\n",
              "    <tr>\n",
              "      <th>max</th>\n",
              "      <td>813.000000</td>\n",
              "      <td>511.000000</td>\n",
              "      <td>23000.000000</td>\n",
              "      <td>23000.000000</td>\n",
              "      <td>640000.000000</td>\n",
              "      <td>7.605058e+08</td>\n",
              "      <td>1.689764e+06</td>\n",
              "      <td>656730.000000</td>\n",
              "      <td>43.000000</td>\n",
              "      <td>5060.000000</td>\n",
              "      <td>4.200000e+09</td>\n",
              "      <td>2016.000000</td>\n",
              "      <td>137000.000000</td>\n",
              "      <td>9.500000</td>\n",
              "      <td>16.000000</td>\n",
              "      <td>349000.000000</td>\n",
              "    </tr>\n",
              "  </tbody>\n",
              "</table>\n",
              "</div>"
            ],
            "text/plain": [
              "       num_critic_for_reviews     duration  ...  aspect_ratio  movie_facebook_likes\n",
              "count             4867.000000  4901.000000  ...   4590.000000           4916.000000\n",
              "mean               137.988905   107.090798  ...      2.222349           7348.294142\n",
              "std                120.239379    25.286015  ...      1.402940          19206.016458\n",
              "min                  1.000000     7.000000  ...      1.180000              0.000000\n",
              "1%                   2.000000    43.000000  ...      1.330000              0.000000\n",
              "30%                 60.000000    95.000000  ...      1.850000              0.000000\n",
              "50%                108.000000   103.000000  ...      2.350000            159.000000\n",
              "99%                546.680000   189.000000  ...      4.000000          93850.000000\n",
              "max                813.000000   511.000000  ...     16.000000         349000.000000\n",
              "\n",
              "[9 rows x 16 columns]"
            ]
          },
          "metadata": {},
          "execution_count": 15
        }
      ]
    },
    {
      "cell_type": "code",
      "metadata": {
        "colab": {
          "base_uri": "https://localhost:8080/"
        },
        "id": "whkoPTOMFVKQ",
        "outputId": "8598a7e3-3445-4a02-d0db-9a084a5f1ae3"
      },
      "source": [
        "movie.isnull().sum()"
      ],
      "execution_count": null,
      "outputs": [
        {
          "output_type": "execute_result",
          "data": {
            "text/plain": [
              "color                       19\n",
              "director_name              102\n",
              "num_critic_for_reviews      49\n",
              "duration                    15\n",
              "director_facebook_likes    102\n",
              "                          ... \n",
              "title_year                 106\n",
              "actor_2_facebook_likes      13\n",
              "imdb_score                   0\n",
              "aspect_ratio               326\n",
              "movie_facebook_likes         0\n",
              "Length: 28, dtype: int64"
            ]
          },
          "metadata": {},
          "execution_count": 16
        }
      ]
    },
    {
      "cell_type": "code",
      "metadata": {
        "colab": {
          "base_uri": "https://localhost:8080/"
        },
        "id": "g2nOOPs3FehX",
        "outputId": "fa4f42ed-1b00-475d-d402-6dbf67eb46cd"
      },
      "source": [
        "movie.min(skipna=False)"
      ],
      "execution_count": null,
      "outputs": [
        {
          "output_type": "execute_result",
          "data": {
            "text/plain": [
              "num_critic_for_reviews     NaN\n",
              "duration                   NaN\n",
              "director_facebook_likes    NaN\n",
              "actor_3_facebook_likes     NaN\n",
              "actor_1_facebook_likes     NaN\n",
              "                          ... \n",
              "title_year                 NaN\n",
              "actor_2_facebook_likes     NaN\n",
              "imdb_score                 1.6\n",
              "aspect_ratio               NaN\n",
              "movie_facebook_likes         0\n",
              "Length: 19, dtype: object"
            ]
          },
          "metadata": {},
          "execution_count": 17
        }
      ]
    },
    {
      "cell_type": "code",
      "metadata": {
        "colab": {
          "base_uri": "https://localhost:8080/",
          "height": 224
        },
        "id": "E8Xx4E9xFrM1",
        "outputId": "31ee377a-73ad-4f6d-a202-f4d7e450a7ab"
      },
      "source": [
        "movie.isnull().head()"
      ],
      "execution_count": null,
      "outputs": [
        {
          "output_type": "execute_result",
          "data": {
            "text/html": [
              "<div>\n",
              "<style scoped>\n",
              "    .dataframe tbody tr th:only-of-type {\n",
              "        vertical-align: middle;\n",
              "    }\n",
              "\n",
              "    .dataframe tbody tr th {\n",
              "        vertical-align: top;\n",
              "    }\n",
              "\n",
              "    .dataframe thead th {\n",
              "        text-align: right;\n",
              "    }\n",
              "</style>\n",
              "<table border=\"1\" class=\"dataframe\">\n",
              "  <thead>\n",
              "    <tr style=\"text-align: right;\">\n",
              "      <th></th>\n",
              "      <th>color</th>\n",
              "      <th>director_name</th>\n",
              "      <th>num_critic_for_reviews</th>\n",
              "      <th>duration</th>\n",
              "      <th>director_facebook_likes</th>\n",
              "      <th>actor_3_facebook_likes</th>\n",
              "      <th>actor_2_name</th>\n",
              "      <th>actor_1_facebook_likes</th>\n",
              "      <th>gross</th>\n",
              "      <th>genres</th>\n",
              "      <th>actor_1_name</th>\n",
              "      <th>movie_title</th>\n",
              "      <th>num_voted_users</th>\n",
              "      <th>cast_total_facebook_likes</th>\n",
              "      <th>actor_3_name</th>\n",
              "      <th>facenumber_in_poster</th>\n",
              "      <th>plot_keywords</th>\n",
              "      <th>movie_imdb_link</th>\n",
              "      <th>num_user_for_reviews</th>\n",
              "      <th>language</th>\n",
              "      <th>country</th>\n",
              "      <th>content_rating</th>\n",
              "      <th>budget</th>\n",
              "      <th>title_year</th>\n",
              "      <th>actor_2_facebook_likes</th>\n",
              "      <th>imdb_score</th>\n",
              "      <th>aspect_ratio</th>\n",
              "      <th>movie_facebook_likes</th>\n",
              "    </tr>\n",
              "  </thead>\n",
              "  <tbody>\n",
              "    <tr>\n",
              "      <th>0</th>\n",
              "      <td>False</td>\n",
              "      <td>False</td>\n",
              "      <td>False</td>\n",
              "      <td>False</td>\n",
              "      <td>False</td>\n",
              "      <td>False</td>\n",
              "      <td>False</td>\n",
              "      <td>False</td>\n",
              "      <td>False</td>\n",
              "      <td>False</td>\n",
              "      <td>False</td>\n",
              "      <td>False</td>\n",
              "      <td>False</td>\n",
              "      <td>False</td>\n",
              "      <td>False</td>\n",
              "      <td>False</td>\n",
              "      <td>False</td>\n",
              "      <td>False</td>\n",
              "      <td>False</td>\n",
              "      <td>False</td>\n",
              "      <td>False</td>\n",
              "      <td>False</td>\n",
              "      <td>False</td>\n",
              "      <td>False</td>\n",
              "      <td>False</td>\n",
              "      <td>False</td>\n",
              "      <td>False</td>\n",
              "      <td>False</td>\n",
              "    </tr>\n",
              "    <tr>\n",
              "      <th>1</th>\n",
              "      <td>False</td>\n",
              "      <td>False</td>\n",
              "      <td>False</td>\n",
              "      <td>False</td>\n",
              "      <td>False</td>\n",
              "      <td>False</td>\n",
              "      <td>False</td>\n",
              "      <td>False</td>\n",
              "      <td>False</td>\n",
              "      <td>False</td>\n",
              "      <td>False</td>\n",
              "      <td>False</td>\n",
              "      <td>False</td>\n",
              "      <td>False</td>\n",
              "      <td>False</td>\n",
              "      <td>False</td>\n",
              "      <td>False</td>\n",
              "      <td>False</td>\n",
              "      <td>False</td>\n",
              "      <td>False</td>\n",
              "      <td>False</td>\n",
              "      <td>False</td>\n",
              "      <td>False</td>\n",
              "      <td>False</td>\n",
              "      <td>False</td>\n",
              "      <td>False</td>\n",
              "      <td>False</td>\n",
              "      <td>False</td>\n",
              "    </tr>\n",
              "    <tr>\n",
              "      <th>2</th>\n",
              "      <td>False</td>\n",
              "      <td>False</td>\n",
              "      <td>False</td>\n",
              "      <td>False</td>\n",
              "      <td>False</td>\n",
              "      <td>False</td>\n",
              "      <td>False</td>\n",
              "      <td>False</td>\n",
              "      <td>False</td>\n",
              "      <td>False</td>\n",
              "      <td>False</td>\n",
              "      <td>False</td>\n",
              "      <td>False</td>\n",
              "      <td>False</td>\n",
              "      <td>False</td>\n",
              "      <td>False</td>\n",
              "      <td>False</td>\n",
              "      <td>False</td>\n",
              "      <td>False</td>\n",
              "      <td>False</td>\n",
              "      <td>False</td>\n",
              "      <td>False</td>\n",
              "      <td>False</td>\n",
              "      <td>False</td>\n",
              "      <td>False</td>\n",
              "      <td>False</td>\n",
              "      <td>False</td>\n",
              "      <td>False</td>\n",
              "    </tr>\n",
              "    <tr>\n",
              "      <th>3</th>\n",
              "      <td>False</td>\n",
              "      <td>False</td>\n",
              "      <td>False</td>\n",
              "      <td>False</td>\n",
              "      <td>False</td>\n",
              "      <td>False</td>\n",
              "      <td>False</td>\n",
              "      <td>False</td>\n",
              "      <td>False</td>\n",
              "      <td>False</td>\n",
              "      <td>False</td>\n",
              "      <td>False</td>\n",
              "      <td>False</td>\n",
              "      <td>False</td>\n",
              "      <td>False</td>\n",
              "      <td>False</td>\n",
              "      <td>False</td>\n",
              "      <td>False</td>\n",
              "      <td>False</td>\n",
              "      <td>False</td>\n",
              "      <td>False</td>\n",
              "      <td>False</td>\n",
              "      <td>False</td>\n",
              "      <td>False</td>\n",
              "      <td>False</td>\n",
              "      <td>False</td>\n",
              "      <td>False</td>\n",
              "      <td>False</td>\n",
              "    </tr>\n",
              "    <tr>\n",
              "      <th>4</th>\n",
              "      <td>True</td>\n",
              "      <td>False</td>\n",
              "      <td>True</td>\n",
              "      <td>True</td>\n",
              "      <td>False</td>\n",
              "      <td>True</td>\n",
              "      <td>False</td>\n",
              "      <td>False</td>\n",
              "      <td>True</td>\n",
              "      <td>False</td>\n",
              "      <td>False</td>\n",
              "      <td>False</td>\n",
              "      <td>False</td>\n",
              "      <td>False</td>\n",
              "      <td>True</td>\n",
              "      <td>False</td>\n",
              "      <td>True</td>\n",
              "      <td>False</td>\n",
              "      <td>True</td>\n",
              "      <td>True</td>\n",
              "      <td>True</td>\n",
              "      <td>True</td>\n",
              "      <td>True</td>\n",
              "      <td>True</td>\n",
              "      <td>False</td>\n",
              "      <td>False</td>\n",
              "      <td>True</td>\n",
              "      <td>False</td>\n",
              "    </tr>\n",
              "  </tbody>\n",
              "</table>\n",
              "</div>"
            ],
            "text/plain": [
              "   color  director_name  ...  aspect_ratio  movie_facebook_likes\n",
              "0  False          False  ...         False                 False\n",
              "1  False          False  ...         False                 False\n",
              "2  False          False  ...         False                 False\n",
              "3  False          False  ...         False                 False\n",
              "4   True          False  ...          True                 False\n",
              "\n",
              "[5 rows x 28 columns]"
            ]
          },
          "metadata": {},
          "execution_count": 18
        }
      ]
    },
    {
      "cell_type": "code",
      "metadata": {
        "colab": {
          "base_uri": "https://localhost:8080/"
        },
        "id": "sOOxRr4aFzI1",
        "outputId": "7eb1ce30-fded-46c8-8908-6294deaac152"
      },
      "source": [
        "movie.isnull().sum().sum()"
      ],
      "execution_count": null,
      "outputs": [
        {
          "output_type": "execute_result",
          "data": {
            "text/plain": [
              "2654"
            ]
          },
          "metadata": {},
          "execution_count": 20
        }
      ]
    },
    {
      "cell_type": "code",
      "metadata": {
        "colab": {
          "base_uri": "https://localhost:8080/"
        },
        "id": "4c63kxPEF7AG",
        "outputId": "ec79992a-1dd2-4700-bece-b596f3093036"
      },
      "source": [
        "movie.select_dtypes(['object']).fillna('').max()"
      ],
      "execution_count": null,
      "outputs": [
        {
          "output_type": "execute_result",
          "data": {
            "text/plain": [
              "color                                                          Color\n",
              "director_name                                          Étienne Faure\n",
              "actor_2_name                                           Zubaida Sahar\n",
              "genres                                                       Western\n",
              "actor_1_name                                           Óscar Jaenada\n",
              "                                         ...                        \n",
              "plot_keywords                                    zombie|zombie spoof\n",
              "movie_imdb_link    http://www.imdb.com/title/tt5574490/?ref_=fn_t...\n",
              "language                                                        Zulu\n",
              "country                                                 West Germany\n",
              "content_rating                                                     X\n",
              "Length: 12, dtype: object"
            ]
          },
          "metadata": {},
          "execution_count": 21
        }
      ]
    },
    {
      "cell_type": "code",
      "metadata": {
        "id": "pCulaE9VGI81"
      },
      "source": [
        "college = pd.read_csv('college.csv')"
      ],
      "execution_count": null,
      "outputs": []
    },
    {
      "cell_type": "code",
      "metadata": {
        "colab": {
          "base_uri": "https://localhost:8080/",
          "height": 511
        },
        "id": "PwMYZ5YuGU1J",
        "outputId": "633f0380-45e2-43e7-d8bd-998dd7b9282a"
      },
      "source": [
        "college + 5"
      ],
      "execution_count": null,
      "outputs": [
        {
          "output_type": "error",
          "ename": "TypeError",
          "evalue": "ignored",
          "traceback": [
            "\u001b[0;31m---------------------------------------------------------------------------\u001b[0m",
            "\u001b[0;31mTypeError\u001b[0m                                 Traceback (most recent call last)",
            "\u001b[0;32m/usr/local/lib/python3.7/dist-packages/pandas/core/ops/array_ops.py\u001b[0m in \u001b[0;36mna_arithmetic_op\u001b[0;34m(left, right, op, is_cmp)\u001b[0m\n\u001b[1;32m    142\u001b[0m     \u001b[0;32mtry\u001b[0m\u001b[0;34m:\u001b[0m\u001b[0;34m\u001b[0m\u001b[0;34m\u001b[0m\u001b[0m\n\u001b[0;32m--> 143\u001b[0;31m         \u001b[0mresult\u001b[0m \u001b[0;34m=\u001b[0m \u001b[0mexpressions\u001b[0m\u001b[0;34m.\u001b[0m\u001b[0mevaluate\u001b[0m\u001b[0;34m(\u001b[0m\u001b[0mop\u001b[0m\u001b[0;34m,\u001b[0m \u001b[0mleft\u001b[0m\u001b[0;34m,\u001b[0m \u001b[0mright\u001b[0m\u001b[0;34m)\u001b[0m\u001b[0;34m\u001b[0m\u001b[0;34m\u001b[0m\u001b[0m\n\u001b[0m\u001b[1;32m    144\u001b[0m     \u001b[0;32mexcept\u001b[0m \u001b[0mTypeError\u001b[0m\u001b[0;34m:\u001b[0m\u001b[0;34m\u001b[0m\u001b[0;34m\u001b[0m\u001b[0m\n",
            "\u001b[0;32m/usr/local/lib/python3.7/dist-packages/pandas/core/computation/expressions.py\u001b[0m in \u001b[0;36mevaluate\u001b[0;34m(op, a, b, use_numexpr)\u001b[0m\n\u001b[1;32m    232\u001b[0m         \u001b[0;32mif\u001b[0m \u001b[0muse_numexpr\u001b[0m\u001b[0;34m:\u001b[0m\u001b[0;34m\u001b[0m\u001b[0;34m\u001b[0m\u001b[0m\n\u001b[0;32m--> 233\u001b[0;31m             \u001b[0;32mreturn\u001b[0m \u001b[0m_evaluate\u001b[0m\u001b[0;34m(\u001b[0m\u001b[0mop\u001b[0m\u001b[0;34m,\u001b[0m \u001b[0mop_str\u001b[0m\u001b[0;34m,\u001b[0m \u001b[0ma\u001b[0m\u001b[0;34m,\u001b[0m \u001b[0mb\u001b[0m\u001b[0;34m)\u001b[0m  \u001b[0;31m# type: ignore\u001b[0m\u001b[0;34m\u001b[0m\u001b[0;34m\u001b[0m\u001b[0m\n\u001b[0m\u001b[1;32m    234\u001b[0m     \u001b[0;32mreturn\u001b[0m \u001b[0m_evaluate_standard\u001b[0m\u001b[0;34m(\u001b[0m\u001b[0mop\u001b[0m\u001b[0;34m,\u001b[0m \u001b[0mop_str\u001b[0m\u001b[0;34m,\u001b[0m \u001b[0ma\u001b[0m\u001b[0;34m,\u001b[0m \u001b[0mb\u001b[0m\u001b[0;34m)\u001b[0m\u001b[0;34m\u001b[0m\u001b[0;34m\u001b[0m\u001b[0m\n",
            "\u001b[0;32m/usr/local/lib/python3.7/dist-packages/pandas/core/computation/expressions.py\u001b[0m in \u001b[0;36m_evaluate_numexpr\u001b[0;34m(op, op_str, a, b)\u001b[0m\n\u001b[1;32m    118\u001b[0m     \u001b[0;32mif\u001b[0m \u001b[0mresult\u001b[0m \u001b[0;32mis\u001b[0m \u001b[0;32mNone\u001b[0m\u001b[0;34m:\u001b[0m\u001b[0;34m\u001b[0m\u001b[0;34m\u001b[0m\u001b[0m\n\u001b[0;32m--> 119\u001b[0;31m         \u001b[0mresult\u001b[0m \u001b[0;34m=\u001b[0m \u001b[0m_evaluate_standard\u001b[0m\u001b[0;34m(\u001b[0m\u001b[0mop\u001b[0m\u001b[0;34m,\u001b[0m \u001b[0mop_str\u001b[0m\u001b[0;34m,\u001b[0m \u001b[0ma\u001b[0m\u001b[0;34m,\u001b[0m \u001b[0mb\u001b[0m\u001b[0;34m)\u001b[0m\u001b[0;34m\u001b[0m\u001b[0;34m\u001b[0m\u001b[0m\n\u001b[0m\u001b[1;32m    120\u001b[0m \u001b[0;34m\u001b[0m\u001b[0m\n",
            "\u001b[0;32m/usr/local/lib/python3.7/dist-packages/pandas/core/computation/expressions.py\u001b[0m in \u001b[0;36m_evaluate_standard\u001b[0;34m(op, op_str, a, b)\u001b[0m\n\u001b[1;32m     67\u001b[0m     \u001b[0;32mwith\u001b[0m \u001b[0mnp\u001b[0m\u001b[0;34m.\u001b[0m\u001b[0merrstate\u001b[0m\u001b[0;34m(\u001b[0m\u001b[0mall\u001b[0m\u001b[0;34m=\u001b[0m\u001b[0;34m\"ignore\"\u001b[0m\u001b[0;34m)\u001b[0m\u001b[0;34m:\u001b[0m\u001b[0;34m\u001b[0m\u001b[0;34m\u001b[0m\u001b[0m\n\u001b[0;32m---> 68\u001b[0;31m         \u001b[0;32mreturn\u001b[0m \u001b[0mop\u001b[0m\u001b[0;34m(\u001b[0m\u001b[0ma\u001b[0m\u001b[0;34m,\u001b[0m \u001b[0mb\u001b[0m\u001b[0;34m)\u001b[0m\u001b[0;34m\u001b[0m\u001b[0;34m\u001b[0m\u001b[0m\n\u001b[0m\u001b[1;32m     69\u001b[0m \u001b[0;34m\u001b[0m\u001b[0m\n",
            "\u001b[0;31mTypeError\u001b[0m: can only concatenate str (not \"int\") to str",
            "\nDuring handling of the above exception, another exception occurred:\n",
            "\u001b[0;31mTypeError\u001b[0m                                 Traceback (most recent call last)",
            "\u001b[0;32m<ipython-input-24-2384ec6d73a2>\u001b[0m in \u001b[0;36m<module>\u001b[0;34m()\u001b[0m\n\u001b[0;32m----> 1\u001b[0;31m \u001b[0mcollege\u001b[0m \u001b[0;34m+\u001b[0m \u001b[0;36m5\u001b[0m\u001b[0;34m\u001b[0m\u001b[0;34m\u001b[0m\u001b[0m\n\u001b[0m",
            "\u001b[0;32m/usr/local/lib/python3.7/dist-packages/pandas/core/ops/__init__.py\u001b[0m in \u001b[0;36mf\u001b[0;34m(self, other, axis, level, fill_value)\u001b[0m\n\u001b[1;32m    662\u001b[0m                 \u001b[0mself\u001b[0m \u001b[0;34m=\u001b[0m \u001b[0mself\u001b[0m\u001b[0;34m.\u001b[0m\u001b[0mfillna\u001b[0m\u001b[0;34m(\u001b[0m\u001b[0mfill_value\u001b[0m\u001b[0;34m)\u001b[0m\u001b[0;34m\u001b[0m\u001b[0;34m\u001b[0m\u001b[0m\n\u001b[1;32m    663\u001b[0m \u001b[0;34m\u001b[0m\u001b[0m\n\u001b[0;32m--> 664\u001b[0;31m             \u001b[0mnew_data\u001b[0m \u001b[0;34m=\u001b[0m \u001b[0mdispatch_to_series\u001b[0m\u001b[0;34m(\u001b[0m\u001b[0mself\u001b[0m\u001b[0;34m,\u001b[0m \u001b[0mother\u001b[0m\u001b[0;34m,\u001b[0m \u001b[0mop\u001b[0m\u001b[0;34m)\u001b[0m\u001b[0;34m\u001b[0m\u001b[0;34m\u001b[0m\u001b[0m\n\u001b[0m\u001b[1;32m    665\u001b[0m \u001b[0;34m\u001b[0m\u001b[0m\n\u001b[1;32m    666\u001b[0m         \u001b[0;32mreturn\u001b[0m \u001b[0mself\u001b[0m\u001b[0;34m.\u001b[0m\u001b[0m_construct_result\u001b[0m\u001b[0;34m(\u001b[0m\u001b[0mnew_data\u001b[0m\u001b[0;34m)\u001b[0m\u001b[0;34m\u001b[0m\u001b[0;34m\u001b[0m\u001b[0m\n",
            "\u001b[0;32m/usr/local/lib/python3.7/dist-packages/pandas/core/ops/__init__.py\u001b[0m in \u001b[0;36mdispatch_to_series\u001b[0;34m(left, right, func, axis)\u001b[0m\n\u001b[1;32m    263\u001b[0m     \u001b[0;32mif\u001b[0m \u001b[0;32mnot\u001b[0m \u001b[0mis_list_like\u001b[0m\u001b[0;34m(\u001b[0m\u001b[0mright\u001b[0m\u001b[0;34m)\u001b[0m\u001b[0;34m:\u001b[0m\u001b[0;34m\u001b[0m\u001b[0;34m\u001b[0m\u001b[0m\n\u001b[1;32m    264\u001b[0m         \u001b[0;31m# i.e. scalar, faster than checking np.ndim(right) == 0\u001b[0m\u001b[0;34m\u001b[0m\u001b[0;34m\u001b[0m\u001b[0;34m\u001b[0m\u001b[0m\n\u001b[0;32m--> 265\u001b[0;31m         \u001b[0mbm\u001b[0m \u001b[0;34m=\u001b[0m \u001b[0mleft\u001b[0m\u001b[0;34m.\u001b[0m\u001b[0m_mgr\u001b[0m\u001b[0;34m.\u001b[0m\u001b[0mapply\u001b[0m\u001b[0;34m(\u001b[0m\u001b[0marray_op\u001b[0m\u001b[0;34m,\u001b[0m \u001b[0mright\u001b[0m\u001b[0;34m=\u001b[0m\u001b[0mright\u001b[0m\u001b[0;34m)\u001b[0m\u001b[0;34m\u001b[0m\u001b[0;34m\u001b[0m\u001b[0m\n\u001b[0m\u001b[1;32m    266\u001b[0m         \u001b[0;32mreturn\u001b[0m \u001b[0mtype\u001b[0m\u001b[0;34m(\u001b[0m\u001b[0mleft\u001b[0m\u001b[0;34m)\u001b[0m\u001b[0;34m(\u001b[0m\u001b[0mbm\u001b[0m\u001b[0;34m)\u001b[0m\u001b[0;34m\u001b[0m\u001b[0;34m\u001b[0m\u001b[0m\n\u001b[1;32m    267\u001b[0m \u001b[0;34m\u001b[0m\u001b[0m\n",
            "\u001b[0;32m/usr/local/lib/python3.7/dist-packages/pandas/core/internals/managers.py\u001b[0m in \u001b[0;36mapply\u001b[0;34m(self, f, align_keys, **kwargs)\u001b[0m\n\u001b[1;32m    405\u001b[0m \u001b[0;34m\u001b[0m\u001b[0m\n\u001b[1;32m    406\u001b[0m             \u001b[0;32mif\u001b[0m \u001b[0mcallable\u001b[0m\u001b[0;34m(\u001b[0m\u001b[0mf\u001b[0m\u001b[0;34m)\u001b[0m\u001b[0;34m:\u001b[0m\u001b[0;34m\u001b[0m\u001b[0;34m\u001b[0m\u001b[0m\n\u001b[0;32m--> 407\u001b[0;31m                 \u001b[0mapplied\u001b[0m \u001b[0;34m=\u001b[0m \u001b[0mb\u001b[0m\u001b[0;34m.\u001b[0m\u001b[0mapply\u001b[0m\u001b[0;34m(\u001b[0m\u001b[0mf\u001b[0m\u001b[0;34m,\u001b[0m \u001b[0;34m**\u001b[0m\u001b[0mkwargs\u001b[0m\u001b[0;34m)\u001b[0m\u001b[0;34m\u001b[0m\u001b[0;34m\u001b[0m\u001b[0m\n\u001b[0m\u001b[1;32m    408\u001b[0m             \u001b[0;32melse\u001b[0m\u001b[0;34m:\u001b[0m\u001b[0;34m\u001b[0m\u001b[0;34m\u001b[0m\u001b[0m\n\u001b[1;32m    409\u001b[0m                 \u001b[0mapplied\u001b[0m \u001b[0;34m=\u001b[0m \u001b[0mgetattr\u001b[0m\u001b[0;34m(\u001b[0m\u001b[0mb\u001b[0m\u001b[0;34m,\u001b[0m \u001b[0mf\u001b[0m\u001b[0;34m)\u001b[0m\u001b[0;34m(\u001b[0m\u001b[0;34m**\u001b[0m\u001b[0mkwargs\u001b[0m\u001b[0;34m)\u001b[0m\u001b[0;34m\u001b[0m\u001b[0;34m\u001b[0m\u001b[0m\n",
            "\u001b[0;32m/usr/local/lib/python3.7/dist-packages/pandas/core/internals/blocks.py\u001b[0m in \u001b[0;36mapply\u001b[0;34m(self, func, **kwargs)\u001b[0m\n\u001b[1;32m    344\u001b[0m         \"\"\"\n\u001b[1;32m    345\u001b[0m         \u001b[0;32mwith\u001b[0m \u001b[0mnp\u001b[0m\u001b[0;34m.\u001b[0m\u001b[0merrstate\u001b[0m\u001b[0;34m(\u001b[0m\u001b[0mall\u001b[0m\u001b[0;34m=\u001b[0m\u001b[0;34m\"ignore\"\u001b[0m\u001b[0;34m)\u001b[0m\u001b[0;34m:\u001b[0m\u001b[0;34m\u001b[0m\u001b[0;34m\u001b[0m\u001b[0m\n\u001b[0;32m--> 346\u001b[0;31m             \u001b[0mresult\u001b[0m \u001b[0;34m=\u001b[0m \u001b[0mfunc\u001b[0m\u001b[0;34m(\u001b[0m\u001b[0mself\u001b[0m\u001b[0;34m.\u001b[0m\u001b[0mvalues\u001b[0m\u001b[0;34m,\u001b[0m \u001b[0;34m**\u001b[0m\u001b[0mkwargs\u001b[0m\u001b[0;34m)\u001b[0m\u001b[0;34m\u001b[0m\u001b[0;34m\u001b[0m\u001b[0m\n\u001b[0m\u001b[1;32m    347\u001b[0m \u001b[0;34m\u001b[0m\u001b[0m\n\u001b[1;32m    348\u001b[0m         \u001b[0;32mreturn\u001b[0m \u001b[0mself\u001b[0m\u001b[0;34m.\u001b[0m\u001b[0m_split_op_result\u001b[0m\u001b[0;34m(\u001b[0m\u001b[0mresult\u001b[0m\u001b[0;34m)\u001b[0m\u001b[0;34m\u001b[0m\u001b[0;34m\u001b[0m\u001b[0m\n",
            "\u001b[0;32m/usr/local/lib/python3.7/dist-packages/pandas/core/ops/array_ops.py\u001b[0m in \u001b[0;36marithmetic_op\u001b[0;34m(left, right, op)\u001b[0m\n\u001b[1;32m    188\u001b[0m     \u001b[0;32melse\u001b[0m\u001b[0;34m:\u001b[0m\u001b[0;34m\u001b[0m\u001b[0;34m\u001b[0m\u001b[0m\n\u001b[1;32m    189\u001b[0m         \u001b[0;32mwith\u001b[0m \u001b[0mnp\u001b[0m\u001b[0;34m.\u001b[0m\u001b[0merrstate\u001b[0m\u001b[0;34m(\u001b[0m\u001b[0mall\u001b[0m\u001b[0;34m=\u001b[0m\u001b[0;34m\"ignore\"\u001b[0m\u001b[0;34m)\u001b[0m\u001b[0;34m:\u001b[0m\u001b[0;34m\u001b[0m\u001b[0;34m\u001b[0m\u001b[0m\n\u001b[0;32m--> 190\u001b[0;31m             \u001b[0mres_values\u001b[0m \u001b[0;34m=\u001b[0m \u001b[0mna_arithmetic_op\u001b[0m\u001b[0;34m(\u001b[0m\u001b[0mlvalues\u001b[0m\u001b[0;34m,\u001b[0m \u001b[0mrvalues\u001b[0m\u001b[0;34m,\u001b[0m \u001b[0mop\u001b[0m\u001b[0;34m)\u001b[0m\u001b[0;34m\u001b[0m\u001b[0;34m\u001b[0m\u001b[0m\n\u001b[0m\u001b[1;32m    191\u001b[0m \u001b[0;34m\u001b[0m\u001b[0m\n\u001b[1;32m    192\u001b[0m     \u001b[0;32mreturn\u001b[0m \u001b[0mres_values\u001b[0m\u001b[0;34m\u001b[0m\u001b[0;34m\u001b[0m\u001b[0m\n",
            "\u001b[0;32m/usr/local/lib/python3.7/dist-packages/pandas/core/ops/array_ops.py\u001b[0m in \u001b[0;36mna_arithmetic_op\u001b[0;34m(left, right, op, is_cmp)\u001b[0m\n\u001b[1;32m    148\u001b[0m             \u001b[0;31m#  will handle complex numbers incorrectly, see GH#32047\u001b[0m\u001b[0;34m\u001b[0m\u001b[0;34m\u001b[0m\u001b[0;34m\u001b[0m\u001b[0m\n\u001b[1;32m    149\u001b[0m             \u001b[0;32mraise\u001b[0m\u001b[0;34m\u001b[0m\u001b[0;34m\u001b[0m\u001b[0m\n\u001b[0;32m--> 150\u001b[0;31m         \u001b[0mresult\u001b[0m \u001b[0;34m=\u001b[0m \u001b[0mmasked_arith_op\u001b[0m\u001b[0;34m(\u001b[0m\u001b[0mleft\u001b[0m\u001b[0;34m,\u001b[0m \u001b[0mright\u001b[0m\u001b[0;34m,\u001b[0m \u001b[0mop\u001b[0m\u001b[0;34m)\u001b[0m\u001b[0;34m\u001b[0m\u001b[0;34m\u001b[0m\u001b[0m\n\u001b[0m\u001b[1;32m    151\u001b[0m \u001b[0;34m\u001b[0m\u001b[0m\n\u001b[1;32m    152\u001b[0m     \u001b[0;32mif\u001b[0m \u001b[0mis_cmp\u001b[0m \u001b[0;32mand\u001b[0m \u001b[0;34m(\u001b[0m\u001b[0mis_scalar\u001b[0m\u001b[0;34m(\u001b[0m\u001b[0mresult\u001b[0m\u001b[0;34m)\u001b[0m \u001b[0;32mor\u001b[0m \u001b[0mresult\u001b[0m \u001b[0;32mis\u001b[0m \u001b[0mNotImplemented\u001b[0m\u001b[0;34m)\u001b[0m\u001b[0;34m:\u001b[0m\u001b[0;34m\u001b[0m\u001b[0;34m\u001b[0m\u001b[0m\n",
            "\u001b[0;32m/usr/local/lib/python3.7/dist-packages/pandas/core/ops/array_ops.py\u001b[0m in \u001b[0;36mmasked_arith_op\u001b[0;34m(x, y, op)\u001b[0m\n\u001b[1;32m    110\u001b[0m         \u001b[0;32mif\u001b[0m \u001b[0mmask\u001b[0m\u001b[0;34m.\u001b[0m\u001b[0many\u001b[0m\u001b[0;34m(\u001b[0m\u001b[0;34m)\u001b[0m\u001b[0;34m:\u001b[0m\u001b[0;34m\u001b[0m\u001b[0;34m\u001b[0m\u001b[0m\n\u001b[1;32m    111\u001b[0m             \u001b[0;32mwith\u001b[0m \u001b[0mnp\u001b[0m\u001b[0;34m.\u001b[0m\u001b[0merrstate\u001b[0m\u001b[0;34m(\u001b[0m\u001b[0mall\u001b[0m\u001b[0;34m=\u001b[0m\u001b[0;34m\"ignore\"\u001b[0m\u001b[0;34m)\u001b[0m\u001b[0;34m:\u001b[0m\u001b[0;34m\u001b[0m\u001b[0;34m\u001b[0m\u001b[0m\n\u001b[0;32m--> 112\u001b[0;31m                 \u001b[0mresult\u001b[0m\u001b[0;34m[\u001b[0m\u001b[0mmask\u001b[0m\u001b[0;34m]\u001b[0m \u001b[0;34m=\u001b[0m \u001b[0mop\u001b[0m\u001b[0;34m(\u001b[0m\u001b[0mxrav\u001b[0m\u001b[0;34m[\u001b[0m\u001b[0mmask\u001b[0m\u001b[0;34m]\u001b[0m\u001b[0;34m,\u001b[0m \u001b[0my\u001b[0m\u001b[0;34m)\u001b[0m\u001b[0;34m\u001b[0m\u001b[0;34m\u001b[0m\u001b[0m\n\u001b[0m\u001b[1;32m    113\u001b[0m \u001b[0;34m\u001b[0m\u001b[0m\n\u001b[1;32m    114\u001b[0m     \u001b[0mresult\u001b[0m\u001b[0;34m,\u001b[0m \u001b[0m_\u001b[0m \u001b[0;34m=\u001b[0m \u001b[0mmaybe_upcast_putmask\u001b[0m\u001b[0;34m(\u001b[0m\u001b[0mresult\u001b[0m\u001b[0;34m,\u001b[0m \u001b[0;34m~\u001b[0m\u001b[0mmask\u001b[0m\u001b[0;34m,\u001b[0m \u001b[0mnp\u001b[0m\u001b[0;34m.\u001b[0m\u001b[0mnan\u001b[0m\u001b[0;34m)\u001b[0m\u001b[0;34m\u001b[0m\u001b[0;34m\u001b[0m\u001b[0m\n",
            "\u001b[0;31mTypeError\u001b[0m: can only concatenate str (not \"int\") to str"
          ]
        }
      ]
    },
    {
      "cell_type": "code",
      "metadata": {
        "id": "eNrLiD0sGe77"
      },
      "source": [
        "college = pd.read_csv('college.csv', index_col='INSTNM')\n",
        "college_ugds_ = college.filter(like='UGDS_')"
      ],
      "execution_count": null,
      "outputs": []
    },
    {
      "cell_type": "code",
      "metadata": {
        "colab": {
          "base_uri": "https://localhost:8080/",
          "height": 442
        },
        "id": "k_zVoKlNHIz_",
        "outputId": "04362467-3e83-4263-d32e-303b7c4ec4c0"
      },
      "source": [
        "college.head()"
      ],
      "execution_count": null,
      "outputs": [
        {
          "output_type": "execute_result",
          "data": {
            "text/html": [
              "<div>\n",
              "<style scoped>\n",
              "    .dataframe tbody tr th:only-of-type {\n",
              "        vertical-align: middle;\n",
              "    }\n",
              "\n",
              "    .dataframe tbody tr th {\n",
              "        vertical-align: top;\n",
              "    }\n",
              "\n",
              "    .dataframe thead th {\n",
              "        text-align: right;\n",
              "    }\n",
              "</style>\n",
              "<table border=\"1\" class=\"dataframe\">\n",
              "  <thead>\n",
              "    <tr style=\"text-align: right;\">\n",
              "      <th></th>\n",
              "      <th>CITY</th>\n",
              "      <th>STABBR</th>\n",
              "      <th>HBCU</th>\n",
              "      <th>MENONLY</th>\n",
              "      <th>WOMENONLY</th>\n",
              "      <th>RELAFFIL</th>\n",
              "      <th>SATVRMID</th>\n",
              "      <th>SATMTMID</th>\n",
              "      <th>DISTANCEONLY</th>\n",
              "      <th>UGDS</th>\n",
              "      <th>UGDS_WHITE</th>\n",
              "      <th>UGDS_BLACK</th>\n",
              "      <th>UGDS_HISP</th>\n",
              "      <th>UGDS_ASIAN</th>\n",
              "      <th>UGDS_AIAN</th>\n",
              "      <th>UGDS_NHPI</th>\n",
              "      <th>UGDS_2MOR</th>\n",
              "      <th>UGDS_NRA</th>\n",
              "      <th>UGDS_UNKN</th>\n",
              "      <th>PPTUG_EF</th>\n",
              "      <th>CURROPER</th>\n",
              "      <th>PCTPELL</th>\n",
              "      <th>PCTFLOAN</th>\n",
              "      <th>UG25ABV</th>\n",
              "      <th>MD_EARN_WNE_P10</th>\n",
              "      <th>GRAD_DEBT_MDN_SUPP</th>\n",
              "    </tr>\n",
              "    <tr>\n",
              "      <th>INSTNM</th>\n",
              "      <th></th>\n",
              "      <th></th>\n",
              "      <th></th>\n",
              "      <th></th>\n",
              "      <th></th>\n",
              "      <th></th>\n",
              "      <th></th>\n",
              "      <th></th>\n",
              "      <th></th>\n",
              "      <th></th>\n",
              "      <th></th>\n",
              "      <th></th>\n",
              "      <th></th>\n",
              "      <th></th>\n",
              "      <th></th>\n",
              "      <th></th>\n",
              "      <th></th>\n",
              "      <th></th>\n",
              "      <th></th>\n",
              "      <th></th>\n",
              "      <th></th>\n",
              "      <th></th>\n",
              "      <th></th>\n",
              "      <th></th>\n",
              "      <th></th>\n",
              "      <th></th>\n",
              "    </tr>\n",
              "  </thead>\n",
              "  <tbody>\n",
              "    <tr>\n",
              "      <th>Alabama A &amp; M University</th>\n",
              "      <td>Normal</td>\n",
              "      <td>AL</td>\n",
              "      <td>1.0</td>\n",
              "      <td>0.0</td>\n",
              "      <td>0.0</td>\n",
              "      <td>0</td>\n",
              "      <td>424.0</td>\n",
              "      <td>420.0</td>\n",
              "      <td>0.0</td>\n",
              "      <td>4206.0</td>\n",
              "      <td>0.0333</td>\n",
              "      <td>0.9353</td>\n",
              "      <td>0.0055</td>\n",
              "      <td>0.0019</td>\n",
              "      <td>0.0024</td>\n",
              "      <td>0.0019</td>\n",
              "      <td>0.0000</td>\n",
              "      <td>0.0059</td>\n",
              "      <td>0.0138</td>\n",
              "      <td>0.0656</td>\n",
              "      <td>1</td>\n",
              "      <td>0.7356</td>\n",
              "      <td>0.8284</td>\n",
              "      <td>0.1049</td>\n",
              "      <td>30300</td>\n",
              "      <td>33888</td>\n",
              "    </tr>\n",
              "    <tr>\n",
              "      <th>University of Alabama at Birmingham</th>\n",
              "      <td>Birmingham</td>\n",
              "      <td>AL</td>\n",
              "      <td>0.0</td>\n",
              "      <td>0.0</td>\n",
              "      <td>0.0</td>\n",
              "      <td>0</td>\n",
              "      <td>570.0</td>\n",
              "      <td>565.0</td>\n",
              "      <td>0.0</td>\n",
              "      <td>11383.0</td>\n",
              "      <td>0.5922</td>\n",
              "      <td>0.2600</td>\n",
              "      <td>0.0283</td>\n",
              "      <td>0.0518</td>\n",
              "      <td>0.0022</td>\n",
              "      <td>0.0007</td>\n",
              "      <td>0.0368</td>\n",
              "      <td>0.0179</td>\n",
              "      <td>0.0100</td>\n",
              "      <td>0.2607</td>\n",
              "      <td>1</td>\n",
              "      <td>0.3460</td>\n",
              "      <td>0.5214</td>\n",
              "      <td>0.2422</td>\n",
              "      <td>39700</td>\n",
              "      <td>21941.5</td>\n",
              "    </tr>\n",
              "    <tr>\n",
              "      <th>Amridge University</th>\n",
              "      <td>Montgomery</td>\n",
              "      <td>AL</td>\n",
              "      <td>0.0</td>\n",
              "      <td>0.0</td>\n",
              "      <td>0.0</td>\n",
              "      <td>1</td>\n",
              "      <td>NaN</td>\n",
              "      <td>NaN</td>\n",
              "      <td>1.0</td>\n",
              "      <td>291.0</td>\n",
              "      <td>0.2990</td>\n",
              "      <td>0.4192</td>\n",
              "      <td>0.0069</td>\n",
              "      <td>0.0034</td>\n",
              "      <td>0.0000</td>\n",
              "      <td>0.0000</td>\n",
              "      <td>0.0000</td>\n",
              "      <td>0.0000</td>\n",
              "      <td>0.2715</td>\n",
              "      <td>0.4536</td>\n",
              "      <td>1</td>\n",
              "      <td>0.6801</td>\n",
              "      <td>0.7795</td>\n",
              "      <td>0.8540</td>\n",
              "      <td>40100</td>\n",
              "      <td>23370</td>\n",
              "    </tr>\n",
              "    <tr>\n",
              "      <th>University of Alabama in Huntsville</th>\n",
              "      <td>Huntsville</td>\n",
              "      <td>AL</td>\n",
              "      <td>0.0</td>\n",
              "      <td>0.0</td>\n",
              "      <td>0.0</td>\n",
              "      <td>0</td>\n",
              "      <td>595.0</td>\n",
              "      <td>590.0</td>\n",
              "      <td>0.0</td>\n",
              "      <td>5451.0</td>\n",
              "      <td>0.6988</td>\n",
              "      <td>0.1255</td>\n",
              "      <td>0.0382</td>\n",
              "      <td>0.0376</td>\n",
              "      <td>0.0143</td>\n",
              "      <td>0.0002</td>\n",
              "      <td>0.0172</td>\n",
              "      <td>0.0332</td>\n",
              "      <td>0.0350</td>\n",
              "      <td>0.2146</td>\n",
              "      <td>1</td>\n",
              "      <td>0.3072</td>\n",
              "      <td>0.4596</td>\n",
              "      <td>0.2640</td>\n",
              "      <td>45500</td>\n",
              "      <td>24097</td>\n",
              "    </tr>\n",
              "    <tr>\n",
              "      <th>Alabama State University</th>\n",
              "      <td>Montgomery</td>\n",
              "      <td>AL</td>\n",
              "      <td>1.0</td>\n",
              "      <td>0.0</td>\n",
              "      <td>0.0</td>\n",
              "      <td>0</td>\n",
              "      <td>425.0</td>\n",
              "      <td>430.0</td>\n",
              "      <td>0.0</td>\n",
              "      <td>4811.0</td>\n",
              "      <td>0.0158</td>\n",
              "      <td>0.9208</td>\n",
              "      <td>0.0121</td>\n",
              "      <td>0.0019</td>\n",
              "      <td>0.0010</td>\n",
              "      <td>0.0006</td>\n",
              "      <td>0.0098</td>\n",
              "      <td>0.0243</td>\n",
              "      <td>0.0137</td>\n",
              "      <td>0.0892</td>\n",
              "      <td>1</td>\n",
              "      <td>0.7347</td>\n",
              "      <td>0.7554</td>\n",
              "      <td>0.1270</td>\n",
              "      <td>26600</td>\n",
              "      <td>33118.5</td>\n",
              "    </tr>\n",
              "  </tbody>\n",
              "</table>\n",
              "</div>"
            ],
            "text/plain": [
              "                                           CITY  ... GRAD_DEBT_MDN_SUPP\n",
              "INSTNM                                           ...                   \n",
              "Alabama A & M University                 Normal  ...              33888\n",
              "University of Alabama at Birmingham  Birmingham  ...            21941.5\n",
              "Amridge University                   Montgomery  ...              23370\n",
              "University of Alabama in Huntsville  Huntsville  ...              24097\n",
              "Alabama State University             Montgomery  ...            33118.5\n",
              "\n",
              "[5 rows x 26 columns]"
            ]
          },
          "metadata": {},
          "execution_count": 29
        }
      ]
    },
    {
      "cell_type": "code",
      "metadata": {
        "colab": {
          "base_uri": "https://localhost:8080/",
          "height": 1000
        },
        "id": "o3a8LH7PGvrx",
        "outputId": "3286742b-645f-4418-ed3f-901d3190e37d"
      },
      "source": [
        "college[college['STABBR'] == \"CA\"].sort_values(by='UGDS', ascending=False)[0:15]"
      ],
      "execution_count": null,
      "outputs": [
        {
          "output_type": "execute_result",
          "data": {
            "text/html": [
              "<div>\n",
              "<style scoped>\n",
              "    .dataframe tbody tr th:only-of-type {\n",
              "        vertical-align: middle;\n",
              "    }\n",
              "\n",
              "    .dataframe tbody tr th {\n",
              "        vertical-align: top;\n",
              "    }\n",
              "\n",
              "    .dataframe thead th {\n",
              "        text-align: right;\n",
              "    }\n",
              "</style>\n",
              "<table border=\"1\" class=\"dataframe\">\n",
              "  <thead>\n",
              "    <tr style=\"text-align: right;\">\n",
              "      <th></th>\n",
              "      <th>CITY</th>\n",
              "      <th>STABBR</th>\n",
              "      <th>HBCU</th>\n",
              "      <th>MENONLY</th>\n",
              "      <th>WOMENONLY</th>\n",
              "      <th>RELAFFIL</th>\n",
              "      <th>SATVRMID</th>\n",
              "      <th>SATMTMID</th>\n",
              "      <th>DISTANCEONLY</th>\n",
              "      <th>UGDS</th>\n",
              "      <th>UGDS_WHITE</th>\n",
              "      <th>UGDS_BLACK</th>\n",
              "      <th>UGDS_HISP</th>\n",
              "      <th>UGDS_ASIAN</th>\n",
              "      <th>UGDS_AIAN</th>\n",
              "      <th>UGDS_NHPI</th>\n",
              "      <th>UGDS_2MOR</th>\n",
              "      <th>UGDS_NRA</th>\n",
              "      <th>UGDS_UNKN</th>\n",
              "      <th>PPTUG_EF</th>\n",
              "      <th>CURROPER</th>\n",
              "      <th>PCTPELL</th>\n",
              "      <th>PCTFLOAN</th>\n",
              "      <th>UG25ABV</th>\n",
              "      <th>MD_EARN_WNE_P10</th>\n",
              "      <th>GRAD_DEBT_MDN_SUPP</th>\n",
              "    </tr>\n",
              "    <tr>\n",
              "      <th>INSTNM</th>\n",
              "      <th></th>\n",
              "      <th></th>\n",
              "      <th></th>\n",
              "      <th></th>\n",
              "      <th></th>\n",
              "      <th></th>\n",
              "      <th></th>\n",
              "      <th></th>\n",
              "      <th></th>\n",
              "      <th></th>\n",
              "      <th></th>\n",
              "      <th></th>\n",
              "      <th></th>\n",
              "      <th></th>\n",
              "      <th></th>\n",
              "      <th></th>\n",
              "      <th></th>\n",
              "      <th></th>\n",
              "      <th></th>\n",
              "      <th></th>\n",
              "      <th></th>\n",
              "      <th></th>\n",
              "      <th></th>\n",
              "      <th></th>\n",
              "      <th></th>\n",
              "      <th></th>\n",
              "    </tr>\n",
              "  </thead>\n",
              "  <tbody>\n",
              "    <tr>\n",
              "      <th>Ashford University</th>\n",
              "      <td>San Diego</td>\n",
              "      <td>CA</td>\n",
              "      <td>0.0</td>\n",
              "      <td>0.0</td>\n",
              "      <td>0.0</td>\n",
              "      <td>0</td>\n",
              "      <td>NaN</td>\n",
              "      <td>NaN</td>\n",
              "      <td>0.0</td>\n",
              "      <td>44744.0</td>\n",
              "      <td>0.4709</td>\n",
              "      <td>0.3530</td>\n",
              "      <td>0.0953</td>\n",
              "      <td>0.0118</td>\n",
              "      <td>0.0098</td>\n",
              "      <td>0.0080</td>\n",
              "      <td>0.0299</td>\n",
              "      <td>0.0020</td>\n",
              "      <td>0.0192</td>\n",
              "      <td>0.0003</td>\n",
              "      <td>1</td>\n",
              "      <td>0.5944</td>\n",
              "      <td>0.7203</td>\n",
              "      <td>0.8997</td>\n",
              "      <td>39100</td>\n",
              "      <td>32823</td>\n",
              "    </tr>\n",
              "    <tr>\n",
              "      <th>California State University-Northridge</th>\n",
              "      <td>Northridge</td>\n",
              "      <td>CA</td>\n",
              "      <td>0.0</td>\n",
              "      <td>0.0</td>\n",
              "      <td>0.0</td>\n",
              "      <td>0</td>\n",
              "      <td>455.0</td>\n",
              "      <td>460.0</td>\n",
              "      <td>0.0</td>\n",
              "      <td>35409.0</td>\n",
              "      <td>0.2446</td>\n",
              "      <td>0.0566</td>\n",
              "      <td>0.4181</td>\n",
              "      <td>0.1125</td>\n",
              "      <td>0.0015</td>\n",
              "      <td>0.0021</td>\n",
              "      <td>0.0331</td>\n",
              "      <td>0.0827</td>\n",
              "      <td>0.0489</td>\n",
              "      <td>0.1733</td>\n",
              "      <td>1</td>\n",
              "      <td>0.5227</td>\n",
              "      <td>0.3438</td>\n",
              "      <td>0.1936</td>\n",
              "      <td>43100</td>\n",
              "      <td>15000</td>\n",
              "    </tr>\n",
              "    <tr>\n",
              "      <th>California State University-Fullerton</th>\n",
              "      <td>Fullerton</td>\n",
              "      <td>CA</td>\n",
              "      <td>0.0</td>\n",
              "      <td>0.0</td>\n",
              "      <td>0.0</td>\n",
              "      <td>0</td>\n",
              "      <td>500.0</td>\n",
              "      <td>525.0</td>\n",
              "      <td>0.0</td>\n",
              "      <td>32610.0</td>\n",
              "      <td>0.2397</td>\n",
              "      <td>0.0205</td>\n",
              "      <td>0.3857</td>\n",
              "      <td>0.2158</td>\n",
              "      <td>0.0018</td>\n",
              "      <td>0.0021</td>\n",
              "      <td>0.0423</td>\n",
              "      <td>0.0539</td>\n",
              "      <td>0.0382</td>\n",
              "      <td>0.1817</td>\n",
              "      <td>1</td>\n",
              "      <td>0.4430</td>\n",
              "      <td>0.3308</td>\n",
              "      <td>0.1981</td>\n",
              "      <td>45000</td>\n",
              "      <td>14944</td>\n",
              "    </tr>\n",
              "    <tr>\n",
              "      <th>East Los Angeles College</th>\n",
              "      <td>Monterey Park</td>\n",
              "      <td>CA</td>\n",
              "      <td>0.0</td>\n",
              "      <td>0.0</td>\n",
              "      <td>0.0</td>\n",
              "      <td>0</td>\n",
              "      <td>NaN</td>\n",
              "      <td>NaN</td>\n",
              "      <td>0.0</td>\n",
              "      <td>32173.0</td>\n",
              "      <td>0.0709</td>\n",
              "      <td>0.0444</td>\n",
              "      <td>0.6459</td>\n",
              "      <td>0.1024</td>\n",
              "      <td>0.0020</td>\n",
              "      <td>0.0019</td>\n",
              "      <td>0.0036</td>\n",
              "      <td>0.0219</td>\n",
              "      <td>0.1071</td>\n",
              "      <td>0.7620</td>\n",
              "      <td>1</td>\n",
              "      <td>0.2592</td>\n",
              "      <td>0.0137</td>\n",
              "      <td>0.5135</td>\n",
              "      <td>30400</td>\n",
              "      <td>8000</td>\n",
              "    </tr>\n",
              "    <tr>\n",
              "      <th>California State University-Long Beach</th>\n",
              "      <td>Long Beach</td>\n",
              "      <td>CA</td>\n",
              "      <td>0.0</td>\n",
              "      <td>0.0</td>\n",
              "      <td>0.0</td>\n",
              "      <td>0</td>\n",
              "      <td>515.0</td>\n",
              "      <td>540.0</td>\n",
              "      <td>0.0</td>\n",
              "      <td>31494.0</td>\n",
              "      <td>0.1998</td>\n",
              "      <td>0.0380</td>\n",
              "      <td>0.3791</td>\n",
              "      <td>0.2318</td>\n",
              "      <td>0.0050</td>\n",
              "      <td>0.0039</td>\n",
              "      <td>0.0458</td>\n",
              "      <td>0.0571</td>\n",
              "      <td>0.0395</td>\n",
              "      <td>0.1397</td>\n",
              "      <td>1</td>\n",
              "      <td>0.4974</td>\n",
              "      <td>0.3907</td>\n",
              "      <td>0.1708</td>\n",
              "      <td>46500</td>\n",
              "      <td>15446</td>\n",
              "    </tr>\n",
              "    <tr>\n",
              "      <th>University of California-Los Angeles</th>\n",
              "      <td>Los Angeles</td>\n",
              "      <td>CA</td>\n",
              "      <td>0.0</td>\n",
              "      <td>0.0</td>\n",
              "      <td>0.0</td>\n",
              "      <td>0</td>\n",
              "      <td>645.0</td>\n",
              "      <td>680.0</td>\n",
              "      <td>0.0</td>\n",
              "      <td>29627.0</td>\n",
              "      <td>0.2784</td>\n",
              "      <td>0.0279</td>\n",
              "      <td>0.1964</td>\n",
              "      <td>0.2997</td>\n",
              "      <td>0.0014</td>\n",
              "      <td>0.0032</td>\n",
              "      <td>0.0476</td>\n",
              "      <td>0.1259</td>\n",
              "      <td>0.0194</td>\n",
              "      <td>0.0203</td>\n",
              "      <td>1</td>\n",
              "      <td>0.3588</td>\n",
              "      <td>0.3626</td>\n",
              "      <td>0.0532</td>\n",
              "      <td>59600</td>\n",
              "      <td>16126</td>\n",
              "    </tr>\n",
              "    <tr>\n",
              "      <th>San Diego State University</th>\n",
              "      <td>San Diego</td>\n",
              "      <td>CA</td>\n",
              "      <td>0.0</td>\n",
              "      <td>0.0</td>\n",
              "      <td>0.0</td>\n",
              "      <td>0</td>\n",
              "      <td>545.0</td>\n",
              "      <td>565.0</td>\n",
              "      <td>0.0</td>\n",
              "      <td>27824.0</td>\n",
              "      <td>0.3501</td>\n",
              "      <td>0.0362</td>\n",
              "      <td>0.3104</td>\n",
              "      <td>0.1326</td>\n",
              "      <td>0.0025</td>\n",
              "      <td>0.0026</td>\n",
              "      <td>0.0639</td>\n",
              "      <td>0.0482</td>\n",
              "      <td>0.0536</td>\n",
              "      <td>0.1061</td>\n",
              "      <td>1</td>\n",
              "      <td>0.3978</td>\n",
              "      <td>0.3683</td>\n",
              "      <td>0.1651</td>\n",
              "      <td>47400</td>\n",
              "      <td>15998</td>\n",
              "    </tr>\n",
              "    <tr>\n",
              "      <th>Santa Monica College</th>\n",
              "      <td>Santa Monica</td>\n",
              "      <td>CA</td>\n",
              "      <td>0.0</td>\n",
              "      <td>0.0</td>\n",
              "      <td>0.0</td>\n",
              "      <td>0</td>\n",
              "      <td>NaN</td>\n",
              "      <td>NaN</td>\n",
              "      <td>0.0</td>\n",
              "      <td>27795.0</td>\n",
              "      <td>0.2558</td>\n",
              "      <td>0.0893</td>\n",
              "      <td>0.3796</td>\n",
              "      <td>0.1051</td>\n",
              "      <td>0.0019</td>\n",
              "      <td>0.0025</td>\n",
              "      <td>0.0393</td>\n",
              "      <td>0.1142</td>\n",
              "      <td>0.0123</td>\n",
              "      <td>0.6164</td>\n",
              "      <td>1</td>\n",
              "      <td>0.2577</td>\n",
              "      <td>0.0125</td>\n",
              "      <td>0.2787</td>\n",
              "      <td>31700</td>\n",
              "      <td>8000</td>\n",
              "    </tr>\n",
              "    <tr>\n",
              "      <th>University of California-Davis</th>\n",
              "      <td>Davis</td>\n",
              "      <td>CA</td>\n",
              "      <td>0.0</td>\n",
              "      <td>0.0</td>\n",
              "      <td>0.0</td>\n",
              "      <td>0</td>\n",
              "      <td>575.0</td>\n",
              "      <td>630.0</td>\n",
              "      <td>0.0</td>\n",
              "      <td>27547.0</td>\n",
              "      <td>0.2967</td>\n",
              "      <td>0.0209</td>\n",
              "      <td>0.1834</td>\n",
              "      <td>0.3420</td>\n",
              "      <td>0.0017</td>\n",
              "      <td>0.0049</td>\n",
              "      <td>0.0539</td>\n",
              "      <td>0.0816</td>\n",
              "      <td>0.0150</td>\n",
              "      <td>0.0274</td>\n",
              "      <td>1</td>\n",
              "      <td>0.4284</td>\n",
              "      <td>0.4191</td>\n",
              "      <td>0.0571</td>\n",
              "      <td>56400</td>\n",
              "      <td>14833</td>\n",
              "    </tr>\n",
              "    <tr>\n",
              "      <th>Santa Ana College</th>\n",
              "      <td>Santa Ana</td>\n",
              "      <td>CA</td>\n",
              "      <td>0.0</td>\n",
              "      <td>0.0</td>\n",
              "      <td>0.0</td>\n",
              "      <td>0</td>\n",
              "      <td>NaN</td>\n",
              "      <td>NaN</td>\n",
              "      <td>0.0</td>\n",
              "      <td>27443.0</td>\n",
              "      <td>0.2201</td>\n",
              "      <td>0.0145</td>\n",
              "      <td>0.5003</td>\n",
              "      <td>0.0829</td>\n",
              "      <td>0.0027</td>\n",
              "      <td>0.0031</td>\n",
              "      <td>0.0143</td>\n",
              "      <td>0.0095</td>\n",
              "      <td>0.1526</td>\n",
              "      <td>0.8226</td>\n",
              "      <td>1</td>\n",
              "      <td>0.1254</td>\n",
              "      <td>0.0074</td>\n",
              "      <td>0.5899</td>\n",
              "      <td>32400</td>\n",
              "      <td>10500</td>\n",
              "    </tr>\n",
              "    <tr>\n",
              "      <th>University of California-Berkeley</th>\n",
              "      <td>Berkeley</td>\n",
              "      <td>CA</td>\n",
              "      <td>0.0</td>\n",
              "      <td>0.0</td>\n",
              "      <td>0.0</td>\n",
              "      <td>0</td>\n",
              "      <td>665.0</td>\n",
              "      <td>705.0</td>\n",
              "      <td>0.0</td>\n",
              "      <td>27126.0</td>\n",
              "      <td>0.2758</td>\n",
              "      <td>0.0209</td>\n",
              "      <td>0.1384</td>\n",
              "      <td>0.3509</td>\n",
              "      <td>0.0016</td>\n",
              "      <td>0.0027</td>\n",
              "      <td>0.0471</td>\n",
              "      <td>0.1373</td>\n",
              "      <td>0.0254</td>\n",
              "      <td>0.0297</td>\n",
              "      <td>1</td>\n",
              "      <td>0.3143</td>\n",
              "      <td>0.2698</td>\n",
              "      <td>0.0621</td>\n",
              "      <td>60800</td>\n",
              "      <td>14200</td>\n",
              "    </tr>\n",
              "    <tr>\n",
              "      <th>American River College</th>\n",
              "      <td>Sacramento</td>\n",
              "      <td>CA</td>\n",
              "      <td>0.0</td>\n",
              "      <td>0.0</td>\n",
              "      <td>0.0</td>\n",
              "      <td>0</td>\n",
              "      <td>NaN</td>\n",
              "      <td>NaN</td>\n",
              "      <td>0.0</td>\n",
              "      <td>26803.0</td>\n",
              "      <td>0.4695</td>\n",
              "      <td>0.0989</td>\n",
              "      <td>0.2063</td>\n",
              "      <td>0.1063</td>\n",
              "      <td>0.0076</td>\n",
              "      <td>0.0085</td>\n",
              "      <td>0.0587</td>\n",
              "      <td>0.0057</td>\n",
              "      <td>0.0385</td>\n",
              "      <td>0.7447</td>\n",
              "      <td>1</td>\n",
              "      <td>0.2843</td>\n",
              "      <td>0.0560</td>\n",
              "      <td>0.5035</td>\n",
              "      <td>28400</td>\n",
              "      <td>11410</td>\n",
              "    </tr>\n",
              "    <tr>\n",
              "      <th>San Jose State University</th>\n",
              "      <td>San Jose</td>\n",
              "      <td>CA</td>\n",
              "      <td>0.0</td>\n",
              "      <td>0.0</td>\n",
              "      <td>0.0</td>\n",
              "      <td>0</td>\n",
              "      <td>505.0</td>\n",
              "      <td>535.0</td>\n",
              "      <td>0.0</td>\n",
              "      <td>26528.0</td>\n",
              "      <td>0.2098</td>\n",
              "      <td>0.0342</td>\n",
              "      <td>0.2488</td>\n",
              "      <td>0.3567</td>\n",
              "      <td>0.0014</td>\n",
              "      <td>0.0078</td>\n",
              "      <td>0.0520</td>\n",
              "      <td>0.0526</td>\n",
              "      <td>0.0366</td>\n",
              "      <td>0.1979</td>\n",
              "      <td>1</td>\n",
              "      <td>0.4162</td>\n",
              "      <td>0.3501</td>\n",
              "      <td>0.1993</td>\n",
              "      <td>53700</td>\n",
              "      <td>15628</td>\n",
              "    </tr>\n",
              "    <tr>\n",
              "      <th>Mt San Antonio College</th>\n",
              "      <td>Walnut</td>\n",
              "      <td>CA</td>\n",
              "      <td>0.0</td>\n",
              "      <td>0.0</td>\n",
              "      <td>0.0</td>\n",
              "      <td>0</td>\n",
              "      <td>NaN</td>\n",
              "      <td>NaN</td>\n",
              "      <td>0.0</td>\n",
              "      <td>26463.0</td>\n",
              "      <td>0.1239</td>\n",
              "      <td>0.0420</td>\n",
              "      <td>0.5925</td>\n",
              "      <td>0.1783</td>\n",
              "      <td>0.0016</td>\n",
              "      <td>0.0028</td>\n",
              "      <td>0.0303</td>\n",
              "      <td>0.0182</td>\n",
              "      <td>0.0103</td>\n",
              "      <td>0.6106</td>\n",
              "      <td>1</td>\n",
              "      <td>0.3780</td>\n",
              "      <td>0.0111</td>\n",
              "      <td>0.2939</td>\n",
              "      <td>33500</td>\n",
              "      <td>5250</td>\n",
              "    </tr>\n",
              "    <tr>\n",
              "      <th>California State University-Sacramento</th>\n",
              "      <td>Sacramento</td>\n",
              "      <td>CA</td>\n",
              "      <td>0.0</td>\n",
              "      <td>0.0</td>\n",
              "      <td>0.0</td>\n",
              "      <td>0</td>\n",
              "      <td>465.0</td>\n",
              "      <td>475.0</td>\n",
              "      <td>0.0</td>\n",
              "      <td>26400.0</td>\n",
              "      <td>0.3028</td>\n",
              "      <td>0.0567</td>\n",
              "      <td>0.2760</td>\n",
              "      <td>0.2112</td>\n",
              "      <td>0.0041</td>\n",
              "      <td>0.0091</td>\n",
              "      <td>0.0628</td>\n",
              "      <td>0.0181</td>\n",
              "      <td>0.0592</td>\n",
              "      <td>0.1934</td>\n",
              "      <td>1</td>\n",
              "      <td>0.5366</td>\n",
              "      <td>0.3994</td>\n",
              "      <td>0.2521</td>\n",
              "      <td>46100</td>\n",
              "      <td>16500</td>\n",
              "    </tr>\n",
              "  </tbody>\n",
              "</table>\n",
              "</div>"
            ],
            "text/plain": [
              "                                                 CITY  ... GRAD_DEBT_MDN_SUPP\n",
              "INSTNM                                                 ...                   \n",
              "Ashford University                          San Diego  ...              32823\n",
              "California State University-Northridge     Northridge  ...              15000\n",
              "California State University-Fullerton       Fullerton  ...              14944\n",
              "East Los Angeles College                Monterey Park  ...               8000\n",
              "California State University-Long Beach     Long Beach  ...              15446\n",
              "University of California-Los Angeles      Los Angeles  ...              16126\n",
              "San Diego State University                  San Diego  ...              15998\n",
              "Santa Monica College                     Santa Monica  ...               8000\n",
              "University of California-Davis                  Davis  ...              14833\n",
              "Santa Ana College                           Santa Ana  ...              10500\n",
              "University of California-Berkeley            Berkeley  ...              14200\n",
              "American River College                     Sacramento  ...              11410\n",
              "San Jose State University                    San Jose  ...              15628\n",
              "Mt San Antonio College                         Walnut  ...               5250\n",
              "California State University-Sacramento     Sacramento  ...              16500\n",
              "\n",
              "[15 rows x 26 columns]"
            ]
          },
          "metadata": {},
          "execution_count": 39
        }
      ]
    },
    {
      "cell_type": "code",
      "metadata": {
        "colab": {
          "base_uri": "https://localhost:8080/",
          "height": 198
        },
        "id": "G_78SCsLGyYS",
        "outputId": "0ecf9000-dd22-4173-96ed-3a9d44c958e1"
      },
      "source": [
        "np.nan == np.nan"
      ],
      "execution_count": null,
      "outputs": [
        {
          "output_type": "error",
          "ename": "NameError",
          "evalue": "ignored",
          "traceback": [
            "\u001b[0;31m---------------------------------------------------------------------------\u001b[0m",
            "\u001b[0;31mNameError\u001b[0m                                 Traceback (most recent call last)",
            "\u001b[0;32m<ipython-input-1-b8a58fdd7199>\u001b[0m in \u001b[0;36m<module>\u001b[0;34m()\u001b[0m\n\u001b[0;32m----> 1\u001b[0;31m \u001b[0mnp\u001b[0m\u001b[0;34m.\u001b[0m\u001b[0mnan\u001b[0m \u001b[0;34m==\u001b[0m \u001b[0mnp\u001b[0m\u001b[0;34m.\u001b[0m\u001b[0mnan\u001b[0m\u001b[0;34m\u001b[0m\u001b[0;34m\u001b[0m\u001b[0m\n\u001b[0m",
            "\u001b[0;31mNameError\u001b[0m: name 'np' is not defined"
          ]
        }
      ]
    },
    {
      "cell_type": "code",
      "metadata": {
        "id": "_1LjlKDyWj9p"
      },
      "source": [
        ""
      ],
      "execution_count": null,
      "outputs": []
    }
  ]
}